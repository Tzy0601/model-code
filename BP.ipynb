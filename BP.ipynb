{
 "cells": [
  {
   "cell_type": "code",
   "metadata": {
    "ExecuteTime": {
     "end_time": "2025-04-20T05:13:21.213577Z",
     "start_time": "2025-04-20T05:13:19.936290Z"
    }
   },
   "source": [
    "import keras.optimizers\n",
    "import numpy as np\n",
    "import pandas as pd\n",
    "import matplotlib.pyplot as plt\n",
    "#导入必要的库"
   ],
   "outputs": [
    {
     "ename": "TypeError",
     "evalue": "Descriptors cannot be created directly.\nIf this call came from a _pb2.py file, your generated code is out of date and must be regenerated with protoc >= 3.19.0.\nIf you cannot immediately regenerate your protos, some other possible workarounds are:\n 1. Downgrade the protobuf package to 3.20.x or lower.\n 2. Set PROTOCOL_BUFFERS_PYTHON_IMPLEMENTATION=python (but this will use pure-Python parsing and will be much slower).\n\nMore information: https://developers.google.com/protocol-buffers/docs/news/2022-05-06#python-updates",
     "output_type": "error",
     "traceback": [
      "\u001B[1;31m---------------------------------------------------------------------------\u001B[0m",
      "\u001B[1;31mTypeError\u001B[0m                                 Traceback (most recent call last)",
      "Input \u001B[1;32mIn [1]\u001B[0m, in \u001B[0;36m<cell line: 1>\u001B[1;34m()\u001B[0m\n\u001B[1;32m----> 1\u001B[0m \u001B[38;5;28;01mimport\u001B[39;00m \u001B[38;5;21;01mkeras\u001B[39;00m\u001B[38;5;21;01m.\u001B[39;00m\u001B[38;5;21;01moptimizers\u001B[39;00m\n\u001B[0;32m      2\u001B[0m \u001B[38;5;28;01mimport\u001B[39;00m \u001B[38;5;21;01mnumpy\u001B[39;00m \u001B[38;5;28;01mas\u001B[39;00m \u001B[38;5;21;01mnp\u001B[39;00m\n\u001B[0;32m      3\u001B[0m \u001B[38;5;28;01mimport\u001B[39;00m \u001B[38;5;21;01mpandas\u001B[39;00m \u001B[38;5;28;01mas\u001B[39;00m \u001B[38;5;21;01mpd\u001B[39;00m\n",
      "File \u001B[1;32m~\\AppData\\Local\\Programs\\Python\\Python39\\lib\\site-packages\\keras\\__init__.py:21\u001B[0m, in \u001B[0;36m<module>\u001B[1;34m\u001B[0m\n\u001B[0;32m     15\u001B[0m \u001B[38;5;124;03m\"\"\"Implementation of the Keras API, the high-level API of TensorFlow.\u001B[39;00m\n\u001B[0;32m     16\u001B[0m \n\u001B[0;32m     17\u001B[0m \u001B[38;5;124;03mDetailed documentation and user guides are available at\u001B[39;00m\n\u001B[0;32m     18\u001B[0m \u001B[38;5;124;03m[keras.io](https://keras.io).\u001B[39;00m\n\u001B[0;32m     19\u001B[0m \u001B[38;5;124;03m\"\"\"\u001B[39;00m\n\u001B[0;32m     20\u001B[0m \u001B[38;5;66;03m# pylint: disable=unused-import\u001B[39;00m\n\u001B[1;32m---> 21\u001B[0m \u001B[38;5;28;01mfrom\u001B[39;00m \u001B[38;5;21;01mtensorflow\u001B[39;00m\u001B[38;5;21;01m.\u001B[39;00m\u001B[38;5;21;01mpython\u001B[39;00m \u001B[38;5;28;01mimport\u001B[39;00m tf2\n\u001B[0;32m     22\u001B[0m \u001B[38;5;28;01mfrom\u001B[39;00m \u001B[38;5;21;01mkeras\u001B[39;00m \u001B[38;5;28;01mimport\u001B[39;00m distribute\n\u001B[0;32m     24\u001B[0m \u001B[38;5;66;03m# See b/110718070#comment18 for more details about this import.\u001B[39;00m\n",
      "File \u001B[1;32m~\\AppData\\Local\\Programs\\Python\\Python39\\lib\\site-packages\\tensorflow\\__init__.py:41\u001B[0m, in \u001B[0;36m<module>\u001B[1;34m\u001B[0m\n\u001B[0;32m     38\u001B[0m \u001B[38;5;28;01mimport\u001B[39;00m \u001B[38;5;21;01msix\u001B[39;00m \u001B[38;5;28;01mas\u001B[39;00m \u001B[38;5;21;01m_six\u001B[39;00m\n\u001B[0;32m     39\u001B[0m \u001B[38;5;28;01mimport\u001B[39;00m \u001B[38;5;21;01msys\u001B[39;00m \u001B[38;5;28;01mas\u001B[39;00m \u001B[38;5;21;01m_sys\u001B[39;00m\n\u001B[1;32m---> 41\u001B[0m \u001B[38;5;28;01mfrom\u001B[39;00m \u001B[38;5;21;01mtensorflow\u001B[39;00m\u001B[38;5;21;01m.\u001B[39;00m\u001B[38;5;21;01mpython\u001B[39;00m\u001B[38;5;21;01m.\u001B[39;00m\u001B[38;5;21;01mtools\u001B[39;00m \u001B[38;5;28;01mimport\u001B[39;00m module_util \u001B[38;5;28;01mas\u001B[39;00m _module_util\n\u001B[0;32m     42\u001B[0m \u001B[38;5;28;01mfrom\u001B[39;00m \u001B[38;5;21;01mtensorflow\u001B[39;00m\u001B[38;5;21;01m.\u001B[39;00m\u001B[38;5;21;01mpython\u001B[39;00m\u001B[38;5;21;01m.\u001B[39;00m\u001B[38;5;21;01mutil\u001B[39;00m\u001B[38;5;21;01m.\u001B[39;00m\u001B[38;5;21;01mlazy_loader\u001B[39;00m \u001B[38;5;28;01mimport\u001B[39;00m LazyLoader \u001B[38;5;28;01mas\u001B[39;00m _LazyLoader\n\u001B[0;32m     44\u001B[0m \u001B[38;5;66;03m# Make sure code inside the TensorFlow codebase can use tf2.enabled() at import.\u001B[39;00m\n",
      "File \u001B[1;32m~\\AppData\\Local\\Programs\\Python\\Python39\\lib\\site-packages\\tensorflow\\python\\__init__.py:40\u001B[0m, in \u001B[0;36m<module>\u001B[1;34m\u001B[0m\n\u001B[0;32m     31\u001B[0m \u001B[38;5;28;01mimport\u001B[39;00m \u001B[38;5;21;01mtraceback\u001B[39;00m\n\u001B[0;32m     33\u001B[0m \u001B[38;5;66;03m# We aim to keep this file minimal and ideally remove completely.\u001B[39;00m\n\u001B[0;32m     34\u001B[0m \u001B[38;5;66;03m# If you are adding a new file with @tf_export decorators,\u001B[39;00m\n\u001B[0;32m     35\u001B[0m \u001B[38;5;66;03m# import it in modules_with_exports.py instead.\u001B[39;00m\n\u001B[0;32m     36\u001B[0m \n\u001B[0;32m     37\u001B[0m \u001B[38;5;66;03m# go/tf-wildcard-import\u001B[39;00m\n\u001B[0;32m     38\u001B[0m \u001B[38;5;66;03m# pylint: disable=wildcard-import,g-bad-import-order,g-import-not-at-top\u001B[39;00m\n\u001B[1;32m---> 40\u001B[0m \u001B[38;5;28;01mfrom\u001B[39;00m \u001B[38;5;21;01mtensorflow\u001B[39;00m\u001B[38;5;21;01m.\u001B[39;00m\u001B[38;5;21;01mpython\u001B[39;00m\u001B[38;5;21;01m.\u001B[39;00m\u001B[38;5;21;01meager\u001B[39;00m \u001B[38;5;28;01mimport\u001B[39;00m context\n\u001B[0;32m     41\u001B[0m \u001B[38;5;28;01mfrom\u001B[39;00m \u001B[38;5;21;01mtensorflow\u001B[39;00m\u001B[38;5;21;01m.\u001B[39;00m\u001B[38;5;21;01mpython\u001B[39;00m \u001B[38;5;28;01mimport\u001B[39;00m pywrap_tensorflow \u001B[38;5;28;01mas\u001B[39;00m _pywrap_tensorflow\n\u001B[0;32m     43\u001B[0m \u001B[38;5;66;03m# pylint: enable=wildcard-import\u001B[39;00m\n\u001B[0;32m     44\u001B[0m \n\u001B[0;32m     45\u001B[0m \u001B[38;5;66;03m# Bring in subpackages.\u001B[39;00m\n",
      "File \u001B[1;32m~\\AppData\\Local\\Programs\\Python\\Python39\\lib\\site-packages\\tensorflow\\python\\eager\\context.py:32\u001B[0m, in \u001B[0;36m<module>\u001B[1;34m\u001B[0m\n\u001B[0;32m     29\u001B[0m \u001B[38;5;28;01mimport\u001B[39;00m \u001B[38;5;21;01mnumpy\u001B[39;00m \u001B[38;5;28;01mas\u001B[39;00m \u001B[38;5;21;01mnp\u001B[39;00m\n\u001B[0;32m     30\u001B[0m \u001B[38;5;28;01mimport\u001B[39;00m \u001B[38;5;21;01msix\u001B[39;00m\n\u001B[1;32m---> 32\u001B[0m \u001B[38;5;28;01mfrom\u001B[39;00m \u001B[38;5;21;01mtensorflow\u001B[39;00m\u001B[38;5;21;01m.\u001B[39;00m\u001B[38;5;21;01mcore\u001B[39;00m\u001B[38;5;21;01m.\u001B[39;00m\u001B[38;5;21;01mframework\u001B[39;00m \u001B[38;5;28;01mimport\u001B[39;00m function_pb2\n\u001B[0;32m     33\u001B[0m \u001B[38;5;28;01mfrom\u001B[39;00m \u001B[38;5;21;01mtensorflow\u001B[39;00m\u001B[38;5;21;01m.\u001B[39;00m\u001B[38;5;21;01mcore\u001B[39;00m\u001B[38;5;21;01m.\u001B[39;00m\u001B[38;5;21;01mprotobuf\u001B[39;00m \u001B[38;5;28;01mimport\u001B[39;00m config_pb2\n\u001B[0;32m     34\u001B[0m \u001B[38;5;28;01mfrom\u001B[39;00m \u001B[38;5;21;01mtensorflow\u001B[39;00m\u001B[38;5;21;01m.\u001B[39;00m\u001B[38;5;21;01mcore\u001B[39;00m\u001B[38;5;21;01m.\u001B[39;00m\u001B[38;5;21;01mprotobuf\u001B[39;00m \u001B[38;5;28;01mimport\u001B[39;00m rewriter_config_pb2\n",
      "File \u001B[1;32m~\\AppData\\Local\\Programs\\Python\\Python39\\lib\\site-packages\\tensorflow\\core\\framework\\function_pb2.py:16\u001B[0m, in \u001B[0;36m<module>\u001B[1;34m\u001B[0m\n\u001B[0;32m     11\u001B[0m \u001B[38;5;66;03m# @@protoc_insertion_point(imports)\u001B[39;00m\n\u001B[0;32m     13\u001B[0m _sym_db \u001B[38;5;241m=\u001B[39m _symbol_database\u001B[38;5;241m.\u001B[39mDefault()\n\u001B[1;32m---> 16\u001B[0m \u001B[38;5;28;01mfrom\u001B[39;00m \u001B[38;5;21;01mtensorflow\u001B[39;00m\u001B[38;5;21;01m.\u001B[39;00m\u001B[38;5;21;01mcore\u001B[39;00m\u001B[38;5;21;01m.\u001B[39;00m\u001B[38;5;21;01mframework\u001B[39;00m \u001B[38;5;28;01mimport\u001B[39;00m attr_value_pb2 \u001B[38;5;28;01mas\u001B[39;00m tensorflow_dot_core_dot_framework_dot_attr__value__pb2\n\u001B[0;32m     17\u001B[0m \u001B[38;5;28;01mfrom\u001B[39;00m \u001B[38;5;21;01mtensorflow\u001B[39;00m\u001B[38;5;21;01m.\u001B[39;00m\u001B[38;5;21;01mcore\u001B[39;00m\u001B[38;5;21;01m.\u001B[39;00m\u001B[38;5;21;01mframework\u001B[39;00m \u001B[38;5;28;01mimport\u001B[39;00m node_def_pb2 \u001B[38;5;28;01mas\u001B[39;00m tensorflow_dot_core_dot_framework_dot_node__def__pb2\n\u001B[0;32m     18\u001B[0m \u001B[38;5;28;01mfrom\u001B[39;00m \u001B[38;5;21;01mtensorflow\u001B[39;00m\u001B[38;5;21;01m.\u001B[39;00m\u001B[38;5;21;01mcore\u001B[39;00m\u001B[38;5;21;01m.\u001B[39;00m\u001B[38;5;21;01mframework\u001B[39;00m \u001B[38;5;28;01mimport\u001B[39;00m op_def_pb2 \u001B[38;5;28;01mas\u001B[39;00m tensorflow_dot_core_dot_framework_dot_op__def__pb2\n",
      "File \u001B[1;32m~\\AppData\\Local\\Programs\\Python\\Python39\\lib\\site-packages\\tensorflow\\core\\framework\\attr_value_pb2.py:16\u001B[0m, in \u001B[0;36m<module>\u001B[1;34m\u001B[0m\n\u001B[0;32m     11\u001B[0m \u001B[38;5;66;03m# @@protoc_insertion_point(imports)\u001B[39;00m\n\u001B[0;32m     13\u001B[0m _sym_db \u001B[38;5;241m=\u001B[39m _symbol_database\u001B[38;5;241m.\u001B[39mDefault()\n\u001B[1;32m---> 16\u001B[0m \u001B[38;5;28;01mfrom\u001B[39;00m \u001B[38;5;21;01mtensorflow\u001B[39;00m\u001B[38;5;21;01m.\u001B[39;00m\u001B[38;5;21;01mcore\u001B[39;00m\u001B[38;5;21;01m.\u001B[39;00m\u001B[38;5;21;01mframework\u001B[39;00m \u001B[38;5;28;01mimport\u001B[39;00m tensor_pb2 \u001B[38;5;28;01mas\u001B[39;00m tensorflow_dot_core_dot_framework_dot_tensor__pb2\n\u001B[0;32m     17\u001B[0m \u001B[38;5;28;01mfrom\u001B[39;00m \u001B[38;5;21;01mtensorflow\u001B[39;00m\u001B[38;5;21;01m.\u001B[39;00m\u001B[38;5;21;01mcore\u001B[39;00m\u001B[38;5;21;01m.\u001B[39;00m\u001B[38;5;21;01mframework\u001B[39;00m \u001B[38;5;28;01mimport\u001B[39;00m tensor_shape_pb2 \u001B[38;5;28;01mas\u001B[39;00m tensorflow_dot_core_dot_framework_dot_tensor__shape__pb2\n\u001B[0;32m     18\u001B[0m \u001B[38;5;28;01mfrom\u001B[39;00m \u001B[38;5;21;01mtensorflow\u001B[39;00m\u001B[38;5;21;01m.\u001B[39;00m\u001B[38;5;21;01mcore\u001B[39;00m\u001B[38;5;21;01m.\u001B[39;00m\u001B[38;5;21;01mframework\u001B[39;00m \u001B[38;5;28;01mimport\u001B[39;00m types_pb2 \u001B[38;5;28;01mas\u001B[39;00m tensorflow_dot_core_dot_framework_dot_types__pb2\n",
      "File \u001B[1;32m~\\AppData\\Local\\Programs\\Python\\Python39\\lib\\site-packages\\tensorflow\\core\\framework\\tensor_pb2.py:16\u001B[0m, in \u001B[0;36m<module>\u001B[1;34m\u001B[0m\n\u001B[0;32m     11\u001B[0m \u001B[38;5;66;03m# @@protoc_insertion_point(imports)\u001B[39;00m\n\u001B[0;32m     13\u001B[0m _sym_db \u001B[38;5;241m=\u001B[39m _symbol_database\u001B[38;5;241m.\u001B[39mDefault()\n\u001B[1;32m---> 16\u001B[0m \u001B[38;5;28;01mfrom\u001B[39;00m \u001B[38;5;21;01mtensorflow\u001B[39;00m\u001B[38;5;21;01m.\u001B[39;00m\u001B[38;5;21;01mcore\u001B[39;00m\u001B[38;5;21;01m.\u001B[39;00m\u001B[38;5;21;01mframework\u001B[39;00m \u001B[38;5;28;01mimport\u001B[39;00m resource_handle_pb2 \u001B[38;5;28;01mas\u001B[39;00m tensorflow_dot_core_dot_framework_dot_resource__handle__pb2\n\u001B[0;32m     17\u001B[0m \u001B[38;5;28;01mfrom\u001B[39;00m \u001B[38;5;21;01mtensorflow\u001B[39;00m\u001B[38;5;21;01m.\u001B[39;00m\u001B[38;5;21;01mcore\u001B[39;00m\u001B[38;5;21;01m.\u001B[39;00m\u001B[38;5;21;01mframework\u001B[39;00m \u001B[38;5;28;01mimport\u001B[39;00m tensor_shape_pb2 \u001B[38;5;28;01mas\u001B[39;00m tensorflow_dot_core_dot_framework_dot_tensor__shape__pb2\n\u001B[0;32m     18\u001B[0m \u001B[38;5;28;01mfrom\u001B[39;00m \u001B[38;5;21;01mtensorflow\u001B[39;00m\u001B[38;5;21;01m.\u001B[39;00m\u001B[38;5;21;01mcore\u001B[39;00m\u001B[38;5;21;01m.\u001B[39;00m\u001B[38;5;21;01mframework\u001B[39;00m \u001B[38;5;28;01mimport\u001B[39;00m types_pb2 \u001B[38;5;28;01mas\u001B[39;00m tensorflow_dot_core_dot_framework_dot_types__pb2\n",
      "File \u001B[1;32m~\\AppData\\Local\\Programs\\Python\\Python39\\lib\\site-packages\\tensorflow\\core\\framework\\resource_handle_pb2.py:16\u001B[0m, in \u001B[0;36m<module>\u001B[1;34m\u001B[0m\n\u001B[0;32m     11\u001B[0m \u001B[38;5;66;03m# @@protoc_insertion_point(imports)\u001B[39;00m\n\u001B[0;32m     13\u001B[0m _sym_db \u001B[38;5;241m=\u001B[39m _symbol_database\u001B[38;5;241m.\u001B[39mDefault()\n\u001B[1;32m---> 16\u001B[0m \u001B[38;5;28;01mfrom\u001B[39;00m \u001B[38;5;21;01mtensorflow\u001B[39;00m\u001B[38;5;21;01m.\u001B[39;00m\u001B[38;5;21;01mcore\u001B[39;00m\u001B[38;5;21;01m.\u001B[39;00m\u001B[38;5;21;01mframework\u001B[39;00m \u001B[38;5;28;01mimport\u001B[39;00m tensor_shape_pb2 \u001B[38;5;28;01mas\u001B[39;00m tensorflow_dot_core_dot_framework_dot_tensor__shape__pb2\n\u001B[0;32m     17\u001B[0m \u001B[38;5;28;01mfrom\u001B[39;00m \u001B[38;5;21;01mtensorflow\u001B[39;00m\u001B[38;5;21;01m.\u001B[39;00m\u001B[38;5;21;01mcore\u001B[39;00m\u001B[38;5;21;01m.\u001B[39;00m\u001B[38;5;21;01mframework\u001B[39;00m \u001B[38;5;28;01mimport\u001B[39;00m types_pb2 \u001B[38;5;28;01mas\u001B[39;00m tensorflow_dot_core_dot_framework_dot_types__pb2\n\u001B[0;32m     20\u001B[0m DESCRIPTOR \u001B[38;5;241m=\u001B[39m _descriptor\u001B[38;5;241m.\u001B[39mFileDescriptor(\n\u001B[0;32m     21\u001B[0m   name\u001B[38;5;241m=\u001B[39m\u001B[38;5;124m'\u001B[39m\u001B[38;5;124mtensorflow/core/framework/resource_handle.proto\u001B[39m\u001B[38;5;124m'\u001B[39m,\n\u001B[0;32m     22\u001B[0m   package\u001B[38;5;241m=\u001B[39m\u001B[38;5;124m'\u001B[39m\u001B[38;5;124mtensorflow\u001B[39m\u001B[38;5;124m'\u001B[39m,\n\u001B[1;32m   (...)\u001B[0m\n\u001B[0;32m     26\u001B[0m   ,\n\u001B[0;32m     27\u001B[0m   dependencies\u001B[38;5;241m=\u001B[39m[tensorflow_dot_core_dot_framework_dot_tensor__shape__pb2\u001B[38;5;241m.\u001B[39mDESCRIPTOR,tensorflow_dot_core_dot_framework_dot_types__pb2\u001B[38;5;241m.\u001B[39mDESCRIPTOR,])\n",
      "File \u001B[1;32m~\\AppData\\Local\\Programs\\Python\\Python39\\lib\\site-packages\\tensorflow\\core\\framework\\tensor_shape_pb2.py:36\u001B[0m, in \u001B[0;36m<module>\u001B[1;34m\u001B[0m\n\u001B[0;32m     13\u001B[0m _sym_db \u001B[38;5;241m=\u001B[39m _symbol_database\u001B[38;5;241m.\u001B[39mDefault()\n\u001B[0;32m     18\u001B[0m DESCRIPTOR \u001B[38;5;241m=\u001B[39m _descriptor\u001B[38;5;241m.\u001B[39mFileDescriptor(\n\u001B[0;32m     19\u001B[0m   name\u001B[38;5;241m=\u001B[39m\u001B[38;5;124m'\u001B[39m\u001B[38;5;124mtensorflow/core/framework/tensor_shape.proto\u001B[39m\u001B[38;5;124m'\u001B[39m,\n\u001B[0;32m     20\u001B[0m   package\u001B[38;5;241m=\u001B[39m\u001B[38;5;124m'\u001B[39m\u001B[38;5;124mtensorflow\u001B[39m\u001B[38;5;124m'\u001B[39m,\n\u001B[1;32m   (...)\u001B[0m\n\u001B[0;32m     23\u001B[0m   serialized_pb\u001B[38;5;241m=\u001B[39m_b(\u001B[38;5;124m'\u001B[39m\u001B[38;5;130;01m\\n\u001B[39;00m\u001B[38;5;124m,tensorflow/core/framework/tensor_shape.proto\u001B[39m\u001B[38;5;130;01m\\x12\u001B[39;00m\u001B[38;5;130;01m\\n\u001B[39;00m\u001B[38;5;124mtensorflow\u001B[39m\u001B[38;5;130;01m\\\"\u001B[39;00m\u001B[38;5;124mz\u001B[39m\u001B[38;5;130;01m\\n\u001B[39;00m\u001B[38;5;130;01m\\x10\u001B[39;00m\u001B[38;5;124mTensorShapeProto\u001B[39m\u001B[38;5;130;01m\\x12\u001B[39;00m\u001B[38;5;124m-\u001B[39m\u001B[38;5;130;01m\\n\u001B[39;00m\u001B[38;5;130;01m\\x03\u001B[39;00m\u001B[38;5;130;01m\\x64\u001B[39;00m\u001B[38;5;124mim\u001B[39m\u001B[38;5;130;01m\\x18\u001B[39;00m\u001B[38;5;130;01m\\x02\u001B[39;00m\u001B[38;5;124m \u001B[39m\u001B[38;5;130;01m\\x03\u001B[39;00m\u001B[38;5;124m(\u001B[39m\u001B[38;5;130;01m\\x0b\u001B[39;00m\u001B[38;5;130;01m\\x32\u001B[39;00m\u001B[38;5;124m .tensorflow.TensorShapeProto.Dim\u001B[39m\u001B[38;5;130;01m\\x12\u001B[39;00m\u001B[38;5;130;01m\\x14\u001B[39;00m\u001B[38;5;130;01m\\n\u001B[39;00m\u001B[38;5;130;01m\\x0c\u001B[39;00m\u001B[38;5;124munknown_rank\u001B[39m\u001B[38;5;130;01m\\x18\u001B[39;00m\u001B[38;5;130;01m\\x03\u001B[39;00m\u001B[38;5;124m \u001B[39m\u001B[38;5;130;01m\\x01\u001B[39;00m\u001B[38;5;124m(\u001B[39m\u001B[38;5;130;01m\\x08\u001B[39;00m\u001B[38;5;130;01m\\x1a\u001B[39;00m\u001B[38;5;124m!\u001B[39m\u001B[38;5;130;01m\\n\u001B[39;00m\u001B[38;5;130;01m\\x03\u001B[39;00m\u001B[38;5;130;01m\\x44\u001B[39;00m\u001B[38;5;124mim\u001B[39m\u001B[38;5;130;01m\\x12\u001B[39;00m\u001B[38;5;130;01m\\x0c\u001B[39;00m\u001B[38;5;130;01m\\n\u001B[39;00m\u001B[38;5;130;01m\\x04\u001B[39;00m\u001B[38;5;124msize\u001B[39m\u001B[38;5;130;01m\\x18\u001B[39;00m\u001B[38;5;130;01m\\x01\u001B[39;00m\u001B[38;5;124m \u001B[39m\u001B[38;5;130;01m\\x01\u001B[39;00m\u001B[38;5;124m(\u001B[39m\u001B[38;5;130;01m\\x03\u001B[39;00m\u001B[38;5;130;01m\\x12\u001B[39;00m\u001B[38;5;130;01m\\x0c\u001B[39;00m\u001B[38;5;130;01m\\n\u001B[39;00m\u001B[38;5;130;01m\\x04\u001B[39;00m\u001B[38;5;124mname\u001B[39m\u001B[38;5;130;01m\\x18\u001B[39;00m\u001B[38;5;130;01m\\x02\u001B[39;00m\u001B[38;5;124m \u001B[39m\u001B[38;5;130;01m\\x01\u001B[39;00m\u001B[38;5;124m(\u001B[39m\u001B[38;5;130;01m\\t\u001B[39;00m\u001B[38;5;124mB\u001B[39m\u001B[38;5;130;01m\\x87\u001B[39;00m\u001B[38;5;130;01m\\x01\u001B[39;00m\u001B[38;5;130;01m\\n\u001B[39;00m\u001B[38;5;130;01m\\x18\u001B[39;00m\u001B[38;5;124morg.tensorflow.frameworkB\u001B[39m\u001B[38;5;130;01m\\x11\u001B[39;00m\u001B[38;5;124mTensorShapeProtosP\u001B[39m\u001B[38;5;130;01m\\x01\u001B[39;00m\u001B[38;5;124mZSgithub.com/tensorflow/tensorflow/tensorflow/go/core/framework/tensor_shape_go_proto\u001B[39m\u001B[38;5;130;01m\\xf8\u001B[39;00m\u001B[38;5;130;01m\\x01\u001B[39;00m\u001B[38;5;130;01m\\x01\u001B[39;00m\u001B[38;5;130;01m\\x62\u001B[39;00m\u001B[38;5;130;01m\\x06\u001B[39;00m\u001B[38;5;124mproto3\u001B[39m\u001B[38;5;124m'\u001B[39m)\n\u001B[0;32m     24\u001B[0m )\n\u001B[0;32m     29\u001B[0m _TENSORSHAPEPROTO_DIM \u001B[38;5;241m=\u001B[39m _descriptor\u001B[38;5;241m.\u001B[39mDescriptor(\n\u001B[0;32m     30\u001B[0m   name\u001B[38;5;241m=\u001B[39m\u001B[38;5;124m'\u001B[39m\u001B[38;5;124mDim\u001B[39m\u001B[38;5;124m'\u001B[39m,\n\u001B[0;32m     31\u001B[0m   full_name\u001B[38;5;241m=\u001B[39m\u001B[38;5;124m'\u001B[39m\u001B[38;5;124mtensorflow.TensorShapeProto.Dim\u001B[39m\u001B[38;5;124m'\u001B[39m,\n\u001B[0;32m     32\u001B[0m   filename\u001B[38;5;241m=\u001B[39m\u001B[38;5;28;01mNone\u001B[39;00m,\n\u001B[0;32m     33\u001B[0m   file\u001B[38;5;241m=\u001B[39mDESCRIPTOR,\n\u001B[0;32m     34\u001B[0m   containing_type\u001B[38;5;241m=\u001B[39m\u001B[38;5;28;01mNone\u001B[39;00m,\n\u001B[0;32m     35\u001B[0m   fields\u001B[38;5;241m=\u001B[39m[\n\u001B[1;32m---> 36\u001B[0m     \u001B[43m_descriptor\u001B[49m\u001B[38;5;241;43m.\u001B[39;49m\u001B[43mFieldDescriptor\u001B[49m\u001B[43m(\u001B[49m\n\u001B[0;32m     37\u001B[0m \u001B[43m      \u001B[49m\u001B[43mname\u001B[49m\u001B[38;5;241;43m=\u001B[39;49m\u001B[38;5;124;43m'\u001B[39;49m\u001B[38;5;124;43msize\u001B[39;49m\u001B[38;5;124;43m'\u001B[39;49m\u001B[43m,\u001B[49m\u001B[43m \u001B[49m\u001B[43mfull_name\u001B[49m\u001B[38;5;241;43m=\u001B[39;49m\u001B[38;5;124;43m'\u001B[39;49m\u001B[38;5;124;43mtensorflow.TensorShapeProto.Dim.size\u001B[39;49m\u001B[38;5;124;43m'\u001B[39;49m\u001B[43m,\u001B[49m\u001B[43m \u001B[49m\u001B[43mindex\u001B[49m\u001B[38;5;241;43m=\u001B[39;49m\u001B[38;5;241;43m0\u001B[39;49m\u001B[43m,\u001B[49m\n\u001B[0;32m     38\u001B[0m \u001B[43m      \u001B[49m\u001B[43mnumber\u001B[49m\u001B[38;5;241;43m=\u001B[39;49m\u001B[38;5;241;43m1\u001B[39;49m\u001B[43m,\u001B[49m\u001B[43m \u001B[49m\u001B[38;5;28;43mtype\u001B[39;49m\u001B[38;5;241;43m=\u001B[39;49m\u001B[38;5;241;43m3\u001B[39;49m\u001B[43m,\u001B[49m\u001B[43m \u001B[49m\u001B[43mcpp_type\u001B[49m\u001B[38;5;241;43m=\u001B[39;49m\u001B[38;5;241;43m2\u001B[39;49m\u001B[43m,\u001B[49m\u001B[43m \u001B[49m\u001B[43mlabel\u001B[49m\u001B[38;5;241;43m=\u001B[39;49m\u001B[38;5;241;43m1\u001B[39;49m\u001B[43m,\u001B[49m\n\u001B[0;32m     39\u001B[0m \u001B[43m      \u001B[49m\u001B[43mhas_default_value\u001B[49m\u001B[38;5;241;43m=\u001B[39;49m\u001B[38;5;28;43;01mFalse\u001B[39;49;00m\u001B[43m,\u001B[49m\u001B[43m \u001B[49m\u001B[43mdefault_value\u001B[49m\u001B[38;5;241;43m=\u001B[39;49m\u001B[38;5;241;43m0\u001B[39;49m\u001B[43m,\u001B[49m\n\u001B[0;32m     40\u001B[0m \u001B[43m      \u001B[49m\u001B[43mmessage_type\u001B[49m\u001B[38;5;241;43m=\u001B[39;49m\u001B[38;5;28;43;01mNone\u001B[39;49;00m\u001B[43m,\u001B[49m\u001B[43m \u001B[49m\u001B[43menum_type\u001B[49m\u001B[38;5;241;43m=\u001B[39;49m\u001B[38;5;28;43;01mNone\u001B[39;49;00m\u001B[43m,\u001B[49m\u001B[43m \u001B[49m\u001B[43mcontaining_type\u001B[49m\u001B[38;5;241;43m=\u001B[39;49m\u001B[38;5;28;43;01mNone\u001B[39;49;00m\u001B[43m,\u001B[49m\n\u001B[0;32m     41\u001B[0m \u001B[43m      \u001B[49m\u001B[43mis_extension\u001B[49m\u001B[38;5;241;43m=\u001B[39;49m\u001B[38;5;28;43;01mFalse\u001B[39;49;00m\u001B[43m,\u001B[49m\u001B[43m \u001B[49m\u001B[43mextension_scope\u001B[49m\u001B[38;5;241;43m=\u001B[39;49m\u001B[38;5;28;43;01mNone\u001B[39;49;00m\u001B[43m,\u001B[49m\n\u001B[0;32m     42\u001B[0m \u001B[43m      \u001B[49m\u001B[43mserialized_options\u001B[49m\u001B[38;5;241;43m=\u001B[39;49m\u001B[38;5;28;43;01mNone\u001B[39;49;00m\u001B[43m,\u001B[49m\u001B[43m \u001B[49m\u001B[43mfile\u001B[49m\u001B[38;5;241;43m=\u001B[39;49m\u001B[43mDESCRIPTOR\u001B[49m\u001B[43m)\u001B[49m,\n\u001B[0;32m     43\u001B[0m     _descriptor\u001B[38;5;241m.\u001B[39mFieldDescriptor(\n\u001B[0;32m     44\u001B[0m       name\u001B[38;5;241m=\u001B[39m\u001B[38;5;124m'\u001B[39m\u001B[38;5;124mname\u001B[39m\u001B[38;5;124m'\u001B[39m, full_name\u001B[38;5;241m=\u001B[39m\u001B[38;5;124m'\u001B[39m\u001B[38;5;124mtensorflow.TensorShapeProto.Dim.name\u001B[39m\u001B[38;5;124m'\u001B[39m, index\u001B[38;5;241m=\u001B[39m\u001B[38;5;241m1\u001B[39m,\n\u001B[0;32m     45\u001B[0m       number\u001B[38;5;241m=\u001B[39m\u001B[38;5;241m2\u001B[39m, \u001B[38;5;28mtype\u001B[39m\u001B[38;5;241m=\u001B[39m\u001B[38;5;241m9\u001B[39m, cpp_type\u001B[38;5;241m=\u001B[39m\u001B[38;5;241m9\u001B[39m, label\u001B[38;5;241m=\u001B[39m\u001B[38;5;241m1\u001B[39m,\n\u001B[0;32m     46\u001B[0m       has_default_value\u001B[38;5;241m=\u001B[39m\u001B[38;5;28;01mFalse\u001B[39;00m, default_value\u001B[38;5;241m=\u001B[39m_b(\u001B[38;5;124m\"\u001B[39m\u001B[38;5;124m\"\u001B[39m)\u001B[38;5;241m.\u001B[39mdecode(\u001B[38;5;124m'\u001B[39m\u001B[38;5;124mutf-8\u001B[39m\u001B[38;5;124m'\u001B[39m),\n\u001B[0;32m     47\u001B[0m       message_type\u001B[38;5;241m=\u001B[39m\u001B[38;5;28;01mNone\u001B[39;00m, enum_type\u001B[38;5;241m=\u001B[39m\u001B[38;5;28;01mNone\u001B[39;00m, containing_type\u001B[38;5;241m=\u001B[39m\u001B[38;5;28;01mNone\u001B[39;00m,\n\u001B[0;32m     48\u001B[0m       is_extension\u001B[38;5;241m=\u001B[39m\u001B[38;5;28;01mFalse\u001B[39;00m, extension_scope\u001B[38;5;241m=\u001B[39m\u001B[38;5;28;01mNone\u001B[39;00m,\n\u001B[0;32m     49\u001B[0m       serialized_options\u001B[38;5;241m=\u001B[39m\u001B[38;5;28;01mNone\u001B[39;00m, file\u001B[38;5;241m=\u001B[39mDESCRIPTOR),\n\u001B[0;32m     50\u001B[0m   ],\n\u001B[0;32m     51\u001B[0m   extensions\u001B[38;5;241m=\u001B[39m[\n\u001B[0;32m     52\u001B[0m   ],\n\u001B[0;32m     53\u001B[0m   nested_types\u001B[38;5;241m=\u001B[39m[],\n\u001B[0;32m     54\u001B[0m   enum_types\u001B[38;5;241m=\u001B[39m[\n\u001B[0;32m     55\u001B[0m   ],\n\u001B[0;32m     56\u001B[0m   serialized_options\u001B[38;5;241m=\u001B[39m\u001B[38;5;28;01mNone\u001B[39;00m,\n\u001B[0;32m     57\u001B[0m   is_extendable\u001B[38;5;241m=\u001B[39m\u001B[38;5;28;01mFalse\u001B[39;00m,\n\u001B[0;32m     58\u001B[0m   syntax\u001B[38;5;241m=\u001B[39m\u001B[38;5;124m'\u001B[39m\u001B[38;5;124mproto3\u001B[39m\u001B[38;5;124m'\u001B[39m,\n\u001B[0;32m     59\u001B[0m   extension_ranges\u001B[38;5;241m=\u001B[39m[],\n\u001B[0;32m     60\u001B[0m   oneofs\u001B[38;5;241m=\u001B[39m[\n\u001B[0;32m     61\u001B[0m   ],\n\u001B[0;32m     62\u001B[0m   serialized_start\u001B[38;5;241m=\u001B[39m\u001B[38;5;241m149\u001B[39m,\n\u001B[0;32m     63\u001B[0m   serialized_end\u001B[38;5;241m=\u001B[39m\u001B[38;5;241m182\u001B[39m,\n\u001B[0;32m     64\u001B[0m )\n\u001B[0;32m     66\u001B[0m _TENSORSHAPEPROTO \u001B[38;5;241m=\u001B[39m _descriptor\u001B[38;5;241m.\u001B[39mDescriptor(\n\u001B[0;32m     67\u001B[0m   name\u001B[38;5;241m=\u001B[39m\u001B[38;5;124m'\u001B[39m\u001B[38;5;124mTensorShapeProto\u001B[39m\u001B[38;5;124m'\u001B[39m,\n\u001B[0;32m     68\u001B[0m   full_name\u001B[38;5;241m=\u001B[39m\u001B[38;5;124m'\u001B[39m\u001B[38;5;124mtensorflow.TensorShapeProto\u001B[39m\u001B[38;5;124m'\u001B[39m,\n\u001B[1;32m   (...)\u001B[0m\n\u001B[0;32m    100\u001B[0m   serialized_end\u001B[38;5;241m=\u001B[39m\u001B[38;5;241m182\u001B[39m,\n\u001B[0;32m    101\u001B[0m )\n\u001B[0;32m    103\u001B[0m _TENSORSHAPEPROTO_DIM\u001B[38;5;241m.\u001B[39mcontaining_type \u001B[38;5;241m=\u001B[39m _TENSORSHAPEPROTO\n",
      "File \u001B[1;32m~\\AppData\\Local\\Programs\\Python\\Python39\\lib\\site-packages\\google\\protobuf\\descriptor.py:553\u001B[0m, in \u001B[0;36mFieldDescriptor.__new__\u001B[1;34m(cls, name, full_name, index, number, type, cpp_type, label, default_value, message_type, enum_type, containing_type, is_extension, extension_scope, options, serialized_options, has_default_value, containing_oneof, json_name, file, create_key)\u001B[0m\n\u001B[0;32m    547\u001B[0m \u001B[38;5;28;01mdef\u001B[39;00m \u001B[38;5;21m__new__\u001B[39m(\u001B[38;5;28mcls\u001B[39m, name, full_name, index, number, \u001B[38;5;28mtype\u001B[39m, cpp_type, label,\n\u001B[0;32m    548\u001B[0m             default_value, message_type, enum_type, containing_type,\n\u001B[0;32m    549\u001B[0m             is_extension, extension_scope, options\u001B[38;5;241m=\u001B[39m\u001B[38;5;28;01mNone\u001B[39;00m,\n\u001B[0;32m    550\u001B[0m             serialized_options\u001B[38;5;241m=\u001B[39m\u001B[38;5;28;01mNone\u001B[39;00m,\n\u001B[0;32m    551\u001B[0m             has_default_value\u001B[38;5;241m=\u001B[39m\u001B[38;5;28;01mTrue\u001B[39;00m, containing_oneof\u001B[38;5;241m=\u001B[39m\u001B[38;5;28;01mNone\u001B[39;00m, json_name\u001B[38;5;241m=\u001B[39m\u001B[38;5;28;01mNone\u001B[39;00m,\n\u001B[0;32m    552\u001B[0m             file\u001B[38;5;241m=\u001B[39m\u001B[38;5;28;01mNone\u001B[39;00m, create_key\u001B[38;5;241m=\u001B[39m\u001B[38;5;28;01mNone\u001B[39;00m):  \u001B[38;5;66;03m# pylint: disable=redefined-builtin\u001B[39;00m\n\u001B[1;32m--> 553\u001B[0m   \u001B[43m_message\u001B[49m\u001B[38;5;241;43m.\u001B[39;49m\u001B[43mMessage\u001B[49m\u001B[38;5;241;43m.\u001B[39;49m\u001B[43m_CheckCalledFromGeneratedFile\u001B[49m\u001B[43m(\u001B[49m\u001B[43m)\u001B[49m\n\u001B[0;32m    554\u001B[0m   \u001B[38;5;28;01mif\u001B[39;00m is_extension:\n\u001B[0;32m    555\u001B[0m     \u001B[38;5;28;01mreturn\u001B[39;00m _message\u001B[38;5;241m.\u001B[39mdefault_pool\u001B[38;5;241m.\u001B[39mFindExtensionByName(full_name)\n",
      "\u001B[1;31mTypeError\u001B[0m: Descriptors cannot be created directly.\nIf this call came from a _pb2.py file, your generated code is out of date and must be regenerated with protoc >= 3.19.0.\nIf you cannot immediately regenerate your protos, some other possible workarounds are:\n 1. Downgrade the protobuf package to 3.20.x or lower.\n 2. Set PROTOCOL_BUFFERS_PYTHON_IMPLEMENTATION=python (but this will use pure-Python parsing and will be much slower).\n\nMore information: https://developers.google.com/protocol-buffers/docs/news/2022-05-06#python-updates"
     ]
    }
   ],
   "execution_count": 1
  },
  {
   "cell_type": "code",
   "execution_count": 2,
   "metadata": {
    "ExecuteTime": {
     "end_time": "2025-04-20T05:13:21.280592900Z",
     "start_time": "2024-03-28T14:11:52.528567Z"
    }
   },
   "outputs": [
    {
     "data": {
      "text/plain": "                     Q      P\nDate                         \n2000-03-04   95.218583  2.779\n2000-03-05  111.431333  2.721\n2000-03-06   92.994458  1.991\n2000-03-07   90.252708  5.497\n2000-03-08   86.227667  4.970\n...                ...    ...\n2018-10-26   39.116250  8.492\n2018-10-27   46.711250  5.857\n2018-10-28   70.970417  3.264\n2018-10-29   64.495417  0.000\n2018-10-30   59.041250  0.000\n\n[6815 rows x 2 columns]",
      "text/html": "<div>\n<style scoped>\n    .dataframe tbody tr th:only-of-type {\n        vertical-align: middle;\n    }\n\n    .dataframe tbody tr th {\n        vertical-align: top;\n    }\n\n    .dataframe thead th {\n        text-align: right;\n    }\n</style>\n<table border=\"1\" class=\"dataframe\">\n  <thead>\n    <tr style=\"text-align: right;\">\n      <th></th>\n      <th>Q</th>\n      <th>P</th>\n    </tr>\n    <tr>\n      <th>Date</th>\n      <th></th>\n      <th></th>\n    </tr>\n  </thead>\n  <tbody>\n    <tr>\n      <th>2000-03-04</th>\n      <td>95.218583</td>\n      <td>2.779</td>\n    </tr>\n    <tr>\n      <th>2000-03-05</th>\n      <td>111.431333</td>\n      <td>2.721</td>\n    </tr>\n    <tr>\n      <th>2000-03-06</th>\n      <td>92.994458</td>\n      <td>1.991</td>\n    </tr>\n    <tr>\n      <th>2000-03-07</th>\n      <td>90.252708</td>\n      <td>5.497</td>\n    </tr>\n    <tr>\n      <th>2000-03-08</th>\n      <td>86.227667</td>\n      <td>4.970</td>\n    </tr>\n    <tr>\n      <th>...</th>\n      <td>...</td>\n      <td>...</td>\n    </tr>\n    <tr>\n      <th>2018-10-26</th>\n      <td>39.116250</td>\n      <td>8.492</td>\n    </tr>\n    <tr>\n      <th>2018-10-27</th>\n      <td>46.711250</td>\n      <td>5.857</td>\n    </tr>\n    <tr>\n      <th>2018-10-28</th>\n      <td>70.970417</td>\n      <td>3.264</td>\n    </tr>\n    <tr>\n      <th>2018-10-29</th>\n      <td>64.495417</td>\n      <td>0.000</td>\n    </tr>\n    <tr>\n      <th>2018-10-30</th>\n      <td>59.041250</td>\n      <td>0.000</td>\n    </tr>\n  </tbody>\n</table>\n<p>6815 rows × 2 columns</p>\n</div>"
     },
     "execution_count": 2,
     "metadata": {},
     "output_type": "execute_result"
    }
   ],
   "source": [
    "#读取降雨径流数据\n",
    "df = pd.read_csv(\"/Users/datou/PycharmProjects/model/JianyangSta/JY_data/建阳站日降雨径流蒸发资料(完整）.csv\", parse_dates=[\"Date\"])\n",
    "df_copy = df\n",
    "df.reset_index(drop=True)\n",
    "df = df.set_index('Date')\n",
    "df"
   ]
  },
  {
   "cell_type": "code",
   "execution_count": 3,
   "outputs": [],
   "source": [
    "n_past=7"
   ],
   "metadata": {
    "collapsed": false,
    "ExecuteTime": {
     "end_time": "2025-04-20T05:13:21.283593700Z",
     "start_time": "2024-03-28T14:11:52.541318Z"
    }
   }
  },
  {
   "cell_type": "code",
   "execution_count": 4,
   "outputs": [
    {
     "data": {
      "text/plain": "                     Q       P\nDate                          \n2013-03-20  225.427083  23.976\n2013-03-21  264.641667   0.224\n2013-03-22  179.575000   0.000\n2013-03-23  254.883333   8.498\n2013-03-24  518.239583  30.304\n...                ...     ...\n2018-10-26   39.116250   8.492\n2018-10-27   46.711250   5.857\n2018-10-28   70.970417   3.264\n2018-10-29   64.495417   0.000\n2018-10-30   59.041250   0.000\n\n[2051 rows x 2 columns]",
      "text/html": "<div>\n<style scoped>\n    .dataframe tbody tr th:only-of-type {\n        vertical-align: middle;\n    }\n\n    .dataframe tbody tr th {\n        vertical-align: top;\n    }\n\n    .dataframe thead th {\n        text-align: right;\n    }\n</style>\n<table border=\"1\" class=\"dataframe\">\n  <thead>\n    <tr style=\"text-align: right;\">\n      <th></th>\n      <th>Q</th>\n      <th>P</th>\n    </tr>\n    <tr>\n      <th>Date</th>\n      <th></th>\n      <th></th>\n    </tr>\n  </thead>\n  <tbody>\n    <tr>\n      <th>2013-03-20</th>\n      <td>225.427083</td>\n      <td>23.976</td>\n    </tr>\n    <tr>\n      <th>2013-03-21</th>\n      <td>264.641667</td>\n      <td>0.224</td>\n    </tr>\n    <tr>\n      <th>2013-03-22</th>\n      <td>179.575000</td>\n      <td>0.000</td>\n    </tr>\n    <tr>\n      <th>2013-03-23</th>\n      <td>254.883333</td>\n      <td>8.498</td>\n    </tr>\n    <tr>\n      <th>2013-03-24</th>\n      <td>518.239583</td>\n      <td>30.304</td>\n    </tr>\n    <tr>\n      <th>...</th>\n      <td>...</td>\n      <td>...</td>\n    </tr>\n    <tr>\n      <th>2018-10-26</th>\n      <td>39.116250</td>\n      <td>8.492</td>\n    </tr>\n    <tr>\n      <th>2018-10-27</th>\n      <td>46.711250</td>\n      <td>5.857</td>\n    </tr>\n    <tr>\n      <th>2018-10-28</th>\n      <td>70.970417</td>\n      <td>3.264</td>\n    </tr>\n    <tr>\n      <th>2018-10-29</th>\n      <td>64.495417</td>\n      <td>0.000</td>\n    </tr>\n    <tr>\n      <th>2018-10-30</th>\n      <td>59.041250</td>\n      <td>0.000</td>\n    </tr>\n  </tbody>\n</table>\n<p>2051 rows × 2 columns</p>\n</div>"
     },
     "execution_count": 4,
     "metadata": {},
     "output_type": "execute_result"
    }
   ],
   "source": [
    "#划分数据\n",
    "test_split = round(len(df) * 0.30)\n",
    "df_for_training = df[:-test_split]\n",
    "df_for_testing = df[-(test_split+n_past):]\n",
    "df_for_testing"
   ],
   "metadata": {
    "collapsed": false,
    "ExecuteTime": {
     "end_time": "2025-04-20T05:13:21.283593700Z",
     "start_time": "2024-03-28T14:11:52.545507Z"
    }
   }
  },
  {
   "cell_type": "code",
   "execution_count": 5,
   "outputs": [
    {
     "data": {
      "text/plain": "             Q         P\n0     0.013690  0.012989\n1     0.016311  0.012718\n2     0.013330  0.009306\n3     0.012887  0.025693\n4     0.012236  0.023230\n...        ...       ...\n4766  0.027327  0.000000\n4767  0.039502  0.039719\n4768  0.082076  0.141640\n4769  0.053736  0.000000\n4770  0.057117  0.135755\n\n[4771 rows x 2 columns]",
      "text/html": "<div>\n<style scoped>\n    .dataframe tbody tr th:only-of-type {\n        vertical-align: middle;\n    }\n\n    .dataframe tbody tr th {\n        vertical-align: top;\n    }\n\n    .dataframe thead th {\n        text-align: right;\n    }\n</style>\n<table border=\"1\" class=\"dataframe\">\n  <thead>\n    <tr style=\"text-align: right;\">\n      <th></th>\n      <th>Q</th>\n      <th>P</th>\n    </tr>\n  </thead>\n  <tbody>\n    <tr>\n      <th>0</th>\n      <td>0.013690</td>\n      <td>0.012989</td>\n    </tr>\n    <tr>\n      <th>1</th>\n      <td>0.016311</td>\n      <td>0.012718</td>\n    </tr>\n    <tr>\n      <th>2</th>\n      <td>0.013330</td>\n      <td>0.009306</td>\n    </tr>\n    <tr>\n      <th>3</th>\n      <td>0.012887</td>\n      <td>0.025693</td>\n    </tr>\n    <tr>\n      <th>4</th>\n      <td>0.012236</td>\n      <td>0.023230</td>\n    </tr>\n    <tr>\n      <th>...</th>\n      <td>...</td>\n      <td>...</td>\n    </tr>\n    <tr>\n      <th>4766</th>\n      <td>0.027327</td>\n      <td>0.000000</td>\n    </tr>\n    <tr>\n      <th>4767</th>\n      <td>0.039502</td>\n      <td>0.039719</td>\n    </tr>\n    <tr>\n      <th>4768</th>\n      <td>0.082076</td>\n      <td>0.141640</td>\n    </tr>\n    <tr>\n      <th>4769</th>\n      <td>0.053736</td>\n      <td>0.000000</td>\n    </tr>\n    <tr>\n      <th>4770</th>\n      <td>0.057117</td>\n      <td>0.135755</td>\n    </tr>\n  </tbody>\n</table>\n<p>4771 rows × 2 columns</p>\n</div>"
     },
     "execution_count": 5,
     "metadata": {},
     "output_type": "execute_result"
    }
   ],
   "source": [
    "# 数据归一化\n",
    "from sklearn.preprocessing import MinMaxScaler\n",
    "\n",
    "scaler = MinMaxScaler(feature_range=(0, 1))\n",
    "df_for_training_scaled = scaler.fit_transform(df_for_training)\n",
    "df_for_testing_scaled = scaler.transform(df_for_testing)\n",
    "df_for_training_scaled = pd.DataFrame(df_for_training_scaled, columns=df_for_training.columns)\n",
    "df_for_testing_scaled = pd.DataFrame(df_for_testing_scaled, columns=df_for_training.columns)\n",
    "df_for_training_scaled"
   ],
   "metadata": {
    "collapsed": false,
    "ExecuteTime": {
     "end_time": "2025-04-20T05:13:21.293595300Z",
     "start_time": "2024-03-28T14:11:52.549365Z"
    }
   }
  },
  {
   "cell_type": "code",
   "execution_count": 6,
   "outputs": [],
   "source": [
    "#构造训练集测试集 \n",
    "# 创建数据集，n_past：时间步长\n",
    "def createXY(dataset, n_past):\n",
    "    dataX = []\n",
    "    dataY = []\n",
    "    for i in range(n_past, len(dataset)):\n",
    "        dataX.append(np.array(dataset)[i - n_past:i, 0:np.array(dataset).shape[1]])\n",
    "        dataY.append(np.array(dataset)[i, 0])\n",
    "    return np.array(dataX), np.array(dataY)"
   ],
   "metadata": {
    "collapsed": false,
    "ExecuteTime": {
     "end_time": "2025-04-20T05:13:21.294596200Z",
     "start_time": "2024-03-28T14:11:53.749873Z"
    }
   }
  },
  {
   "cell_type": "code",
   "execution_count": 7,
   "outputs": [],
   "source": [
    "# 定义时间窗\n"
   ],
   "metadata": {
    "collapsed": false,
    "ExecuteTime": {
     "end_time": "2025-04-20T05:13:21.294596200Z",
     "start_time": "2024-03-28T14:11:53.753720Z"
    }
   }
  },
  {
   "cell_type": "code",
   "execution_count": 8,
   "outputs": [
    {
     "data": {
      "text/plain": "4764"
     },
     "execution_count": 8,
     "metadata": {},
     "output_type": "execute_result"
    }
   ],
   "source": [
    "trainX, trainY = createXY(df_for_training_scaled, n_past)\n",
    "trainX.shape, trainY.shape\n",
    "len(trainX)"
   ],
   "metadata": {
    "collapsed": false,
    "ExecuteTime": {
     "end_time": "2025-04-20T05:13:21.295596200Z",
     "start_time": "2024-03-28T14:11:53.756890Z"
    }
   }
  },
  {
   "cell_type": "code",
   "execution_count": 9,
   "outputs": [
    {
     "data": {
      "text/plain": "((2044, 7, 2), (2044,))"
     },
     "execution_count": 9,
     "metadata": {},
     "output_type": "execute_result"
    }
   ],
   "source": [
    "testX, testY = createXY(df_for_testing_scaled, n_past)\n",
    "testX.shape, testY.shape"
   ],
   "metadata": {
    "collapsed": false,
    "ExecuteTime": {
     "end_time": "2025-04-20T05:13:21.297597Z",
     "start_time": "2024-03-28T14:11:53.880502Z"
    }
   }
  },
  {
   "cell_type": "code",
   "execution_count": 10,
   "outputs": [],
   "source": [
    "# BP神经网络输入是二维数据！！！一定要将处理过后的三维数据转为二维数据！！！\n",
    "trainX = trainX.reshape(len(trainX), n_past * 2)"
   ],
   "metadata": {
    "collapsed": false,
    "ExecuteTime": {
     "end_time": "2025-04-20T05:13:21.297597Z",
     "start_time": "2024-03-28T14:11:53.920417Z"
    }
   }
  },
  {
   "cell_type": "code",
   "execution_count": 11,
   "outputs": [],
   "source": [
    "testX = testX.reshape(len(testX), n_past * 2)"
   ],
   "metadata": {
    "collapsed": false,
    "ExecuteTime": {
     "end_time": "2025-04-20T05:13:21.299597300Z",
     "start_time": "2024-03-28T14:11:53.922939Z"
    }
   }
  },
  {
   "cell_type": "code",
   "execution_count": 12,
   "metadata": {
    "ExecuteTime": {
     "end_time": "2025-04-20T05:13:21.299597300Z",
     "start_time": "2024-03-28T14:11:53.925827Z"
    }
   },
   "outputs": [],
   "source": [
    "#建立bp模型 训练 \n",
    "import keras\n",
    "from keras.models import Sequential\n",
    "from keras.layers.core import Dense, Activation\n",
    "from keras.optimizers import Adam\n",
    "\n",
    "\n",
    "def build_model():\n",
    "    model = Sequential()  #层次模型\n",
    "    model.add(Dense(16, input_dim=n_past*2, kernel_initializer='uniform', activation='relu'))  #输入层，Dense表示BP层\n",
    "    #model.add(Activation('relu'))  #添加激活函数\n",
    "    model.add(Dense(64, bias_initializer='uniform', activation='sigmoid'))  #中间层\n",
    "    #model.add(Activation('sigmoid'))  #添加激活函数\n",
    "    model.add(Dense(1))  #输出层\n",
    "    learning_rate = 3e-3\n",
    "    optimizer = keras.optimizers.Adam(learning_rate=learning_rate)\n",
    "    model.compile(loss='mse', optimizer=optimizer)  #编译模型\n",
    "    return model\n",
    "\n",
    "# model=build_model()\n",
    "# \n",
    "# model.fit(trainX, trainY, epochs =50, batch_size = 16) #训练模型nb_epoch=50次"
   ]
  },
  {
   "cell_type": "code",
   "execution_count": 13,
   "outputs": [
    {
     "name": "stderr",
     "output_type": "stream",
     "text": [
      "/var/folders/p_/spnxgg1953n3fzj8z81sv51r0000gn/T/ipykernel_42826/2192670547.py:12: DeprecationWarning: KerasRegressor is deprecated, use Sci-Keras (https://github.com/adriangb/scikeras) instead. See https://www.adriangb.com/scikeras/stable/migration.html for help migrating.\n",
      "  grid_model = KerasRegressor(build_fn=build_model, verbose=1)\n"
     ]
    }
   ],
   "source": [
    "from keras.wrappers.scikit_learn import KerasRegressor\n",
    "from sklearn.model_selection import GridSearchCV\n",
    "\n",
    "# 交叉搜索，寻求模型最佳参数，并输出最佳模型\n",
    "parameters = {'batch_size': [16, 20],\n",
    "              'epochs': [16, 20]}\n",
    "\"\"\"\n",
    "verbose参数设置为 2，可以将显示的信息量减小到每轮训练的损失。\n",
    "可以通过将verbose设置为 1 来关闭所有输出\n",
    "使用KerasRegressor来包装Keras模型进行网格搜索和交叉验证\n",
    "\"\"\"\n",
    "grid_model = KerasRegressor(build_fn=build_model, verbose=1)\n",
    "grid_search = GridSearchCV(estimator=grid_model, param_grid=parameters,\n",
    "                           cv=5)"
   ],
   "metadata": {
    "collapsed": false,
    "ExecuteTime": {
     "end_time": "2025-04-20T05:13:21.299597300Z",
     "start_time": "2024-03-28T14:11:53.928443Z"
    }
   }
  },
  {
   "cell_type": "code",
   "execution_count": 14,
   "outputs": [
    {
     "name": "stdout",
     "output_type": "stream",
     "text": [
      "Epoch 1/16\n",
      "  1/239 [..............................] - ETA: 27s - loss: 0.0380"
     ]
    },
    {
     "name": "stderr",
     "output_type": "stream",
     "text": [
      "2024-03-28 22:11:54.244035: W tensorflow/tsl/platform/profile_utils/cpu_utils.cc:128] Failed to get CPU frequency: 0 Hz\n"
     ]
    },
    {
     "name": "stdout",
     "output_type": "stream",
     "text": [
      "239/239 [==============================] - 0s 329us/step - loss: 0.0019\n",
      "Epoch 2/16\n",
      "239/239 [==============================] - 0s 305us/step - loss: 8.2345e-04\n",
      "Epoch 3/16\n",
      "239/239 [==============================] - 0s 310us/step - loss: 6.8852e-04\n",
      "Epoch 4/16\n",
      "239/239 [==============================] - 0s 328us/step - loss: 6.6858e-04\n",
      "Epoch 5/16\n",
      "239/239 [==============================] - 0s 319us/step - loss: 7.1287e-04\n",
      "Epoch 6/16\n",
      "239/239 [==============================] - 0s 310us/step - loss: 5.9540e-04\n",
      "Epoch 7/16\n",
      "239/239 [==============================] - 0s 293us/step - loss: 7.4299e-04\n",
      "Epoch 8/16\n",
      "239/239 [==============================] - 0s 290us/step - loss: 6.1513e-04\n",
      "Epoch 9/16\n",
      "239/239 [==============================] - 0s 293us/step - loss: 5.9844e-04\n",
      "Epoch 10/16\n",
      "239/239 [==============================] - 0s 313us/step - loss: 5.8646e-04\n",
      "Epoch 11/16\n",
      "239/239 [==============================] - 0s 314us/step - loss: 5.9240e-04\n",
      "Epoch 12/16\n",
      "239/239 [==============================] - 0s 290us/step - loss: 8.4313e-04\n",
      "Epoch 13/16\n",
      "239/239 [==============================] - 0s 288us/step - loss: 5.8138e-04\n",
      "Epoch 14/16\n",
      "239/239 [==============================] - 0s 328us/step - loss: 5.7762e-04\n",
      "Epoch 15/16\n",
      "239/239 [==============================] - 0s 305us/step - loss: 6.0811e-04\n",
      "Epoch 16/16\n",
      "239/239 [==============================] - 0s 470us/step - loss: 5.7822e-04\n",
      "60/60 [==============================] - 0s 273us/step - loss: 4.5174e-04\n",
      "Epoch 1/16\n",
      "239/239 [==============================] - 0s 323us/step - loss: 0.0012\n",
      "Epoch 2/16\n",
      "239/239 [==============================] - 0s 321us/step - loss: 6.4392e-04\n",
      "Epoch 3/16\n",
      "239/239 [==============================] - 0s 307us/step - loss: 6.2566e-04\n",
      "Epoch 4/16\n",
      "239/239 [==============================] - 0s 307us/step - loss: 5.2632e-04\n",
      "Epoch 5/16\n",
      "239/239 [==============================] - 0s 291us/step - loss: 5.6781e-04\n",
      "Epoch 6/16\n",
      "239/239 [==============================] - 0s 289us/step - loss: 5.4853e-04\n",
      "Epoch 7/16\n",
      "239/239 [==============================] - 0s 292us/step - loss: 5.7116e-04\n",
      "Epoch 8/16\n",
      "239/239 [==============================] - 0s 315us/step - loss: 5.8881e-04\n",
      "Epoch 9/16\n",
      "239/239 [==============================] - 0s 315us/step - loss: 4.8331e-04\n",
      "Epoch 10/16\n",
      "239/239 [==============================] - 0s 294us/step - loss: 5.5881e-04\n",
      "Epoch 11/16\n",
      "239/239 [==============================] - 0s 289us/step - loss: 5.3158e-04\n",
      "Epoch 12/16\n",
      "239/239 [==============================] - 0s 292us/step - loss: 4.8907e-04\n",
      "Epoch 13/16\n",
      "239/239 [==============================] - 0s 291us/step - loss: 5.0044e-04\n",
      "Epoch 14/16\n",
      "239/239 [==============================] - 0s 304us/step - loss: 5.3772e-04\n",
      "Epoch 15/16\n",
      "239/239 [==============================] - 0s 309us/step - loss: 5.0400e-04\n",
      "Epoch 16/16\n",
      "239/239 [==============================] - 0s 302us/step - loss: 5.0009e-04\n",
      "60/60 [==============================] - 0s 241us/step - loss: 4.4129e-04\n",
      "Epoch 1/16\n",
      "239/239 [==============================] - 0s 334us/step - loss: 0.0078\n",
      "Epoch 2/16\n",
      "239/239 [==============================] - 0s 310us/step - loss: 5.2555e-04\n",
      "Epoch 3/16\n",
      "239/239 [==============================] - 0s 311us/step - loss: 4.7095e-04\n",
      "Epoch 4/16\n",
      "239/239 [==============================] - 0s 292us/step - loss: 4.3469e-04\n",
      "Epoch 5/16\n",
      "239/239 [==============================] - 0s 293us/step - loss: 4.7450e-04\n",
      "Epoch 6/16\n",
      "239/239 [==============================] - 0s 296us/step - loss: 4.6847e-04\n",
      "Epoch 7/16\n",
      "239/239 [==============================] - 0s 292us/step - loss: 4.7974e-04\n",
      "Epoch 8/16\n",
      "239/239 [==============================] - 0s 290us/step - loss: 4.7759e-04\n",
      "Epoch 9/16\n",
      "239/239 [==============================] - 0s 291us/step - loss: 4.5649e-04\n",
      "Epoch 10/16\n",
      "239/239 [==============================] - 0s 289us/step - loss: 4.7511e-04\n",
      "Epoch 11/16\n",
      "239/239 [==============================] - 0s 299us/step - loss: 5.1081e-04\n",
      "Epoch 12/16\n",
      "239/239 [==============================] - 0s 314us/step - loss: 4.6669e-04\n",
      "Epoch 13/16\n",
      "239/239 [==============================] - 0s 296us/step - loss: 5.1786e-04\n",
      "Epoch 14/16\n",
      "239/239 [==============================] - 0s 293us/step - loss: 4.4277e-04\n",
      "Epoch 15/16\n",
      "239/239 [==============================] - 0s 292us/step - loss: 5.1294e-04\n",
      "Epoch 16/16\n",
      "239/239 [==============================] - 0s 298us/step - loss: 4.7056e-04\n",
      "60/60 [==============================] - 0s 244us/step - loss: 5.6049e-04\n",
      "Epoch 1/16\n",
      "239/239 [==============================] - 0s 316us/step - loss: 0.0088\n",
      "Epoch 2/16\n",
      "239/239 [==============================] - 0s 292us/step - loss: 7.7770e-04\n",
      "Epoch 3/16\n",
      "239/239 [==============================] - 0s 294us/step - loss: 4.3750e-04\n",
      "Epoch 4/16\n",
      "239/239 [==============================] - 0s 310us/step - loss: 4.1538e-04\n",
      "Epoch 5/16\n",
      "239/239 [==============================] - 0s 312us/step - loss: 4.0899e-04\n",
      "Epoch 6/16\n",
      "239/239 [==============================] - 0s 310us/step - loss: 4.3675e-04\n",
      "Epoch 7/16\n",
      "239/239 [==============================] - 0s 291us/step - loss: 4.3215e-04\n",
      "Epoch 8/16\n",
      "239/239 [==============================] - 0s 299us/step - loss: 4.0657e-04\n",
      "Epoch 9/16\n",
      "239/239 [==============================] - 0s 295us/step - loss: 4.6314e-04\n",
      "Epoch 10/16\n",
      "239/239 [==============================] - 0s 302us/step - loss: 4.7685e-04\n",
      "Epoch 11/16\n",
      "239/239 [==============================] - 0s 311us/step - loss: 4.5108e-04\n",
      "Epoch 12/16\n",
      "239/239 [==============================] - 0s 304us/step - loss: 4.2193e-04\n",
      "Epoch 13/16\n",
      "239/239 [==============================] - 0s 299us/step - loss: 5.0132e-04\n",
      "Epoch 14/16\n",
      "239/239 [==============================] - 0s 290us/step - loss: 4.1502e-04\n",
      "Epoch 15/16\n",
      "239/239 [==============================] - 0s 292us/step - loss: 4.3800e-04\n",
      "Epoch 16/16\n",
      "239/239 [==============================] - 0s 293us/step - loss: 4.3179e-04\n",
      "60/60 [==============================] - 0s 243us/step - loss: 5.1357e-04\n",
      "Epoch 1/16\n",
      "239/239 [==============================] - 0s 360us/step - loss: 0.0011\n",
      "Epoch 2/16\n",
      "239/239 [==============================] - 0s 311us/step - loss: 5.7029e-04\n",
      "Epoch 3/16\n",
      "239/239 [==============================] - 0s 293us/step - loss: 5.7724e-04\n",
      "Epoch 4/16\n",
      "239/239 [==============================] - 0s 288us/step - loss: 5.1396e-04\n",
      "Epoch 5/16\n",
      "239/239 [==============================] - 0s 295us/step - loss: 5.2974e-04\n",
      "Epoch 6/16\n",
      "239/239 [==============================] - 0s 316us/step - loss: 4.7630e-04\n",
      "Epoch 7/16\n",
      "239/239 [==============================] - 0s 306us/step - loss: 4.8282e-04\n",
      "Epoch 8/16\n",
      "239/239 [==============================] - 0s 294us/step - loss: 4.4490e-04\n",
      "Epoch 9/16\n",
      "239/239 [==============================] - 0s 293us/step - loss: 5.4090e-04\n",
      "Epoch 10/16\n",
      "239/239 [==============================] - 0s 290us/step - loss: 4.6752e-04\n",
      "Epoch 11/16\n",
      "239/239 [==============================] - 0s 288us/step - loss: 4.7828e-04\n",
      "Epoch 12/16\n",
      "239/239 [==============================] - 0s 309us/step - loss: 4.7656e-04\n",
      "Epoch 13/16\n",
      "239/239 [==============================] - 0s 310us/step - loss: 4.7883e-04\n",
      "Epoch 14/16\n",
      "239/239 [==============================] - 0s 313us/step - loss: 4.9117e-04\n",
      "Epoch 15/16\n",
      "239/239 [==============================] - 0s 295us/step - loss: 4.8189e-04\n",
      "Epoch 16/16\n",
      "239/239 [==============================] - 0s 291us/step - loss: 5.1990e-04\n",
      "60/60 [==============================] - 0s 243us/step - loss: 4.5012e-04\n",
      "Epoch 1/20\n",
      "239/239 [==============================] - 0s 368us/step - loss: 0.0480\n",
      "Epoch 2/20\n",
      "239/239 [==============================] - 0s 318us/step - loss: 0.0014\n",
      "Epoch 3/20\n",
      "239/239 [==============================] - 0s 299us/step - loss: 9.9037e-04\n",
      "Epoch 4/20\n",
      "239/239 [==============================] - 0s 294us/step - loss: 7.7299e-04\n",
      "Epoch 5/20\n",
      "239/239 [==============================] - 0s 300us/step - loss: 6.5778e-04\n",
      "Epoch 6/20\n",
      "239/239 [==============================] - 0s 319us/step - loss: 6.1199e-04\n",
      "Epoch 7/20\n",
      "239/239 [==============================] - 0s 310us/step - loss: 5.9926e-04\n",
      "Epoch 8/20\n",
      "239/239 [==============================] - 0s 298us/step - loss: 5.7296e-04\n",
      "Epoch 9/20\n",
      "239/239 [==============================] - 0s 289us/step - loss: 5.5519e-04\n",
      "Epoch 10/20\n",
      "239/239 [==============================] - 0s 298us/step - loss: 6.3935e-04\n",
      "Epoch 11/20\n",
      "239/239 [==============================] - 0s 298us/step - loss: 5.5310e-04\n",
      "Epoch 12/20\n",
      "239/239 [==============================] - 0s 319us/step - loss: 5.7149e-04\n",
      "Epoch 13/20\n",
      "239/239 [==============================] - 0s 318us/step - loss: 5.6506e-04\n",
      "Epoch 14/20\n",
      "239/239 [==============================] - 0s 319us/step - loss: 5.6429e-04\n",
      "Epoch 15/20\n",
      "239/239 [==============================] - 0s 300us/step - loss: 5.3304e-04\n",
      "Epoch 16/20\n",
      "239/239 [==============================] - 0s 295us/step - loss: 5.7597e-04\n",
      "Epoch 17/20\n",
      "239/239 [==============================] - 0s 292us/step - loss: 5.6439e-04\n",
      "Epoch 18/20\n",
      "239/239 [==============================] - 0s 304us/step - loss: 5.6749e-04\n",
      "Epoch 19/20\n",
      "239/239 [==============================] - 0s 320us/step - loss: 5.9378e-04\n",
      "Epoch 20/20\n",
      "239/239 [==============================] - 0s 304us/step - loss: 7.0572e-04\n",
      "60/60 [==============================] - 0s 239us/step - loss: 0.0019\n",
      "Epoch 1/20\n",
      "239/239 [==============================] - 0s 324us/step - loss: 0.0422\n",
      "Epoch 2/20\n",
      "239/239 [==============================] - 0s 301us/step - loss: 6.9003e-04\n",
      "Epoch 3/20\n",
      "239/239 [==============================] - 0s 305us/step - loss: 5.7870e-04\n",
      "Epoch 4/20\n",
      "239/239 [==============================] - 0s 320us/step - loss: 5.4012e-04\n",
      "Epoch 5/20\n",
      "239/239 [==============================] - 0s 307us/step - loss: 5.2974e-04\n",
      "Epoch 6/20\n",
      "239/239 [==============================] - 0s 294us/step - loss: 5.3416e-04\n",
      "Epoch 7/20\n",
      "239/239 [==============================] - 0s 290us/step - loss: 5.0717e-04\n",
      "Epoch 8/20\n",
      "239/239 [==============================] - 0s 298us/step - loss: 5.4079e-04\n",
      "Epoch 9/20\n",
      "239/239 [==============================] - 0s 307us/step - loss: 5.0211e-04\n",
      "Epoch 10/20\n",
      "239/239 [==============================] - 0s 314us/step - loss: 5.1451e-04\n",
      "Epoch 11/20\n",
      "239/239 [==============================] - 0s 294us/step - loss: 5.0814e-04\n",
      "Epoch 12/20\n",
      "239/239 [==============================] - 0s 294us/step - loss: 5.3399e-04\n",
      "Epoch 13/20\n",
      "239/239 [==============================] - 0s 291us/step - loss: 5.0986e-04\n",
      "Epoch 14/20\n",
      "239/239 [==============================] - 0s 291us/step - loss: 5.3791e-04\n",
      "Epoch 15/20\n",
      "239/239 [==============================] - 0s 310us/step - loss: 4.9192e-04\n",
      "Epoch 16/20\n",
      "239/239 [==============================] - 0s 313us/step - loss: 5.3609e-04\n",
      "Epoch 17/20\n",
      "239/239 [==============================] - 0s 300us/step - loss: 5.3936e-04\n",
      "Epoch 18/20\n",
      "239/239 [==============================] - 0s 286us/step - loss: 5.4854e-04\n",
      "Epoch 19/20\n",
      "239/239 [==============================] - 0s 290us/step - loss: 5.4323e-04\n",
      "Epoch 20/20\n",
      "239/239 [==============================] - 0s 301us/step - loss: 5.5131e-04\n",
      "60/60 [==============================] - 0s 268us/step - loss: 7.7160e-04\n",
      "Epoch 1/20\n",
      "239/239 [==============================] - 0s 327us/step - loss: 8.5356e-04\n",
      "Epoch 2/20\n",
      "239/239 [==============================] - 0s 293us/step - loss: 5.5462e-04\n",
      "Epoch 3/20\n",
      "239/239 [==============================] - 0s 302us/step - loss: 5.1548e-04\n",
      "Epoch 4/20\n",
      "239/239 [==============================] - 0s 312us/step - loss: 5.6730e-04\n",
      "Epoch 5/20\n",
      "239/239 [==============================] - 0s 304us/step - loss: 4.8496e-04\n",
      "Epoch 6/20\n",
      "239/239 [==============================] - 0s 296us/step - loss: 5.1532e-04\n",
      "Epoch 7/20\n",
      "239/239 [==============================] - 0s 290us/step - loss: 5.0689e-04\n",
      "Epoch 8/20\n",
      "239/239 [==============================] - 0s 298us/step - loss: 4.6766e-04\n",
      "Epoch 9/20\n",
      "239/239 [==============================] - 0s 303us/step - loss: 4.9249e-04\n",
      "Epoch 10/20\n",
      "239/239 [==============================] - 0s 317us/step - loss: 4.9398e-04\n",
      "Epoch 11/20\n",
      "239/239 [==============================] - 0s 307us/step - loss: 4.6235e-04\n",
      "Epoch 12/20\n",
      "239/239 [==============================] - 0s 309us/step - loss: 4.5394e-04\n",
      "Epoch 13/20\n",
      "239/239 [==============================] - 0s 292us/step - loss: 4.9765e-04\n",
      "Epoch 14/20\n",
      "239/239 [==============================] - 0s 298us/step - loss: 5.4089e-04\n",
      "Epoch 15/20\n",
      "239/239 [==============================] - 0s 301us/step - loss: 4.4219e-04\n",
      "Epoch 16/20\n",
      "239/239 [==============================] - 0s 310us/step - loss: 5.0781e-04\n",
      "Epoch 17/20\n",
      "239/239 [==============================] - 0s 310us/step - loss: 4.6440e-04\n",
      "Epoch 18/20\n",
      "239/239 [==============================] - 0s 309us/step - loss: 4.9135e-04\n",
      "Epoch 19/20\n",
      "239/239 [==============================] - 0s 292us/step - loss: 4.7980e-04\n",
      "Epoch 20/20\n",
      "239/239 [==============================] - 0s 291us/step - loss: 4.9405e-04\n",
      "60/60 [==============================] - 0s 258us/step - loss: 6.5153e-04\n",
      "Epoch 1/20\n",
      "239/239 [==============================] - 0s 337us/step - loss: 0.0015\n",
      "Epoch 2/20\n",
      "239/239 [==============================] - 0s 299us/step - loss: 4.6856e-04\n",
      "Epoch 3/20\n",
      "239/239 [==============================] - 0s 291us/step - loss: 4.7947e-04\n",
      "Epoch 4/20\n",
      "239/239 [==============================] - 0s 290us/step - loss: 4.3791e-04\n",
      "Epoch 5/20\n",
      "239/239 [==============================] - 0s 313us/step - loss: 6.7836e-04\n",
      "Epoch 6/20\n",
      "239/239 [==============================] - 0s 326us/step - loss: 4.5364e-04\n",
      "Epoch 7/20\n",
      "239/239 [==============================] - 0s 322us/step - loss: 4.4811e-04\n",
      "Epoch 8/20\n",
      "239/239 [==============================] - 0s 298us/step - loss: 4.7207e-04\n",
      "Epoch 9/20\n",
      "239/239 [==============================] - 0s 294us/step - loss: 4.8680e-04\n",
      "Epoch 10/20\n",
      "239/239 [==============================] - 0s 296us/step - loss: 4.2040e-04\n",
      "Epoch 11/20\n",
      "239/239 [==============================] - 0s 299us/step - loss: 5.6663e-04\n",
      "Epoch 12/20\n",
      "239/239 [==============================] - 0s 324us/step - loss: 4.4574e-04\n",
      "Epoch 13/20\n",
      "239/239 [==============================] - 0s 328us/step - loss: 4.0333e-04\n",
      "Epoch 14/20\n",
      "239/239 [==============================] - 0s 297us/step - loss: 3.9567e-04\n",
      "Epoch 15/20\n",
      "239/239 [==============================] - 0s 300us/step - loss: 4.2358e-04\n",
      "Epoch 16/20\n",
      "239/239 [==============================] - 0s 293us/step - loss: 4.2993e-04\n",
      "Epoch 17/20\n",
      "239/239 [==============================] - 0s 289us/step - loss: 4.2956e-04\n",
      "Epoch 18/20\n",
      "239/239 [==============================] - 0s 299us/step - loss: 4.4719e-04\n",
      "Epoch 19/20\n",
      "239/239 [==============================] - 0s 290us/step - loss: 4.1125e-04\n",
      "Epoch 20/20\n",
      "239/239 [==============================] - 0s 293us/step - loss: 4.4581e-04\n",
      "60/60 [==============================] - 0s 244us/step - loss: 6.3121e-04\n",
      "Epoch 1/20\n",
      "239/239 [==============================] - 0s 329us/step - loss: 0.0425\n",
      "Epoch 2/20\n",
      "239/239 [==============================] - 0s 292us/step - loss: 0.0016\n",
      "Epoch 3/20\n",
      "239/239 [==============================] - 0s 288us/step - loss: 0.0011\n",
      "Epoch 4/20\n",
      "239/239 [==============================] - 0s 294us/step - loss: 7.3035e-04\n",
      "Epoch 5/20\n",
      "239/239 [==============================] - 0s 285us/step - loss: 6.2280e-04\n",
      "Epoch 6/20\n",
      "239/239 [==============================] - 0s 290us/step - loss: 5.8722e-04\n",
      "Epoch 7/20\n",
      "239/239 [==============================] - 0s 288us/step - loss: 5.6655e-04\n",
      "Epoch 8/20\n",
      "239/239 [==============================] - 0s 289us/step - loss: 5.8536e-04\n",
      "Epoch 9/20\n",
      "239/239 [==============================] - 0s 291us/step - loss: 5.8668e-04\n",
      "Epoch 10/20\n",
      "239/239 [==============================] - 0s 306us/step - loss: 5.1306e-04\n",
      "Epoch 11/20\n",
      "239/239 [==============================] - 0s 298us/step - loss: 5.1740e-04\n",
      "Epoch 12/20\n",
      "239/239 [==============================] - 0s 309us/step - loss: 5.3084e-04\n",
      "Epoch 13/20\n",
      "239/239 [==============================] - 0s 309us/step - loss: 5.9527e-04\n",
      "Epoch 14/20\n",
      "239/239 [==============================] - 0s 311us/step - loss: 5.6517e-04\n",
      "Epoch 15/20\n",
      "239/239 [==============================] - 0s 316us/step - loss: 5.2736e-04\n",
      "Epoch 16/20\n",
      "239/239 [==============================] - 0s 306us/step - loss: 5.5658e-04\n",
      "Epoch 17/20\n",
      "239/239 [==============================] - 0s 299us/step - loss: 5.8927e-04\n",
      "Epoch 18/20\n",
      "239/239 [==============================] - 0s 308us/step - loss: 6.3263e-04\n",
      "Epoch 19/20\n",
      "239/239 [==============================] - 0s 337us/step - loss: 5.5912e-04\n",
      "Epoch 20/20\n",
      "239/239 [==============================] - 0s 333us/step - loss: 6.3109e-04\n",
      "60/60 [==============================] - 0s 265us/step - loss: 4.4576e-04\n",
      "Epoch 1/16\n",
      "191/191 [==============================] - 0s 352us/step - loss: 0.0248\n",
      "Epoch 2/16\n",
      "191/191 [==============================] - 0s 316us/step - loss: 0.0016\n",
      "Epoch 3/16\n",
      "191/191 [==============================] - 0s 315us/step - loss: 9.1707e-04\n",
      "Epoch 4/16\n",
      "191/191 [==============================] - 0s 374us/step - loss: 5.4794e-04\n",
      "Epoch 5/16\n",
      "191/191 [==============================] - 0s 313us/step - loss: 4.9840e-04\n",
      "Epoch 6/16\n",
      "191/191 [==============================] - 0s 304us/step - loss: 5.1632e-04\n",
      "Epoch 7/16\n",
      "191/191 [==============================] - 0s 310us/step - loss: 4.8468e-04\n",
      "Epoch 8/16\n",
      "191/191 [==============================] - 0s 318us/step - loss: 4.9967e-04\n",
      "Epoch 9/16\n",
      "191/191 [==============================] - 0s 320us/step - loss: 4.7869e-04\n",
      "Epoch 10/16\n",
      "191/191 [==============================] - 0s 320us/step - loss: 4.5041e-04\n",
      "Epoch 11/16\n",
      "191/191 [==============================] - 0s 312us/step - loss: 4.0525e-04\n",
      "Epoch 12/16\n",
      "191/191 [==============================] - 0s 314us/step - loss: 4.4000e-04\n",
      "Epoch 13/16\n",
      "191/191 [==============================] - 0s 304us/step - loss: 4.1831e-04\n",
      "Epoch 14/16\n",
      "191/191 [==============================] - 0s 328us/step - loss: 4.1287e-04\n",
      "Epoch 15/16\n",
      "191/191 [==============================] - 0s 332us/step - loss: 4.1269e-04\n",
      "Epoch 16/16\n",
      "191/191 [==============================] - 0s 318us/step - loss: 4.2510e-04\n",
      "48/48 [==============================] - 0s 285us/step - loss: 4.4111e-04\n",
      "Epoch 1/16\n",
      "191/191 [==============================] - 0s 330us/step - loss: 0.0064\n",
      "Epoch 2/16\n",
      "191/191 [==============================] - 0s 324us/step - loss: 0.0021\n",
      "Epoch 3/16\n",
      "191/191 [==============================] - 0s 317us/step - loss: 8.2667e-04\n",
      "Epoch 4/16\n",
      "191/191 [==============================] - 0s 318us/step - loss: 5.8259e-04\n",
      "Epoch 5/16\n",
      "191/191 [==============================] - 0s 306us/step - loss: 6.1477e-04\n",
      "Epoch 6/16\n",
      "191/191 [==============================] - 0s 301us/step - loss: 5.6870e-04\n",
      "Epoch 7/16\n",
      "191/191 [==============================] - 0s 303us/step - loss: 6.6629e-04\n",
      "Epoch 8/16\n",
      "191/191 [==============================] - 0s 319us/step - loss: 5.8780e-04\n",
      "Epoch 9/16\n",
      "191/191 [==============================] - 0s 335us/step - loss: 5.5162e-04\n",
      "Epoch 10/16\n",
      "191/191 [==============================] - 0s 315us/step - loss: 5.6391e-04\n",
      "Epoch 11/16\n",
      "191/191 [==============================] - 0s 312us/step - loss: 5.6714e-04\n",
      "Epoch 12/16\n",
      "191/191 [==============================] - 0s 318us/step - loss: 5.5634e-04\n",
      "Epoch 13/16\n",
      "191/191 [==============================] - 0s 323us/step - loss: 5.0177e-04\n",
      "Epoch 14/16\n",
      "191/191 [==============================] - 0s 302us/step - loss: 5.1560e-04\n",
      "Epoch 15/16\n",
      "191/191 [==============================] - 0s 303us/step - loss: 5.5557e-04\n",
      "Epoch 16/16\n",
      "191/191 [==============================] - 0s 299us/step - loss: 5.3021e-04\n",
      "48/48 [==============================] - 0s 264us/step - loss: 1.6866e-04\n",
      "Epoch 1/16\n",
      "191/191 [==============================] - 0s 359us/step - loss: 0.0267\n",
      "Epoch 2/16\n",
      "191/191 [==============================] - 0s 327us/step - loss: 5.6778e-04\n",
      "Epoch 3/16\n",
      "191/191 [==============================] - 0s 324us/step - loss: 4.5234e-04\n",
      "Epoch 4/16\n",
      "191/191 [==============================] - 0s 323us/step - loss: 4.5726e-04\n",
      "Epoch 5/16\n",
      "191/191 [==============================] - 0s 310us/step - loss: 4.3768e-04\n",
      "Epoch 6/16\n",
      "191/191 [==============================] - 0s 306us/step - loss: 4.2658e-04\n",
      "Epoch 7/16\n",
      "191/191 [==============================] - 0s 294us/step - loss: 4.5634e-04\n",
      "Epoch 8/16\n",
      "191/191 [==============================] - 0s 306us/step - loss: 4.3354e-04\n",
      "Epoch 9/16\n",
      "191/191 [==============================] - 0s 299us/step - loss: 4.1799e-04\n",
      "Epoch 10/16\n",
      "191/191 [==============================] - 0s 303us/step - loss: 4.0353e-04\n",
      "Epoch 11/16\n",
      "191/191 [==============================] - 0s 294us/step - loss: 3.9394e-04\n",
      "Epoch 12/16\n",
      "191/191 [==============================] - 0s 320us/step - loss: 4.0089e-04\n",
      "Epoch 13/16\n",
      "191/191 [==============================] - 0s 333us/step - loss: 4.1333e-04\n",
      "Epoch 14/16\n",
      "191/191 [==============================] - 0s 327us/step - loss: 4.0350e-04\n",
      "Epoch 15/16\n",
      "191/191 [==============================] - 0s 306us/step - loss: 4.2089e-04\n",
      "Epoch 16/16\n",
      "191/191 [==============================] - 0s 305us/step - loss: 4.8226e-04\n",
      "48/48 [==============================] - 0s 261us/step - loss: 6.0034e-04\n",
      "Epoch 1/16\n",
      "191/191 [==============================] - 0s 330us/step - loss: 8.9278e-04\n",
      "Epoch 2/16\n",
      "191/191 [==============================] - 0s 288us/step - loss: 4.7791e-04\n",
      "Epoch 3/16\n",
      "191/191 [==============================] - 0s 290us/step - loss: 5.2116e-04\n",
      "Epoch 4/16\n",
      "191/191 [==============================] - 0s 291us/step - loss: 4.6858e-04\n",
      "Epoch 5/16\n",
      "191/191 [==============================] - 0s 302us/step - loss: 4.6425e-04\n",
      "Epoch 6/16\n",
      "191/191 [==============================] - 0s 299us/step - loss: 4.7581e-04\n",
      "Epoch 7/16\n",
      "191/191 [==============================] - 0s 294us/step - loss: 4.1481e-04\n",
      "Epoch 8/16\n",
      "191/191 [==============================] - 0s 291us/step - loss: 4.7387e-04\n",
      "Epoch 9/16\n",
      "191/191 [==============================] - 0s 304us/step - loss: 4.0171e-04\n",
      "Epoch 10/16\n",
      "191/191 [==============================] - 0s 309us/step - loss: 4.1160e-04\n",
      "Epoch 11/16\n",
      "191/191 [==============================] - 0s 328us/step - loss: 4.0947e-04\n",
      "Epoch 12/16\n",
      "191/191 [==============================] - 0s 309us/step - loss: 4.0733e-04\n",
      "Epoch 13/16\n",
      "191/191 [==============================] - 0s 301us/step - loss: 4.0850e-04\n",
      "Epoch 14/16\n",
      "191/191 [==============================] - 0s 297us/step - loss: 4.2712e-04\n",
      "Epoch 15/16\n",
      "191/191 [==============================] - 0s 291us/step - loss: 3.8778e-04\n",
      "Epoch 16/16\n",
      "191/191 [==============================] - 0s 299us/step - loss: 4.6771e-04\n",
      "48/48 [==============================] - 0s 257us/step - loss: 6.1403e-04\n",
      "Epoch 1/16\n",
      "191/191 [==============================] - 0s 333us/step - loss: 0.0493\n",
      "Epoch 2/16\n",
      "191/191 [==============================] - 0s 301us/step - loss: 0.0017\n",
      "Epoch 3/16\n",
      "191/191 [==============================] - 0s 299us/step - loss: 0.0014\n",
      "Epoch 4/16\n",
      "191/191 [==============================] - 0s 302us/step - loss: 7.6264e-04\n",
      "Epoch 5/16\n",
      "191/191 [==============================] - 0s 301us/step - loss: 5.2162e-04\n",
      "Epoch 6/16\n",
      "191/191 [==============================] - 0s 298us/step - loss: 4.9459e-04\n",
      "Epoch 7/16\n",
      "191/191 [==============================] - 0s 300us/step - loss: 5.1471e-04\n",
      "Epoch 8/16\n",
      "191/191 [==============================] - 0s 300us/step - loss: 4.7274e-04\n",
      "Epoch 9/16\n",
      "191/191 [==============================] - 0s 300us/step - loss: 4.8346e-04\n",
      "Epoch 10/16\n",
      "191/191 [==============================] - 0s 296us/step - loss: 4.6616e-04\n",
      "Epoch 11/16\n",
      "191/191 [==============================] - 0s 299us/step - loss: 4.6858e-04\n",
      "Epoch 12/16\n",
      "191/191 [==============================] - 0s 295us/step - loss: 4.9149e-04\n",
      "Epoch 13/16\n",
      "191/191 [==============================] - 0s 295us/step - loss: 4.8653e-04\n",
      "Epoch 14/16\n",
      "191/191 [==============================] - 0s 300us/step - loss: 4.6238e-04\n",
      "Epoch 15/16\n",
      "191/191 [==============================] - 0s 293us/step - loss: 4.7405e-04\n",
      "Epoch 16/16\n",
      "191/191 [==============================] - 0s 295us/step - loss: 4.6449e-04\n",
      "48/48 [==============================] - 0s 256us/step - loss: 4.7707e-04\n",
      "Epoch 1/20\n",
      "191/191 [==============================] - 0s 337us/step - loss: 0.0036\n",
      "Epoch 2/20\n",
      "191/191 [==============================] - 0s 298us/step - loss: 5.6903e-04\n",
      "Epoch 3/20\n",
      "191/191 [==============================] - 0s 298us/step - loss: 5.0829e-04\n",
      "Epoch 4/20\n",
      "191/191 [==============================] - 0s 294us/step - loss: 4.9292e-04\n",
      "Epoch 5/20\n",
      "191/191 [==============================] - 0s 300us/step - loss: 4.5789e-04\n",
      "Epoch 6/20\n",
      "191/191 [==============================] - 0s 296us/step - loss: 4.5542e-04\n",
      "Epoch 7/20\n",
      "191/191 [==============================] - 0s 299us/step - loss: 4.5461e-04\n",
      "Epoch 8/20\n",
      "191/191 [==============================] - 0s 300us/step - loss: 4.8373e-04\n",
      "Epoch 9/20\n",
      "191/191 [==============================] - 0s 300us/step - loss: 3.9862e-04\n",
      "Epoch 10/20\n",
      "191/191 [==============================] - 0s 297us/step - loss: 4.2645e-04\n",
      "Epoch 11/20\n",
      "191/191 [==============================] - 0s 296us/step - loss: 4.5600e-04\n",
      "Epoch 12/20\n",
      "191/191 [==============================] - 0s 299us/step - loss: 4.2279e-04\n",
      "Epoch 13/20\n",
      "191/191 [==============================] - 0s 296us/step - loss: 4.5765e-04\n",
      "Epoch 14/20\n",
      "191/191 [==============================] - 0s 301us/step - loss: 4.4048e-04\n",
      "Epoch 15/20\n",
      "191/191 [==============================] - 0s 301us/step - loss: 4.5817e-04\n",
      "Epoch 16/20\n",
      "191/191 [==============================] - 0s 298us/step - loss: 5.1781e-04\n",
      "Epoch 17/20\n",
      "191/191 [==============================] - 0s 290us/step - loss: 4.6693e-04\n",
      "Epoch 18/20\n",
      "191/191 [==============================] - 0s 302us/step - loss: 4.1043e-04\n",
      "Epoch 19/20\n",
      "191/191 [==============================] - 0s 297us/step - loss: 4.2507e-04\n",
      "Epoch 20/20\n",
      "191/191 [==============================] - 0s 298us/step - loss: 3.8893e-04\n",
      "48/48 [==============================] - 0s 257us/step - loss: 4.5578e-04\n",
      "Epoch 1/20\n",
      "191/191 [==============================] - 0s 335us/step - loss: 0.0099\n",
      "Epoch 2/20\n",
      "191/191 [==============================] - 0s 295us/step - loss: 6.7112e-04\n",
      "Epoch 3/20\n",
      "191/191 [==============================] - 0s 305us/step - loss: 5.4246e-04\n",
      "Epoch 4/20\n",
      "191/191 [==============================] - 0s 301us/step - loss: 5.3715e-04\n",
      "Epoch 5/20\n",
      "191/191 [==============================] - 0s 296us/step - loss: 5.6262e-04\n",
      "Epoch 6/20\n",
      "191/191 [==============================] - 0s 296us/step - loss: 5.3696e-04\n",
      "Epoch 7/20\n",
      "191/191 [==============================] - 0s 296us/step - loss: 5.2922e-04\n",
      "Epoch 8/20\n",
      "191/191 [==============================] - 0s 297us/step - loss: 4.8350e-04\n",
      "Epoch 9/20\n",
      "191/191 [==============================] - 0s 297us/step - loss: 4.7763e-04\n",
      "Epoch 10/20\n",
      "191/191 [==============================] - 0s 298us/step - loss: 4.8195e-04\n",
      "Epoch 11/20\n",
      "191/191 [==============================] - 0s 298us/step - loss: 4.4572e-04\n",
      "Epoch 12/20\n",
      "191/191 [==============================] - 0s 299us/step - loss: 5.0269e-04\n",
      "Epoch 13/20\n",
      "191/191 [==============================] - 0s 300us/step - loss: 4.7873e-04\n",
      "Epoch 14/20\n",
      "191/191 [==============================] - 0s 297us/step - loss: 5.2158e-04\n",
      "Epoch 15/20\n",
      "191/191 [==============================] - 0s 299us/step - loss: 4.4407e-04\n",
      "Epoch 16/20\n",
      "191/191 [==============================] - 0s 297us/step - loss: 5.2763e-04\n",
      "Epoch 17/20\n",
      "191/191 [==============================] - 0s 300us/step - loss: 6.2221e-04\n",
      "Epoch 18/20\n",
      "191/191 [==============================] - 0s 301us/step - loss: 5.3540e-04\n",
      "Epoch 19/20\n",
      "191/191 [==============================] - 0s 295us/step - loss: 4.7020e-04\n",
      "Epoch 20/20\n",
      "191/191 [==============================] - 0s 298us/step - loss: 4.6440e-04\n",
      "48/48 [==============================] - 0s 261us/step - loss: 2.4032e-04\n",
      "Epoch 1/20\n",
      "191/191 [==============================] - 0s 335us/step - loss: 0.0014\n",
      "Epoch 2/20\n",
      "191/191 [==============================] - 0s 299us/step - loss: 5.7607e-04\n",
      "Epoch 3/20\n",
      "191/191 [==============================] - 0s 298us/step - loss: 4.8403e-04\n",
      "Epoch 4/20\n",
      "191/191 [==============================] - 0s 294us/step - loss: 4.9114e-04\n",
      "Epoch 5/20\n",
      "191/191 [==============================] - 0s 301us/step - loss: 5.9294e-04\n",
      "Epoch 6/20\n",
      "191/191 [==============================] - 0s 300us/step - loss: 4.5189e-04\n",
      "Epoch 7/20\n",
      "191/191 [==============================] - 0s 300us/step - loss: 4.6651e-04\n",
      "Epoch 8/20\n",
      "191/191 [==============================] - 0s 303us/step - loss: 4.9296e-04\n",
      "Epoch 9/20\n",
      "191/191 [==============================] - 0s 302us/step - loss: 6.0242e-04\n",
      "Epoch 10/20\n",
      "191/191 [==============================] - 0s 301us/step - loss: 4.8537e-04\n",
      "Epoch 11/20\n",
      "191/191 [==============================] - 0s 299us/step - loss: 4.7138e-04\n",
      "Epoch 12/20\n",
      "191/191 [==============================] - 0s 308us/step - loss: 4.9053e-04\n",
      "Epoch 13/20\n",
      "191/191 [==============================] - 0s 302us/step - loss: 5.3412e-04\n",
      "Epoch 14/20\n",
      "191/191 [==============================] - 0s 299us/step - loss: 4.5802e-04\n",
      "Epoch 15/20\n",
      "191/191 [==============================] - 0s 302us/step - loss: 4.4938e-04\n",
      "Epoch 16/20\n",
      "191/191 [==============================] - 0s 305us/step - loss: 4.5344e-04\n",
      "Epoch 17/20\n",
      "191/191 [==============================] - 0s 299us/step - loss: 4.4035e-04\n",
      "Epoch 18/20\n",
      "191/191 [==============================] - 0s 301us/step - loss: 4.3102e-04\n",
      "Epoch 19/20\n",
      "191/191 [==============================] - 0s 301us/step - loss: 4.1823e-04\n",
      "Epoch 20/20\n",
      "191/191 [==============================] - 0s 300us/step - loss: 4.5160e-04\n",
      "48/48 [==============================] - 0s 252us/step - loss: 4.6929e-04\n",
      "Epoch 1/20\n",
      "191/191 [==============================] - 0s 330us/step - loss: 0.0099\n",
      "Epoch 2/20\n",
      "191/191 [==============================] - 0s 300us/step - loss: 0.0015\n",
      "Epoch 3/20\n",
      "191/191 [==============================] - 0s 297us/step - loss: 0.0016\n",
      "Epoch 4/20\n",
      "191/191 [==============================] - 0s 293us/step - loss: 0.0015\n",
      "Epoch 5/20\n",
      "191/191 [==============================] - 0s 300us/step - loss: 0.0016\n",
      "Epoch 6/20\n",
      "191/191 [==============================] - 0s 298us/step - loss: 0.0017\n",
      "Epoch 7/20\n",
      "191/191 [==============================] - 0s 303us/step - loss: 0.0016\n",
      "Epoch 8/20\n",
      "191/191 [==============================] - 0s 301us/step - loss: 0.0016\n",
      "Epoch 9/20\n",
      "191/191 [==============================] - 0s 297us/step - loss: 0.0016\n",
      "Epoch 10/20\n",
      "191/191 [==============================] - 0s 303us/step - loss: 0.0017\n",
      "Epoch 11/20\n",
      "191/191 [==============================] - 0s 296us/step - loss: 0.0016\n",
      "Epoch 12/20\n",
      "191/191 [==============================] - 0s 303us/step - loss: 0.0017\n",
      "Epoch 13/20\n",
      "191/191 [==============================] - 0s 302us/step - loss: 0.0017\n",
      "Epoch 14/20\n",
      "191/191 [==============================] - 0s 296us/step - loss: 0.0017\n",
      "Epoch 15/20\n",
      "191/191 [==============================] - 0s 295us/step - loss: 0.0016\n",
      "Epoch 16/20\n",
      "191/191 [==============================] - 0s 299us/step - loss: 0.0017\n",
      "Epoch 17/20\n",
      "191/191 [==============================] - 0s 304us/step - loss: 0.0017\n",
      "Epoch 18/20\n",
      "191/191 [==============================] - 0s 298us/step - loss: 0.0016\n",
      "Epoch 19/20\n",
      "191/191 [==============================] - 0s 300us/step - loss: 0.0016\n",
      "Epoch 20/20\n",
      "191/191 [==============================] - 0s 296us/step - loss: 0.0018\n",
      "48/48 [==============================] - 0s 255us/step - loss: 0.0035\n",
      "Epoch 1/20\n",
      "191/191 [==============================] - 0s 337us/step - loss: 0.0240\n",
      "Epoch 2/20\n",
      "191/191 [==============================] - 0s 301us/step - loss: 0.0018\n",
      "Epoch 3/20\n",
      "191/191 [==============================] - 0s 312us/step - loss: 0.0015\n",
      "Epoch 4/20\n",
      "191/191 [==============================] - 0s 298us/step - loss: 8.4663e-04\n",
      "Epoch 5/20\n",
      "191/191 [==============================] - 0s 302us/step - loss: 6.6286e-04\n",
      "Epoch 6/20\n",
      "191/191 [==============================] - 0s 340us/step - loss: 5.8645e-04\n",
      "Epoch 7/20\n",
      "191/191 [==============================] - 0s 306us/step - loss: 5.5788e-04\n",
      "Epoch 8/20\n",
      "191/191 [==============================] - 0s 311us/step - loss: 5.7331e-04\n",
      "Epoch 9/20\n",
      "191/191 [==============================] - 0s 312us/step - loss: 5.4059e-04\n",
      "Epoch 10/20\n",
      "191/191 [==============================] - 0s 305us/step - loss: 5.2583e-04\n",
      "Epoch 11/20\n",
      "191/191 [==============================] - 0s 299us/step - loss: 5.4335e-04\n",
      "Epoch 12/20\n",
      "191/191 [==============================] - 0s 294us/step - loss: 5.5674e-04\n",
      "Epoch 13/20\n",
      "191/191 [==============================] - 0s 295us/step - loss: 5.0947e-04\n",
      "Epoch 14/20\n",
      "191/191 [==============================] - 0s 300us/step - loss: 5.1169e-04\n",
      "Epoch 15/20\n",
      "191/191 [==============================] - 0s 297us/step - loss: 4.9599e-04\n",
      "Epoch 16/20\n",
      "191/191 [==============================] - 0s 300us/step - loss: 5.1761e-04\n",
      "Epoch 17/20\n",
      "191/191 [==============================] - 0s 296us/step - loss: 5.4629e-04\n",
      "Epoch 18/20\n",
      "191/191 [==============================] - 0s 297us/step - loss: 5.4657e-04\n",
      "Epoch 19/20\n",
      "191/191 [==============================] - 0s 293us/step - loss: 5.0535e-04\n",
      "Epoch 20/20\n",
      "191/191 [==============================] - 0s 294us/step - loss: 5.0070e-04\n",
      "48/48 [==============================] - 0s 255us/step - loss: 4.8462e-04\n",
      "Epoch 1/16\n",
      "239/239 [==============================] - 0s 318us/step - loss: 0.0016\n",
      "Epoch 2/16\n",
      "239/239 [==============================] - 0s 298us/step - loss: 5.5027e-04\n",
      "Epoch 3/16\n",
      "239/239 [==============================] - 0s 298us/step - loss: 5.7352e-04\n",
      "Epoch 4/16\n",
      "239/239 [==============================] - 0s 294us/step - loss: 6.0341e-04\n",
      "Epoch 5/16\n",
      "239/239 [==============================] - 0s 299us/step - loss: 5.2412e-04\n",
      "Epoch 6/16\n",
      "239/239 [==============================] - 0s 295us/step - loss: 5.1458e-04\n",
      "Epoch 7/16\n",
      "239/239 [==============================] - 0s 295us/step - loss: 5.4017e-04\n",
      "Epoch 8/16\n",
      "239/239 [==============================] - 0s 297us/step - loss: 5.4829e-04\n",
      "Epoch 9/16\n",
      "239/239 [==============================] - 0s 297us/step - loss: 5.9736e-04\n",
      "Epoch 10/16\n",
      "239/239 [==============================] - 0s 299us/step - loss: 5.3158e-04\n",
      "Epoch 11/16\n",
      "239/239 [==============================] - 0s 301us/step - loss: 4.7061e-04\n",
      "Epoch 12/16\n",
      "239/239 [==============================] - 0s 299us/step - loss: 4.9207e-04\n",
      "Epoch 13/16\n",
      "239/239 [==============================] - 0s 299us/step - loss: 4.7868e-04\n",
      "Epoch 14/16\n",
      "239/239 [==============================] - 0s 297us/step - loss: 4.1862e-04\n",
      "Epoch 15/16\n",
      "239/239 [==============================] - 0s 299us/step - loss: 4.4920e-04\n",
      "Epoch 16/16\n",
      "239/239 [==============================] - 0s 299us/step - loss: 5.0330e-04\n"
     ]
    }
   ],
   "source": [
    "\"\"\"\n",
    "训练网络\n",
    "\"\"\"\n",
    "grid_search = grid_search.fit(trainX, trainY)\n",
    "# 将最佳模型保存在my_model变量中\n",
    "model = grid_search.best_estimator_.model"
   ],
   "metadata": {
    "collapsed": false,
    "ExecuteTime": {
     "end_time": "2025-04-20T05:13:21.300597100Z",
     "start_time": "2024-03-28T14:11:54.179711Z"
    }
   }
  },
  {
   "cell_type": "code",
   "execution_count": 15,
   "metadata": {
    "ExecuteTime": {
     "end_time": "2025-04-20T05:13:21.301597100Z",
     "start_time": "2024-03-28T14:12:23.214196Z"
    }
   },
   "outputs": [
    {
     "data": {
      "text/plain": "{'batch_size': 20, 'epochs': 16}"
     },
     "execution_count": 15,
     "metadata": {},
     "output_type": "execute_result"
    }
   ],
   "source": [
    "grid_search.best_params_"
   ]
  },
  {
   "cell_type": "code",
   "execution_count": 16,
   "outputs": [
    {
     "name": "stdout",
     "output_type": "stream",
     "text": [
      "Model: \"sequential_20\"\n",
      "_________________________________________________________________\n",
      " Layer (type)                Output Shape              Param #   \n",
      "=================================================================\n",
      " dense_60 (Dense)            (None, 16)                240       \n",
      "                                                                 \n",
      " dense_61 (Dense)            (None, 64)                1088      \n",
      "                                                                 \n",
      " dense_62 (Dense)            (None, 1)                 65        \n",
      "                                                                 \n",
      "=================================================================\n",
      "Total params: 1,393\n",
      "Trainable params: 1,393\n",
      "Non-trainable params: 0\n",
      "_________________________________________________________________\n"
     ]
    }
   ],
   "source": [
    "model.summary()"
   ],
   "metadata": {
    "collapsed": false,
    "ExecuteTime": {
     "end_time": "2025-04-20T05:13:21.302597600Z",
     "start_time": "2024-03-28T14:12:23.217038Z"
    }
   }
  },
  {
   "cell_type": "code",
   "execution_count": 17,
   "metadata": {
    "ExecuteTime": {
     "end_time": "2025-04-20T05:13:21.302597600Z",
     "start_time": "2024-03-28T14:12:23.223271Z"
    }
   },
   "outputs": [
    {
     "name": "stdout",
     "output_type": "stream",
     "text": [
      "64/64 [==============================] - 0s 219us/step\n"
     ]
    }
   ],
   "source": [
    "\"\"\"\n",
    "在测试集上的预测\n",
    "\"\"\"\n",
    "y_predict = model.predict(testX)"
   ]
  },
  {
   "cell_type": "code",
   "execution_count": 18,
   "outputs": [
    {
     "name": "stdout",
     "output_type": "stream",
     "text": [
      "149/149 [==============================] - 0s 186us/step\n"
     ]
    }
   ],
   "source": [
    "train_predict = model.predict(trainX)"
   ],
   "metadata": {
    "collapsed": false,
    "ExecuteTime": {
     "end_time": "2025-04-20T05:13:21.302597600Z",
     "start_time": "2024-03-28T14:12:23.290526Z"
    }
   }
  },
  {
   "cell_type": "code",
   "execution_count": 19,
   "outputs": [
    {
     "data": {
      "text/plain": "array([370.65866 , 166.92632 , 148.39894 , ..., -27.485518, -48.927273,\n       -83.82938 ], dtype=float32)"
     },
     "execution_count": 19,
     "metadata": {},
     "output_type": "execute_result"
    }
   ],
   "source": [
    "# 逆缩放\n",
    "prediction_copies_array = np.repeat(y_predict, 2, axis=-1)\n",
    "pred = scaler.inverse_transform(np.reshape(prediction_copies_array, (len(y_predict), 2)))[:, 0]\n",
    "pred"
   ],
   "metadata": {
    "collapsed": false,
    "ExecuteTime": {
     "end_time": "2025-04-20T05:13:21.303597600Z",
     "start_time": "2024-03-28T14:12:23.356135Z"
    }
   }
  },
  {
   "cell_type": "code",
   "execution_count": 20,
   "outputs": [
    {
     "data": {
      "text/plain": "            Qsim\n0     370.658661\n1     166.926315\n2     148.398941\n3     235.396103\n4     160.929993\n...          ...\n2039  -84.213837\n2040  -19.184826\n2041  -27.485518\n2042  -48.927273\n2043  -83.829376\n\n[2044 rows x 1 columns]",
      "text/html": "<div>\n<style scoped>\n    .dataframe tbody tr th:only-of-type {\n        vertical-align: middle;\n    }\n\n    .dataframe tbody tr th {\n        vertical-align: top;\n    }\n\n    .dataframe thead th {\n        text-align: right;\n    }\n</style>\n<table border=\"1\" class=\"dataframe\">\n  <thead>\n    <tr style=\"text-align: right;\">\n      <th></th>\n      <th>Qsim</th>\n    </tr>\n  </thead>\n  <tbody>\n    <tr>\n      <th>0</th>\n      <td>370.658661</td>\n    </tr>\n    <tr>\n      <th>1</th>\n      <td>166.926315</td>\n    </tr>\n    <tr>\n      <th>2</th>\n      <td>148.398941</td>\n    </tr>\n    <tr>\n      <th>3</th>\n      <td>235.396103</td>\n    </tr>\n    <tr>\n      <th>4</th>\n      <td>160.929993</td>\n    </tr>\n    <tr>\n      <th>...</th>\n      <td>...</td>\n    </tr>\n    <tr>\n      <th>2039</th>\n      <td>-84.213837</td>\n    </tr>\n    <tr>\n      <th>2040</th>\n      <td>-19.184826</td>\n    </tr>\n    <tr>\n      <th>2041</th>\n      <td>-27.485518</td>\n    </tr>\n    <tr>\n      <th>2042</th>\n      <td>-48.927273</td>\n    </tr>\n    <tr>\n      <th>2043</th>\n      <td>-83.829376</td>\n    </tr>\n  </tbody>\n</table>\n<p>2044 rows × 1 columns</p>\n</div>"
     },
     "execution_count": 20,
     "metadata": {},
     "output_type": "execute_result"
    }
   ],
   "source": [
    "pred = pd.DataFrame(pred)\n",
    "pred.columns = ['Qsim']\n",
    "pred"
   ],
   "metadata": {
    "collapsed": false,
    "ExecuteTime": {
     "end_time": "2025-04-20T05:13:21.304597800Z",
     "start_time": "2024-03-28T14:12:23.360910Z"
    }
   }
  },
  {
   "cell_type": "code",
   "execution_count": 21,
   "outputs": [
    {
     "data": {
      "text/plain": "            Qobs\n0     357.285417\n1     266.375000\n2     292.975000\n3     279.295833\n4     263.750000\n...          ...\n2039   39.116250\n2040   46.711250\n2041   70.970417\n2042   64.495417\n2043   59.041250\n\n[2044 rows x 1 columns]",
      "text/html": "<div>\n<style scoped>\n    .dataframe tbody tr th:only-of-type {\n        vertical-align: middle;\n    }\n\n    .dataframe tbody tr th {\n        vertical-align: top;\n    }\n\n    .dataframe thead th {\n        text-align: right;\n    }\n</style>\n<table border=\"1\" class=\"dataframe\">\n  <thead>\n    <tr style=\"text-align: right;\">\n      <th></th>\n      <th>Qobs</th>\n    </tr>\n  </thead>\n  <tbody>\n    <tr>\n      <th>0</th>\n      <td>357.285417</td>\n    </tr>\n    <tr>\n      <th>1</th>\n      <td>266.375000</td>\n    </tr>\n    <tr>\n      <th>2</th>\n      <td>292.975000</td>\n    </tr>\n    <tr>\n      <th>3</th>\n      <td>279.295833</td>\n    </tr>\n    <tr>\n      <th>4</th>\n      <td>263.750000</td>\n    </tr>\n    <tr>\n      <th>...</th>\n      <td>...</td>\n    </tr>\n    <tr>\n      <th>2039</th>\n      <td>39.116250</td>\n    </tr>\n    <tr>\n      <th>2040</th>\n      <td>46.711250</td>\n    </tr>\n    <tr>\n      <th>2041</th>\n      <td>70.970417</td>\n    </tr>\n    <tr>\n      <th>2042</th>\n      <td>64.495417</td>\n    </tr>\n    <tr>\n      <th>2043</th>\n      <td>59.041250</td>\n    </tr>\n  </tbody>\n</table>\n<p>2044 rows × 1 columns</p>\n</div>"
     },
     "execution_count": 21,
     "metadata": {},
     "output_type": "execute_result"
    }
   ],
   "source": [
    "# 同样步骤进行逆变换\n",
    "original_copies_array = np.repeat(testY, 2, axis=-1)\n",
    "original = scaler.inverse_transform(np.reshape(original_copies_array, (len(testY), 2)))[:, 0]\n",
    "original = pd.DataFrame(original)\n",
    "original.columns = ['Qobs']\n",
    "original"
   ],
   "metadata": {
    "collapsed": false,
    "ExecuteTime": {
     "end_time": "2025-04-20T05:13:21.306599100Z",
     "start_time": "2024-03-28T14:12:23.363552Z"
    }
   }
  },
  {
   "cell_type": "code",
   "execution_count": 22,
   "outputs": [
    {
     "data": {
      "text/plain": "(4764,)"
     },
     "execution_count": 22,
     "metadata": {},
     "output_type": "execute_result"
    }
   ],
   "source": [
    "# 对测试集输出数据进行逆变换\n",
    "prediction_copies_array = np.repeat(train_predict, 2, axis=-1)\n",
    "train_pred = scaler.inverse_transform(np.reshape(prediction_copies_array, (len(train_predict), 2)))[:, 0]\n",
    "train_pred.shape"
   ],
   "metadata": {
    "collapsed": false,
    "ExecuteTime": {
     "end_time": "2025-04-20T05:13:21.307599500Z",
     "start_time": "2024-03-28T14:12:23.367739Z"
    }
   }
  },
  {
   "cell_type": "code",
   "execution_count": 23,
   "outputs": [
    {
     "data": {
      "text/plain": "(4764,)"
     },
     "execution_count": 23,
     "metadata": {},
     "output_type": "execute_result"
    }
   ],
   "source": [
    "# 对测试数据Y进行逆变换\n",
    "train_original_copies_array = np.repeat(trainY, 2, axis=-1)\n",
    "train_original = scaler.inverse_transform(np.reshape(train_original_copies_array, (len(trainY), 2)))[:, 0]\n",
    "train_original.shape"
   ],
   "metadata": {
    "collapsed": false,
    "ExecuteTime": {
     "end_time": "2025-04-20T05:13:21.309599400Z",
     "start_time": "2024-03-28T14:12:23.371211Z"
    }
   }
  },
  {
   "cell_type": "code",
   "execution_count": 24,
   "outputs": [
    {
     "data": {
      "text/plain": "            Qsim\n0      31.066195\n1     146.315338\n2      38.648571\n3      -1.733313\n4      12.048175\n...          ...\n4759   54.205063\n4760  -10.140836\n4761   53.645103\n4762  494.237854\n4763  142.717209\n\n[4764 rows x 1 columns]",
      "text/html": "<div>\n<style scoped>\n    .dataframe tbody tr th:only-of-type {\n        vertical-align: middle;\n    }\n\n    .dataframe tbody tr th {\n        vertical-align: top;\n    }\n\n    .dataframe thead th {\n        text-align: right;\n    }\n</style>\n<table border=\"1\" class=\"dataframe\">\n  <thead>\n    <tr style=\"text-align: right;\">\n      <th></th>\n      <th>Qsim</th>\n    </tr>\n  </thead>\n  <tbody>\n    <tr>\n      <th>0</th>\n      <td>31.066195</td>\n    </tr>\n    <tr>\n      <th>1</th>\n      <td>146.315338</td>\n    </tr>\n    <tr>\n      <th>2</th>\n      <td>38.648571</td>\n    </tr>\n    <tr>\n      <th>3</th>\n      <td>-1.733313</td>\n    </tr>\n    <tr>\n      <th>4</th>\n      <td>12.048175</td>\n    </tr>\n    <tr>\n      <th>...</th>\n      <td>...</td>\n    </tr>\n    <tr>\n      <th>4759</th>\n      <td>54.205063</td>\n    </tr>\n    <tr>\n      <th>4760</th>\n      <td>-10.140836</td>\n    </tr>\n    <tr>\n      <th>4761</th>\n      <td>53.645103</td>\n    </tr>\n    <tr>\n      <th>4762</th>\n      <td>494.237854</td>\n    </tr>\n    <tr>\n      <th>4763</th>\n      <td>142.717209</td>\n    </tr>\n  </tbody>\n</table>\n<p>4764 rows × 1 columns</p>\n</div>"
     },
     "execution_count": 24,
     "metadata": {},
     "output_type": "execute_result"
    }
   ],
   "source": [
    "train_pred = pd.DataFrame(train_pred)\n",
    "train_pred.columns = ['Qsim']\n",
    "train_pred"
   ],
   "metadata": {
    "collapsed": false,
    "ExecuteTime": {
     "end_time": "2025-04-20T05:13:21.309599400Z",
     "start_time": "2024-03-28T14:12:23.375335Z"
    }
   }
  },
  {
   "cell_type": "code",
   "execution_count": 25,
   "outputs": [
    {
     "data": {
      "text/plain": "            Qobs\n0     182.373833\n1     259.538958\n2     168.067458\n3     136.108833\n4     274.106833\n...          ...\n4759  179.575000\n4760  254.883333\n4761  518.239583\n4762  342.933333\n4763  363.845833\n\n[4764 rows x 1 columns]",
      "text/html": "<div>\n<style scoped>\n    .dataframe tbody tr th:only-of-type {\n        vertical-align: middle;\n    }\n\n    .dataframe tbody tr th {\n        vertical-align: top;\n    }\n\n    .dataframe thead th {\n        text-align: right;\n    }\n</style>\n<table border=\"1\" class=\"dataframe\">\n  <thead>\n    <tr style=\"text-align: right;\">\n      <th></th>\n      <th>Qobs</th>\n    </tr>\n  </thead>\n  <tbody>\n    <tr>\n      <th>0</th>\n      <td>182.373833</td>\n    </tr>\n    <tr>\n      <th>1</th>\n      <td>259.538958</td>\n    </tr>\n    <tr>\n      <th>2</th>\n      <td>168.067458</td>\n    </tr>\n    <tr>\n      <th>3</th>\n      <td>136.108833</td>\n    </tr>\n    <tr>\n      <th>4</th>\n      <td>274.106833</td>\n    </tr>\n    <tr>\n      <th>...</th>\n      <td>...</td>\n    </tr>\n    <tr>\n      <th>4759</th>\n      <td>179.575000</td>\n    </tr>\n    <tr>\n      <th>4760</th>\n      <td>254.883333</td>\n    </tr>\n    <tr>\n      <th>4761</th>\n      <td>518.239583</td>\n    </tr>\n    <tr>\n      <th>4762</th>\n      <td>342.933333</td>\n    </tr>\n    <tr>\n      <th>4763</th>\n      <td>363.845833</td>\n    </tr>\n  </tbody>\n</table>\n<p>4764 rows × 1 columns</p>\n</div>"
     },
     "execution_count": 25,
     "metadata": {},
     "output_type": "execute_result"
    }
   ],
   "source": [
    "train_original = pd.DataFrame(train_original)\n",
    "train_original.columns = ['Qobs']\n",
    "train_original"
   ],
   "metadata": {
    "collapsed": false,
    "ExecuteTime": {
     "end_time": "2025-04-20T05:13:21.310600Z",
     "start_time": "2024-03-28T14:12:23.379309Z"
    }
   }
  },
  {
   "cell_type": "code",
   "execution_count": 26,
   "outputs": [
    {
     "data": {
      "text/plain": "           Date           Q      P\n0    2000-03-04   95.218583  2.779\n1    2000-03-05  111.431333  2.721\n2    2000-03-06   92.994458  1.991\n3    2000-03-07   90.252708  5.497\n4    2000-03-08   86.227667  4.970\n...         ...         ...    ...\n6810 2018-10-26   39.116250  8.492\n6811 2018-10-27   46.711250  5.857\n6812 2018-10-28   70.970417  3.264\n6813 2018-10-29   64.495417  0.000\n6814 2018-10-30   59.041250  0.000\n\n[6815 rows x 3 columns]",
      "text/html": "<div>\n<style scoped>\n    .dataframe tbody tr th:only-of-type {\n        vertical-align: middle;\n    }\n\n    .dataframe tbody tr th {\n        vertical-align: top;\n    }\n\n    .dataframe thead th {\n        text-align: right;\n    }\n</style>\n<table border=\"1\" class=\"dataframe\">\n  <thead>\n    <tr style=\"text-align: right;\">\n      <th></th>\n      <th>Date</th>\n      <th>Q</th>\n      <th>P</th>\n    </tr>\n  </thead>\n  <tbody>\n    <tr>\n      <th>0</th>\n      <td>2000-03-04</td>\n      <td>95.218583</td>\n      <td>2.779</td>\n    </tr>\n    <tr>\n      <th>1</th>\n      <td>2000-03-05</td>\n      <td>111.431333</td>\n      <td>2.721</td>\n    </tr>\n    <tr>\n      <th>2</th>\n      <td>2000-03-06</td>\n      <td>92.994458</td>\n      <td>1.991</td>\n    </tr>\n    <tr>\n      <th>3</th>\n      <td>2000-03-07</td>\n      <td>90.252708</td>\n      <td>5.497</td>\n    </tr>\n    <tr>\n      <th>4</th>\n      <td>2000-03-08</td>\n      <td>86.227667</td>\n      <td>4.970</td>\n    </tr>\n    <tr>\n      <th>...</th>\n      <td>...</td>\n      <td>...</td>\n      <td>...</td>\n    </tr>\n    <tr>\n      <th>6810</th>\n      <td>2018-10-26</td>\n      <td>39.116250</td>\n      <td>8.492</td>\n    </tr>\n    <tr>\n      <th>6811</th>\n      <td>2018-10-27</td>\n      <td>46.711250</td>\n      <td>5.857</td>\n    </tr>\n    <tr>\n      <th>6812</th>\n      <td>2018-10-28</td>\n      <td>70.970417</td>\n      <td>3.264</td>\n    </tr>\n    <tr>\n      <th>6813</th>\n      <td>2018-10-29</td>\n      <td>64.495417</td>\n      <td>0.000</td>\n    </tr>\n    <tr>\n      <th>6814</th>\n      <td>2018-10-30</td>\n      <td>59.041250</td>\n      <td>0.000</td>\n    </tr>\n  </tbody>\n</table>\n<p>6815 rows × 3 columns</p>\n</div>"
     },
     "execution_count": 26,
     "metadata": {},
     "output_type": "execute_result"
    }
   ],
   "source": [
    "df_copy"
   ],
   "metadata": {
    "collapsed": false,
    "ExecuteTime": {
     "end_time": "2025-04-20T05:13:21.312599600Z",
     "start_time": "2024-03-28T14:12:23.384120Z"
    }
   }
  },
  {
   "cell_type": "code",
   "execution_count": 27,
   "outputs": [
    {
     "data": {
      "text/plain": "           Date           Q       P\n4771 2013-03-27  357.285417   0.000\n4772 2013-03-28  266.375000   5.566\n4773 2013-03-29  292.975000  15.177\n4774 2013-03-30  279.295833   7.662\n4775 2013-03-31  263.750000   0.622\n...         ...         ...     ...\n6810 2018-10-26   39.116250   8.492\n6811 2018-10-27   46.711250   5.857\n6812 2018-10-28   70.970417   3.264\n6813 2018-10-29   64.495417   0.000\n6814 2018-10-30   59.041250   0.000\n\n[2044 rows x 3 columns]",
      "text/html": "<div>\n<style scoped>\n    .dataframe tbody tr th:only-of-type {\n        vertical-align: middle;\n    }\n\n    .dataframe tbody tr th {\n        vertical-align: top;\n    }\n\n    .dataframe thead th {\n        text-align: right;\n    }\n</style>\n<table border=\"1\" class=\"dataframe\">\n  <thead>\n    <tr style=\"text-align: right;\">\n      <th></th>\n      <th>Date</th>\n      <th>Q</th>\n      <th>P</th>\n    </tr>\n  </thead>\n  <tbody>\n    <tr>\n      <th>4771</th>\n      <td>2013-03-27</td>\n      <td>357.285417</td>\n      <td>0.000</td>\n    </tr>\n    <tr>\n      <th>4772</th>\n      <td>2013-03-28</td>\n      <td>266.375000</td>\n      <td>5.566</td>\n    </tr>\n    <tr>\n      <th>4773</th>\n      <td>2013-03-29</td>\n      <td>292.975000</td>\n      <td>15.177</td>\n    </tr>\n    <tr>\n      <th>4774</th>\n      <td>2013-03-30</td>\n      <td>279.295833</td>\n      <td>7.662</td>\n    </tr>\n    <tr>\n      <th>4775</th>\n      <td>2013-03-31</td>\n      <td>263.750000</td>\n      <td>0.622</td>\n    </tr>\n    <tr>\n      <th>...</th>\n      <td>...</td>\n      <td>...</td>\n      <td>...</td>\n    </tr>\n    <tr>\n      <th>6810</th>\n      <td>2018-10-26</td>\n      <td>39.116250</td>\n      <td>8.492</td>\n    </tr>\n    <tr>\n      <th>6811</th>\n      <td>2018-10-27</td>\n      <td>46.711250</td>\n      <td>5.857</td>\n    </tr>\n    <tr>\n      <th>6812</th>\n      <td>2018-10-28</td>\n      <td>70.970417</td>\n      <td>3.264</td>\n    </tr>\n    <tr>\n      <th>6813</th>\n      <td>2018-10-29</td>\n      <td>64.495417</td>\n      <td>0.000</td>\n    </tr>\n    <tr>\n      <th>6814</th>\n      <td>2018-10-30</td>\n      <td>59.041250</td>\n      <td>0.000</td>\n    </tr>\n  </tbody>\n</table>\n<p>2044 rows × 3 columns</p>\n</div>"
     },
     "execution_count": 27,
     "metadata": {},
     "output_type": "execute_result"
    }
   ],
   "source": [
    "test_df = df_copy[-test_split :]\n",
    "test_df"
   ],
   "metadata": {
    "collapsed": false,
    "ExecuteTime": {
     "end_time": "2025-04-20T05:13:21.313600600Z",
     "start_time": "2024-03-28T14:12:23.386822Z"
    }
   }
  },
  {
   "cell_type": "code",
   "execution_count": 28,
   "outputs": [
    {
     "data": {
      "text/plain": "           Date           Q       P\n7    2000-03-11  182.373833  17.821\n8    2000-03-12  259.538958   1.398\n9    2000-03-13  168.067458   1.793\n10   2000-03-14  136.108833   4.513\n11   2000-03-15  274.106833  37.667\n...         ...         ...     ...\n4766 2013-03-22  179.575000   0.000\n4767 2013-03-23  254.883333   8.498\n4768 2013-03-24  518.239583  30.304\n4769 2013-03-25  342.933333   0.000\n4770 2013-03-26  363.845833  29.045\n\n[4764 rows x 3 columns]",
      "text/html": "<div>\n<style scoped>\n    .dataframe tbody tr th:only-of-type {\n        vertical-align: middle;\n    }\n\n    .dataframe tbody tr th {\n        vertical-align: top;\n    }\n\n    .dataframe thead th {\n        text-align: right;\n    }\n</style>\n<table border=\"1\" class=\"dataframe\">\n  <thead>\n    <tr style=\"text-align: right;\">\n      <th></th>\n      <th>Date</th>\n      <th>Q</th>\n      <th>P</th>\n    </tr>\n  </thead>\n  <tbody>\n    <tr>\n      <th>7</th>\n      <td>2000-03-11</td>\n      <td>182.373833</td>\n      <td>17.821</td>\n    </tr>\n    <tr>\n      <th>8</th>\n      <td>2000-03-12</td>\n      <td>259.538958</td>\n      <td>1.398</td>\n    </tr>\n    <tr>\n      <th>9</th>\n      <td>2000-03-13</td>\n      <td>168.067458</td>\n      <td>1.793</td>\n    </tr>\n    <tr>\n      <th>10</th>\n      <td>2000-03-14</td>\n      <td>136.108833</td>\n      <td>4.513</td>\n    </tr>\n    <tr>\n      <th>11</th>\n      <td>2000-03-15</td>\n      <td>274.106833</td>\n      <td>37.667</td>\n    </tr>\n    <tr>\n      <th>...</th>\n      <td>...</td>\n      <td>...</td>\n      <td>...</td>\n    </tr>\n    <tr>\n      <th>4766</th>\n      <td>2013-03-22</td>\n      <td>179.575000</td>\n      <td>0.000</td>\n    </tr>\n    <tr>\n      <th>4767</th>\n      <td>2013-03-23</td>\n      <td>254.883333</td>\n      <td>8.498</td>\n    </tr>\n    <tr>\n      <th>4768</th>\n      <td>2013-03-24</td>\n      <td>518.239583</td>\n      <td>30.304</td>\n    </tr>\n    <tr>\n      <th>4769</th>\n      <td>2013-03-25</td>\n      <td>342.933333</td>\n      <td>0.000</td>\n    </tr>\n    <tr>\n      <th>4770</th>\n      <td>2013-03-26</td>\n      <td>363.845833</td>\n      <td>29.045</td>\n    </tr>\n  </tbody>\n</table>\n<p>4764 rows × 3 columns</p>\n</div>"
     },
     "execution_count": 28,
     "metadata": {},
     "output_type": "execute_result"
    }
   ],
   "source": [
    "train_df = df_copy[n_past:-test_split]\n",
    "train_df"
   ],
   "metadata": {
    "collapsed": false,
    "ExecuteTime": {
     "end_time": "2025-04-20T05:13:21.315601100Z",
     "start_time": "2024-03-28T14:12:23.391520Z"
    }
   }
  },
  {
   "cell_type": "code",
   "execution_count": 29,
   "outputs": [
    {
     "data": {
      "text/plain": "0      2013-03-27\n1      2013-03-28\n2      2013-03-29\n3      2013-03-30\n4      2013-03-31\n          ...    \n2039   2018-10-26\n2040   2018-10-27\n2041   2018-10-28\n2042   2018-10-29\n2043   2018-10-30\nName: Date, Length: 2044, dtype: datetime64[ns]"
     },
     "execution_count": 29,
     "metadata": {},
     "output_type": "execute_result"
    }
   ],
   "source": [
    "test_df = test_df.reset_index(drop=True)\n",
    "test_df = test_df['Date']\n",
    "test_df"
   ],
   "metadata": {
    "collapsed": false,
    "ExecuteTime": {
     "end_time": "2025-04-20T05:13:21.316600700Z",
     "start_time": "2024-03-28T14:12:23.396623Z"
    }
   }
  },
  {
   "cell_type": "code",
   "execution_count": 30,
   "outputs": [
    {
     "data": {
      "text/plain": "0      2000-03-11\n1      2000-03-12\n2      2000-03-13\n3      2000-03-14\n4      2000-03-15\n          ...    \n4759   2013-03-22\n4760   2013-03-23\n4761   2013-03-24\n4762   2013-03-25\n4763   2013-03-26\nName: Date, Length: 4764, dtype: datetime64[ns]"
     },
     "execution_count": 30,
     "metadata": {},
     "output_type": "execute_result"
    }
   ],
   "source": [
    "train_df = train_df.reset_index(drop=True)\n",
    "train_df = train_df['Date']\n",
    "train_df"
   ],
   "metadata": {
    "collapsed": false,
    "ExecuteTime": {
     "end_time": "2025-04-20T05:13:21.318601600Z",
     "start_time": "2024-03-28T14:12:23.398839Z"
    }
   }
  },
  {
   "cell_type": "code",
   "execution_count": 31,
   "outputs": [
    {
     "data": {
      "text/plain": "                  Qobs        Qsim\nDate                              \n2013-03-27  357.285417  370.658661\n2013-03-28  266.375000  166.926315\n2013-03-29  292.975000  148.398941\n2013-03-30  279.295833  235.396103\n2013-03-31  263.750000  160.929993\n...                ...         ...\n2018-10-26   39.116250  -84.213837\n2018-10-27   46.711250  -19.184826\n2018-10-28   70.970417  -27.485518\n2018-10-29   64.495417  -48.927273\n2018-10-30   59.041250  -83.829376\n\n[2044 rows x 2 columns]",
      "text/html": "<div>\n<style scoped>\n    .dataframe tbody tr th:only-of-type {\n        vertical-align: middle;\n    }\n\n    .dataframe tbody tr th {\n        vertical-align: top;\n    }\n\n    .dataframe thead th {\n        text-align: right;\n    }\n</style>\n<table border=\"1\" class=\"dataframe\">\n  <thead>\n    <tr style=\"text-align: right;\">\n      <th></th>\n      <th>Qobs</th>\n      <th>Qsim</th>\n    </tr>\n    <tr>\n      <th>Date</th>\n      <th></th>\n      <th></th>\n    </tr>\n  </thead>\n  <tbody>\n    <tr>\n      <th>2013-03-27</th>\n      <td>357.285417</td>\n      <td>370.658661</td>\n    </tr>\n    <tr>\n      <th>2013-03-28</th>\n      <td>266.375000</td>\n      <td>166.926315</td>\n    </tr>\n    <tr>\n      <th>2013-03-29</th>\n      <td>292.975000</td>\n      <td>148.398941</td>\n    </tr>\n    <tr>\n      <th>2013-03-30</th>\n      <td>279.295833</td>\n      <td>235.396103</td>\n    </tr>\n    <tr>\n      <th>2013-03-31</th>\n      <td>263.750000</td>\n      <td>160.929993</td>\n    </tr>\n    <tr>\n      <th>...</th>\n      <td>...</td>\n      <td>...</td>\n    </tr>\n    <tr>\n      <th>2018-10-26</th>\n      <td>39.116250</td>\n      <td>-84.213837</td>\n    </tr>\n    <tr>\n      <th>2018-10-27</th>\n      <td>46.711250</td>\n      <td>-19.184826</td>\n    </tr>\n    <tr>\n      <th>2018-10-28</th>\n      <td>70.970417</td>\n      <td>-27.485518</td>\n    </tr>\n    <tr>\n      <th>2018-10-29</th>\n      <td>64.495417</td>\n      <td>-48.927273</td>\n    </tr>\n    <tr>\n      <th>2018-10-30</th>\n      <td>59.041250</td>\n      <td>-83.829376</td>\n    </tr>\n  </tbody>\n</table>\n<p>2044 rows × 2 columns</p>\n</div>"
     },
     "execution_count": 31,
     "metadata": {},
     "output_type": "execute_result"
    }
   ],
   "source": [
    "test_df_full = pd.concat([test_df, original, pred], axis=1)\n",
    "test_df_full = test_df_full.reset_index(drop=True)\n",
    "test_df_full = test_df_full.set_index('Date')\n",
    "test_df_full.to_csv('/Users/datou/PycharmProjects/model/JianyangSta/JY_data/JY_TestBP.csv')\n",
    "test_df_full"
   ],
   "metadata": {
    "collapsed": false,
    "ExecuteTime": {
     "end_time": "2025-04-20T05:13:21.318601600Z",
     "start_time": "2024-03-28T14:12:23.403244Z"
    }
   }
  },
  {
   "cell_type": "code",
   "execution_count": 32,
   "outputs": [
    {
     "data": {
      "text/plain": "                  Qobs        Qsim\nDate                              \n2000-03-11  182.373833   31.066195\n2000-03-12  259.538958  146.315338\n2000-03-13  168.067458   38.648571\n2000-03-14  136.108833   -1.733313\n2000-03-15  274.106833   12.048175\n...                ...         ...\n2013-03-22  179.575000   54.205063\n2013-03-23  254.883333  -10.140836\n2013-03-24  518.239583   53.645103\n2013-03-25  342.933333  494.237854\n2013-03-26  363.845833  142.717209\n\n[4764 rows x 2 columns]",
      "text/html": "<div>\n<style scoped>\n    .dataframe tbody tr th:only-of-type {\n        vertical-align: middle;\n    }\n\n    .dataframe tbody tr th {\n        vertical-align: top;\n    }\n\n    .dataframe thead th {\n        text-align: right;\n    }\n</style>\n<table border=\"1\" class=\"dataframe\">\n  <thead>\n    <tr style=\"text-align: right;\">\n      <th></th>\n      <th>Qobs</th>\n      <th>Qsim</th>\n    </tr>\n    <tr>\n      <th>Date</th>\n      <th></th>\n      <th></th>\n    </tr>\n  </thead>\n  <tbody>\n    <tr>\n      <th>2000-03-11</th>\n      <td>182.373833</td>\n      <td>31.066195</td>\n    </tr>\n    <tr>\n      <th>2000-03-12</th>\n      <td>259.538958</td>\n      <td>146.315338</td>\n    </tr>\n    <tr>\n      <th>2000-03-13</th>\n      <td>168.067458</td>\n      <td>38.648571</td>\n    </tr>\n    <tr>\n      <th>2000-03-14</th>\n      <td>136.108833</td>\n      <td>-1.733313</td>\n    </tr>\n    <tr>\n      <th>2000-03-15</th>\n      <td>274.106833</td>\n      <td>12.048175</td>\n    </tr>\n    <tr>\n      <th>...</th>\n      <td>...</td>\n      <td>...</td>\n    </tr>\n    <tr>\n      <th>2013-03-22</th>\n      <td>179.575000</td>\n      <td>54.205063</td>\n    </tr>\n    <tr>\n      <th>2013-03-23</th>\n      <td>254.883333</td>\n      <td>-10.140836</td>\n    </tr>\n    <tr>\n      <th>2013-03-24</th>\n      <td>518.239583</td>\n      <td>53.645103</td>\n    </tr>\n    <tr>\n      <th>2013-03-25</th>\n      <td>342.933333</td>\n      <td>494.237854</td>\n    </tr>\n    <tr>\n      <th>2013-03-26</th>\n      <td>363.845833</td>\n      <td>142.717209</td>\n    </tr>\n  </tbody>\n</table>\n<p>4764 rows × 2 columns</p>\n</div>"
     },
     "execution_count": 32,
     "metadata": {},
     "output_type": "execute_result"
    }
   ],
   "source": [
    "train_df_full = pd.concat([train_df, train_original, train_pred], axis=1)\n",
    "train_df_full = train_df_full.reset_index(drop=True)\n",
    "train_df_full = train_df_full.set_index('Date')\n",
    "train_df_full.to_csv('/Users/datou/PycharmProjects/model/JianyangSta/JY_data/JY_TrainBP.csv')\n",
    "train_df_full"
   ],
   "metadata": {
    "collapsed": false,
    "ExecuteTime": {
     "end_time": "2025-04-20T05:13:21.320601600Z",
     "start_time": "2024-03-28T14:12:23.411520Z"
    }
   }
  },
  {
   "cell_type": "code",
   "execution_count": 33,
   "outputs": [
    {
     "name": "stdout",
     "output_type": "stream",
     "text": [
      "MAE:154.0730115341061\n",
      "RMSE:198.06950811199238\n",
      "NSE:0.5117500781522951\n",
      "RE:-60.95846685266967\n",
      "Qmaxe:0.09632073208343267\n",
      "Qmine:6.177052655305271\n"
     ]
    },
    {
     "ename": "ValueError",
     "evalue": "not enough values to unpack (expected 7, got 6)",
     "output_type": "error",
     "traceback": [
      "\u001B[0;31m---------------------------------------------------------------------------\u001B[0m",
      "\u001B[0;31mValueError\u001B[0m                                Traceback (most recent call last)",
      "Cell \u001B[0;32mIn[33], line 4\u001B[0m\n\u001B[1;32m      1\u001B[0m \u001B[38;5;66;03m# 计算nash效率系数\u001B[39;00m\n\u001B[1;32m      2\u001B[0m \u001B[38;5;28;01mfrom\u001B[39;00m \u001B[38;5;21;01mtool\u001B[39;00m \u001B[38;5;28;01mimport\u001B[39;00m Indicator\n\u001B[0;32m----> 4\u001B[0m mae,rmse,r2,nse,re,qmaxe,qmine \u001B[38;5;241m=\u001B[39m Indicator\u001B[38;5;241m.\u001B[39meval(test_df_full[\u001B[38;5;124m'\u001B[39m\u001B[38;5;124mQsim\u001B[39m\u001B[38;5;124m'\u001B[39m], test_df_full[\u001B[38;5;124m'\u001B[39m\u001B[38;5;124mQobs\u001B[39m\u001B[38;5;124m'\u001B[39m])\n",
      "\u001B[0;31mValueError\u001B[0m: not enough values to unpack (expected 7, got 6)"
     ]
    }
   ],
   "source": [
    "# 计算nash效率系数\n",
    "from tool import Indicator\n",
    "\n",
    "mae,rmse,r2,nse,re,qmaxe,qmine = Indicator.eval(test_df_full['Qsim'], test_df_full['Qobs'])"
   ],
   "metadata": {
    "collapsed": false,
    "ExecuteTime": {
     "end_time": "2025-04-20T05:13:21.322602100Z",
     "start_time": "2024-03-28T14:12:23.425005Z"
    }
   }
  },
  {
   "cell_type": "code",
   "execution_count": null,
   "outputs": [],
   "source": [
    "# 比较预测值和原始值，进行绘图展示\n",
    "plt.figure(figsize=(12, 5))\n",
    "plt.plot(test_df_full['Qobs'], color='red', label='实测值')\n",
    "plt.plot(test_df_full['Qsim'], color='blue', label='模拟值', linestyle=\"--\")\n",
    "plt.title(' BP')\n",
    "plt.xlabel('年份')\n",
    "plt.ylabel('流量(m3/s)')\n",
    "plt.legend()\n",
    "plt.savefig(\"/Users/datou/PycharmProjects/model/JianyangSta/JY_picture/TestBP.png\")\n",
    "plt.show()"
   ],
   "metadata": {
    "collapsed": false,
    "ExecuteTime": {
     "end_time": "2025-04-20T05:13:21.323602100Z",
     "start_time": "2024-03-28T14:12:23.768986Z"
    }
   }
  },
  {
   "cell_type": "code",
   "execution_count": null,
   "outputs": [],
   "source": [
    "# 计算nash效率系数\n",
    "train_mae,train_rmse,train_r2,train_nse,train_re,train_qmaxe,train_qmine = Indicator.eval(train_df_full['Qsim'], train_df_full['Qobs'])\n",
    "# 比较预测值和原始值，进行绘图展示\n",
    "plt.figure(figsize=(12, 5))\n",
    "plt.plot(train_df_full['Qobs'], color='red', label='实测值')\n",
    "plt.plot(train_df_full['Qsim'], color='blue', label='模拟值', linestyle=\"--\")\n",
    "plt.title(' BP')\n",
    "plt.xlabel('年份')\n",
    "plt.ylabel('流量(m3/s)')\n",
    "plt.legend()\n",
    "plt.savefig(\"/Users/datou/PycharmProjects/model/JianyangSta/JY_picture/TrainBP.png\")\n",
    "plt.show()"
   ],
   "metadata": {
    "collapsed": false,
    "ExecuteTime": {
     "end_time": "2025-04-20T05:13:21.323602100Z",
     "start_time": "2024-03-28T14:12:23.769792Z"
    }
   }
  }
 ],
 "metadata": {
  "kernelspec": {
   "display_name": "Python 3",
   "language": "python",
   "name": "python3"
  },
  "language_info": {
   "codemirror_mode": {
    "name": "ipython",
    "version": 3
   },
   "file_extension": ".py",
   "mimetype": "text/x-python",
   "name": "python",
   "nbconvert_exporter": "python",
   "pygments_lexer": "ipython3",
   "version": "3.5.5"
  }
 },
 "nbformat": 4,
 "nbformat_minor": 2
}
