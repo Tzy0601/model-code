{
 "cells": [
  {
   "cell_type": "code",
   "execution_count": 1,
   "id": "initial_id",
   "metadata": {
    "collapsed": true,
    "ExecuteTime": {
     "end_time": "2024-03-22T10:08:15.783789Z",
     "start_time": "2024-03-22T10:08:15.580757Z"
    }
   },
   "outputs": [
    {
     "data": {
      "text/plain": "           Date  Qobs\n0    1996-11-25   391\n1    1996-11-26   383\n2    1996-11-27   292\n3    1996-11-28   316\n4    1996-11-29   309\n...         ...   ...\n1858 2001-12-27   766\n1859 2001-12-28   653\n1860 2001-12-29   536\n1861 2001-12-30   483\n1862 2001-12-31   522\n\n[1863 rows x 2 columns]",
      "text/html": "<div>\n<style scoped>\n    .dataframe tbody tr th:only-of-type {\n        vertical-align: middle;\n    }\n\n    .dataframe tbody tr th {\n        vertical-align: top;\n    }\n\n    .dataframe thead th {\n        text-align: right;\n    }\n</style>\n<table border=\"1\" class=\"dataframe\">\n  <thead>\n    <tr style=\"text-align: right;\">\n      <th></th>\n      <th>Date</th>\n      <th>Qobs</th>\n    </tr>\n  </thead>\n  <tbody>\n    <tr>\n      <th>0</th>\n      <td>1996-11-25</td>\n      <td>391</td>\n    </tr>\n    <tr>\n      <th>1</th>\n      <td>1996-11-26</td>\n      <td>383</td>\n    </tr>\n    <tr>\n      <th>2</th>\n      <td>1996-11-27</td>\n      <td>292</td>\n    </tr>\n    <tr>\n      <th>3</th>\n      <td>1996-11-28</td>\n      <td>316</td>\n    </tr>\n    <tr>\n      <th>4</th>\n      <td>1996-11-29</td>\n      <td>309</td>\n    </tr>\n    <tr>\n      <th>...</th>\n      <td>...</td>\n      <td>...</td>\n    </tr>\n    <tr>\n      <th>1858</th>\n      <td>2001-12-27</td>\n      <td>766</td>\n    </tr>\n    <tr>\n      <th>1859</th>\n      <td>2001-12-28</td>\n      <td>653</td>\n    </tr>\n    <tr>\n      <th>1860</th>\n      <td>2001-12-29</td>\n      <td>536</td>\n    </tr>\n    <tr>\n      <th>1861</th>\n      <td>2001-12-30</td>\n      <td>483</td>\n    </tr>\n    <tr>\n      <th>1862</th>\n      <td>2001-12-31</td>\n      <td>522</td>\n    </tr>\n  </tbody>\n</table>\n<p>1863 rows × 2 columns</p>\n</div>"
     },
     "execution_count": 1,
     "metadata": {},
     "output_type": "execute_result"
    }
   ],
   "source": [
    "# 导入进行线性回归的包\n",
    "import pandas as pd\n",
    "\n",
    "test_df = pd.read_csv(\"/Users/datou/PycharmProjects/model/HengyangSta/HY_ensemble/data/衡阳站多模型验证期结果.csv\",parse_dates=[\"Date\"])\n",
    "test_df_copy = test_df\n",
    "test_df_copy = test_df_copy.iloc[:, :2]\n",
    "test_df.reset_index(drop=True)\n",
    "test_df = test_df.set_index('Date')\n",
    "test_df_copy"
   ]
  },
  {
   "cell_type": "code",
   "execution_count": 2,
   "outputs": [
    {
     "data": {
      "text/plain": "            Qobs         XAJ        TVGM        TANK      GR4J         BP  \\\nDate                                                                        \n1985-01-16   479  125.424924   89.490725  203.925076  1228.700  535.80830   \n1985-01-17   542  129.779407  108.622667  176.088411  1206.218  494.26337   \n1985-01-18   557  151.626513  151.282451  159.980960  1213.434  559.14910   \n1985-01-19   476  201.089959  153.655796  147.003401  1115.715  556.46497   \n1985-01-20   464  175.316247  130.615103  129.756714  1002.941  462.31903   \n\n                   SVR        RNN       LSTM  \nDate                                          \n1985-01-16  566.903486  465.21158  473.53240  \n1985-01-17  503.363165  410.13797  441.47990  \n1985-01-18  633.332359  493.82303  537.95306  \n1985-01-19  597.860601  518.53470  512.38910  \n1985-01-20  477.763243  443.38382  425.26486  ",
      "text/html": "<div>\n<style scoped>\n    .dataframe tbody tr th:only-of-type {\n        vertical-align: middle;\n    }\n\n    .dataframe tbody tr th {\n        vertical-align: top;\n    }\n\n    .dataframe thead th {\n        text-align: right;\n    }\n</style>\n<table border=\"1\" class=\"dataframe\">\n  <thead>\n    <tr style=\"text-align: right;\">\n      <th></th>\n      <th>Qobs</th>\n      <th>XAJ</th>\n      <th>TVGM</th>\n      <th>TANK</th>\n      <th>GR4J</th>\n      <th>BP</th>\n      <th>SVR</th>\n      <th>RNN</th>\n      <th>LSTM</th>\n    </tr>\n    <tr>\n      <th>Date</th>\n      <th></th>\n      <th></th>\n      <th></th>\n      <th></th>\n      <th></th>\n      <th></th>\n      <th></th>\n      <th></th>\n      <th></th>\n    </tr>\n  </thead>\n  <tbody>\n    <tr>\n      <th>1985-01-16</th>\n      <td>479</td>\n      <td>125.424924</td>\n      <td>89.490725</td>\n      <td>203.925076</td>\n      <td>1228.700</td>\n      <td>535.80830</td>\n      <td>566.903486</td>\n      <td>465.21158</td>\n      <td>473.53240</td>\n    </tr>\n    <tr>\n      <th>1985-01-17</th>\n      <td>542</td>\n      <td>129.779407</td>\n      <td>108.622667</td>\n      <td>176.088411</td>\n      <td>1206.218</td>\n      <td>494.26337</td>\n      <td>503.363165</td>\n      <td>410.13797</td>\n      <td>441.47990</td>\n    </tr>\n    <tr>\n      <th>1985-01-18</th>\n      <td>557</td>\n      <td>151.626513</td>\n      <td>151.282451</td>\n      <td>159.980960</td>\n      <td>1213.434</td>\n      <td>559.14910</td>\n      <td>633.332359</td>\n      <td>493.82303</td>\n      <td>537.95306</td>\n    </tr>\n    <tr>\n      <th>1985-01-19</th>\n      <td>476</td>\n      <td>201.089959</td>\n      <td>153.655796</td>\n      <td>147.003401</td>\n      <td>1115.715</td>\n      <td>556.46497</td>\n      <td>597.860601</td>\n      <td>518.53470</td>\n      <td>512.38910</td>\n    </tr>\n    <tr>\n      <th>1985-01-20</th>\n      <td>464</td>\n      <td>175.316247</td>\n      <td>130.615103</td>\n      <td>129.756714</td>\n      <td>1002.941</td>\n      <td>462.31903</td>\n      <td>477.763243</td>\n      <td>443.38382</td>\n      <td>425.26486</td>\n    </tr>\n  </tbody>\n</table>\n</div>"
     },
     "execution_count": 2,
     "metadata": {},
     "output_type": "execute_result"
    }
   ],
   "source": [
    "\"\"\"\n",
    "读取训练数据\n",
    "\"\"\"\n",
    "train_df = pd.read_csv(\"/Users/datou/PycharmProjects/model/HengyangSta/HY_ensemble/data/衡阳站多模型率定期结果.csv\",parse_dates=[\"Date\"])\n",
    "train_df_copy = train_df\n",
    "train_df_copy = train_df_copy.iloc[:, :2]\n",
    "train_df.reset_index(drop=True)\n",
    "train_df = train_df.set_index('Date')\n",
    "train_df.head()"
   ],
   "metadata": {
    "collapsed": false,
    "ExecuteTime": {
     "end_time": "2024-03-22T10:08:15.868856Z",
     "start_time": "2024-03-22T10:08:15.808843Z"
    }
   },
   "id": "ff6d3d6a234871af"
  },
  {
   "cell_type": "code",
   "execution_count": 3,
   "outputs": [
    {
     "data": {
      "text/plain": "Qobs    0\nXAJ     0\nTVGM    0\nTANK    0\nGR4J    0\nBP      0\nSVR     0\nRNN     0\nLSTM    0\ndtype: int64"
     },
     "execution_count": 3,
     "metadata": {},
     "output_type": "execute_result"
    }
   ],
   "source": [
    "# 缺失值检验\n",
    "test_df[test_df.isnull() == True].count()\n",
    "train_df[test_df.isnull() == True].count()"
   ],
   "metadata": {
    "collapsed": false,
    "ExecuteTime": {
     "end_time": "2024-03-22T10:08:15.869920Z",
     "start_time": "2024-03-22T10:08:15.845577Z"
    }
   },
   "id": "6c19a7a6d0eae0d6"
  },
  {
   "cell_type": "code",
   "execution_count": 4,
   "outputs": [
    {
     "data": {
      "text/plain": "          Qobs       XAJ      TVGM      TANK      GR4J        BP       SVR  \\\nQobs  1.000000  0.896217  0.842456  0.858592  0.888339  0.968933  0.942743   \nXAJ   0.896217  1.000000  0.914469  0.919943  0.930146  0.909211  0.864139   \nTVGM  0.842456  0.914469  1.000000  0.963266  0.867713  0.859441  0.800942   \nTANK  0.858592  0.919943  0.963266  1.000000  0.880701  0.876754  0.784067   \nGR4J  0.888339  0.930146  0.867713  0.880701  1.000000  0.888147  0.824780   \nBP    0.968933  0.909211  0.859441  0.876754  0.888147  1.000000  0.954180   \nSVR   0.942743  0.864139  0.800942  0.784067  0.824780  0.954180  1.000000   \nRNN   0.970399  0.915859  0.870563  0.882521  0.893655  0.983043  0.958204   \nLSTM  0.972495  0.909286  0.864809  0.883572  0.907198  0.988287  0.956806   \n\n           RNN      LSTM  \nQobs  0.970399  0.972495  \nXAJ   0.915859  0.909286  \nTVGM  0.870563  0.864809  \nTANK  0.882521  0.883572  \nGR4J  0.893655  0.907198  \nBP    0.983043  0.988287  \nSVR   0.958204  0.956806  \nRNN   1.000000  0.989088  \nLSTM  0.989088  1.000000  ",
      "text/html": "<div>\n<style scoped>\n    .dataframe tbody tr th:only-of-type {\n        vertical-align: middle;\n    }\n\n    .dataframe tbody tr th {\n        vertical-align: top;\n    }\n\n    .dataframe thead th {\n        text-align: right;\n    }\n</style>\n<table border=\"1\" class=\"dataframe\">\n  <thead>\n    <tr style=\"text-align: right;\">\n      <th></th>\n      <th>Qobs</th>\n      <th>XAJ</th>\n      <th>TVGM</th>\n      <th>TANK</th>\n      <th>GR4J</th>\n      <th>BP</th>\n      <th>SVR</th>\n      <th>RNN</th>\n      <th>LSTM</th>\n    </tr>\n  </thead>\n  <tbody>\n    <tr>\n      <th>Qobs</th>\n      <td>1.000000</td>\n      <td>0.896217</td>\n      <td>0.842456</td>\n      <td>0.858592</td>\n      <td>0.888339</td>\n      <td>0.968933</td>\n      <td>0.942743</td>\n      <td>0.970399</td>\n      <td>0.972495</td>\n    </tr>\n    <tr>\n      <th>XAJ</th>\n      <td>0.896217</td>\n      <td>1.000000</td>\n      <td>0.914469</td>\n      <td>0.919943</td>\n      <td>0.930146</td>\n      <td>0.909211</td>\n      <td>0.864139</td>\n      <td>0.915859</td>\n      <td>0.909286</td>\n    </tr>\n    <tr>\n      <th>TVGM</th>\n      <td>0.842456</td>\n      <td>0.914469</td>\n      <td>1.000000</td>\n      <td>0.963266</td>\n      <td>0.867713</td>\n      <td>0.859441</td>\n      <td>0.800942</td>\n      <td>0.870563</td>\n      <td>0.864809</td>\n    </tr>\n    <tr>\n      <th>TANK</th>\n      <td>0.858592</td>\n      <td>0.919943</td>\n      <td>0.963266</td>\n      <td>1.000000</td>\n      <td>0.880701</td>\n      <td>0.876754</td>\n      <td>0.784067</td>\n      <td>0.882521</td>\n      <td>0.883572</td>\n    </tr>\n    <tr>\n      <th>GR4J</th>\n      <td>0.888339</td>\n      <td>0.930146</td>\n      <td>0.867713</td>\n      <td>0.880701</td>\n      <td>1.000000</td>\n      <td>0.888147</td>\n      <td>0.824780</td>\n      <td>0.893655</td>\n      <td>0.907198</td>\n    </tr>\n    <tr>\n      <th>BP</th>\n      <td>0.968933</td>\n      <td>0.909211</td>\n      <td>0.859441</td>\n      <td>0.876754</td>\n      <td>0.888147</td>\n      <td>1.000000</td>\n      <td>0.954180</td>\n      <td>0.983043</td>\n      <td>0.988287</td>\n    </tr>\n    <tr>\n      <th>SVR</th>\n      <td>0.942743</td>\n      <td>0.864139</td>\n      <td>0.800942</td>\n      <td>0.784067</td>\n      <td>0.824780</td>\n      <td>0.954180</td>\n      <td>1.000000</td>\n      <td>0.958204</td>\n      <td>0.956806</td>\n    </tr>\n    <tr>\n      <th>RNN</th>\n      <td>0.970399</td>\n      <td>0.915859</td>\n      <td>0.870563</td>\n      <td>0.882521</td>\n      <td>0.893655</td>\n      <td>0.983043</td>\n      <td>0.958204</td>\n      <td>1.000000</td>\n      <td>0.989088</td>\n    </tr>\n    <tr>\n      <th>LSTM</th>\n      <td>0.972495</td>\n      <td>0.909286</td>\n      <td>0.864809</td>\n      <td>0.883572</td>\n      <td>0.907198</td>\n      <td>0.988287</td>\n      <td>0.956806</td>\n      <td>0.989088</td>\n      <td>1.000000</td>\n    </tr>\n  </tbody>\n</table>\n</div>"
     },
     "execution_count": 4,
     "metadata": {},
     "output_type": "execute_result"
    }
   ],
   "source": [
    "# 计算各特征值相关系数\n",
    "test_df.corr()"
   ],
   "metadata": {
    "collapsed": false,
    "ExecuteTime": {
     "end_time": "2024-03-22T10:08:15.870247Z",
     "start_time": "2024-03-22T10:08:15.857302Z"
    }
   },
   "id": "32e366e8d7d09e9f"
  },
  {
   "cell_type": "code",
   "execution_count": 5,
   "outputs": [
    {
     "data": {
      "text/plain": "          Qobs       XAJ      TVGM      TANK      GR4J        BP       SVR  \\\nQobs  1.000000  0.911282  0.843187  0.858726  0.893290  0.971987  0.953831   \nXAJ   0.911282  1.000000  0.885245  0.893518  0.907303  0.921369  0.894431   \nTVGM  0.843187  0.885245  1.000000  0.958303  0.853625  0.864263  0.811132   \nTANK  0.858726  0.893518  0.958303  1.000000  0.848591  0.872021  0.798730   \nGR4J  0.893290  0.907303  0.853625  0.848591  1.000000  0.888781  0.836994   \nBP    0.971987  0.921369  0.864263  0.872021  0.888781  1.000000  0.967798   \nSVR   0.953831  0.894431  0.811132  0.798730  0.836994  0.967798  1.000000   \nRNN   0.973566  0.923146  0.864368  0.873861  0.883121  0.981936  0.973795   \nLSTM  0.977645  0.922956  0.865490  0.877417  0.902848  0.991908  0.971496   \n\n           RNN      LSTM  \nQobs  0.973566  0.977645  \nXAJ   0.923146  0.922956  \nTVGM  0.864368  0.865490  \nTANK  0.873861  0.877417  \nGR4J  0.883121  0.902848  \nBP    0.981936  0.991908  \nSVR   0.973795  0.971496  \nRNN   1.000000  0.988673  \nLSTM  0.988673  1.000000  ",
      "text/html": "<div>\n<style scoped>\n    .dataframe tbody tr th:only-of-type {\n        vertical-align: middle;\n    }\n\n    .dataframe tbody tr th {\n        vertical-align: top;\n    }\n\n    .dataframe thead th {\n        text-align: right;\n    }\n</style>\n<table border=\"1\" class=\"dataframe\">\n  <thead>\n    <tr style=\"text-align: right;\">\n      <th></th>\n      <th>Qobs</th>\n      <th>XAJ</th>\n      <th>TVGM</th>\n      <th>TANK</th>\n      <th>GR4J</th>\n      <th>BP</th>\n      <th>SVR</th>\n      <th>RNN</th>\n      <th>LSTM</th>\n    </tr>\n  </thead>\n  <tbody>\n    <tr>\n      <th>Qobs</th>\n      <td>1.000000</td>\n      <td>0.911282</td>\n      <td>0.843187</td>\n      <td>0.858726</td>\n      <td>0.893290</td>\n      <td>0.971987</td>\n      <td>0.953831</td>\n      <td>0.973566</td>\n      <td>0.977645</td>\n    </tr>\n    <tr>\n      <th>XAJ</th>\n      <td>0.911282</td>\n      <td>1.000000</td>\n      <td>0.885245</td>\n      <td>0.893518</td>\n      <td>0.907303</td>\n      <td>0.921369</td>\n      <td>0.894431</td>\n      <td>0.923146</td>\n      <td>0.922956</td>\n    </tr>\n    <tr>\n      <th>TVGM</th>\n      <td>0.843187</td>\n      <td>0.885245</td>\n      <td>1.000000</td>\n      <td>0.958303</td>\n      <td>0.853625</td>\n      <td>0.864263</td>\n      <td>0.811132</td>\n      <td>0.864368</td>\n      <td>0.865490</td>\n    </tr>\n    <tr>\n      <th>TANK</th>\n      <td>0.858726</td>\n      <td>0.893518</td>\n      <td>0.958303</td>\n      <td>1.000000</td>\n      <td>0.848591</td>\n      <td>0.872021</td>\n      <td>0.798730</td>\n      <td>0.873861</td>\n      <td>0.877417</td>\n    </tr>\n    <tr>\n      <th>GR4J</th>\n      <td>0.893290</td>\n      <td>0.907303</td>\n      <td>0.853625</td>\n      <td>0.848591</td>\n      <td>1.000000</td>\n      <td>0.888781</td>\n      <td>0.836994</td>\n      <td>0.883121</td>\n      <td>0.902848</td>\n    </tr>\n    <tr>\n      <th>BP</th>\n      <td>0.971987</td>\n      <td>0.921369</td>\n      <td>0.864263</td>\n      <td>0.872021</td>\n      <td>0.888781</td>\n      <td>1.000000</td>\n      <td>0.967798</td>\n      <td>0.981936</td>\n      <td>0.991908</td>\n    </tr>\n    <tr>\n      <th>SVR</th>\n      <td>0.953831</td>\n      <td>0.894431</td>\n      <td>0.811132</td>\n      <td>0.798730</td>\n      <td>0.836994</td>\n      <td>0.967798</td>\n      <td>1.000000</td>\n      <td>0.973795</td>\n      <td>0.971496</td>\n    </tr>\n    <tr>\n      <th>RNN</th>\n      <td>0.973566</td>\n      <td>0.923146</td>\n      <td>0.864368</td>\n      <td>0.873861</td>\n      <td>0.883121</td>\n      <td>0.981936</td>\n      <td>0.973795</td>\n      <td>1.000000</td>\n      <td>0.988673</td>\n    </tr>\n    <tr>\n      <th>LSTM</th>\n      <td>0.977645</td>\n      <td>0.922956</td>\n      <td>0.865490</td>\n      <td>0.877417</td>\n      <td>0.902848</td>\n      <td>0.991908</td>\n      <td>0.971496</td>\n      <td>0.988673</td>\n      <td>1.000000</td>\n    </tr>\n  </tbody>\n</table>\n</div>"
     },
     "execution_count": 5,
     "metadata": {},
     "output_type": "execute_result"
    }
   ],
   "source": [
    "train_df.corr()"
   ],
   "metadata": {
    "collapsed": false,
    "ExecuteTime": {
     "end_time": "2024-03-22T10:08:15.870942Z",
     "start_time": "2024-03-22T10:08:15.863502Z"
    }
   },
   "id": "bb73aaf7de1e4427"
  },
  {
   "cell_type": "code",
   "execution_count": 6,
   "outputs": [],
   "source": [
    "# # 通过加入一个参数kind='reg'，seaborn可以添加一条最佳拟合直线和95%的置信带。\n",
    "# from matplotlib import pyplot as plt\n",
    "# import seaborn as sns\n",
    "# \n",
    "# sns.pairplot(df, x_vars=['LSTM', 'BP', 'RNN', 'SVR'], y_vars='Qobs', size=7, aspect=0.8, kind='reg')\n",
    "# plt.savefig(\"pairplot.jpg\")\n",
    "# plt.show()"
   ],
   "metadata": {
    "collapsed": false,
    "ExecuteTime": {
     "end_time": "2024-03-22T10:08:15.874185Z",
     "start_time": "2024-03-22T10:08:15.869466Z"
    }
   },
   "id": "c4328222a16eaf66"
  },
  {
   "cell_type": "code",
   "execution_count": 7,
   "outputs": [],
   "source": [
    "# from matplotlib import pyplot as plt\n",
    "# import seaborn as sns\n",
    "# sns.pairplot(df, x_vars=['XAJ', 'TVGM'], y_vars='Qobs', size=7, aspect=0.8, kind='reg')\n",
    "# plt.savefig(\"pairplot02.jpg\")\n",
    "# plt.show()"
   ],
   "metadata": {
    "collapsed": false,
    "ExecuteTime": {
     "end_time": "2024-03-22T10:08:15.889423Z",
     "start_time": "2024-03-22T10:08:15.872539Z"
    }
   },
   "id": "48123773445b60c"
  },
  {
   "cell_type": "code",
   "execution_count": 8,
   "outputs": [],
   "source": [
    "from matplotlib import pyplot as plt\n",
    "# import seaborn as sns\n",
    "# \n",
    "# sns.pairplot(df, x_vars=['XAJ', 'TVGM', 'RNN', 'LSTM'], y_vars='Qobs', size=7, aspect=0.8, kind='reg')\n",
    "# plt.savefig(\"pairplot03.jpg\")\n",
    "# plt.show()"
   ],
   "metadata": {
    "collapsed": false,
    "ExecuteTime": {
     "end_time": "2024-03-22T10:08:16.068333Z",
     "start_time": "2024-03-22T10:08:15.876179Z"
    }
   },
   "id": "56b8a22904166306"
  },
  {
   "cell_type": "code",
   "execution_count": 9,
   "outputs": [],
   "source": [
    "# 分割数据集和测试集\n",
    "# test_split = round(len(df) * 0.20)\n",
    "# df_for_training = df[:-test_split]\n",
    "# df_for_testing = df[-test_split:]\n",
    "# df_for_training.shape"
   ],
   "metadata": {
    "collapsed": false,
    "ExecuteTime": {
     "end_time": "2024-03-22T10:08:16.069674Z",
     "start_time": "2024-03-22T10:08:16.047903Z"
    }
   },
   "id": "616d93847bdf025"
  },
  {
   "cell_type": "code",
   "execution_count": 10,
   "outputs": [],
   "source": [
    "# 划分数据\n",
    "# df_for_training = pd.DataFrame(df_for_training)\n",
    "# trainX = df_for_training.iloc[:, 1:]\n",
    "# trainY = df_for_training.iloc[:, :1]\n",
    "# testX = df_for_testing.iloc[:, 1:]\n",
    "# testY = df_for_testing.iloc[:, :1]"
   ],
   "metadata": {
    "collapsed": false,
    "ExecuteTime": {
     "end_time": "2024-03-22T10:08:16.069832Z",
     "start_time": "2024-03-22T10:08:16.050362Z"
    }
   },
   "id": "43cd692ae7ede5d9"
  },
  {
   "cell_type": "code",
   "execution_count": 11,
   "outputs": [
    {
     "name": "stdout",
     "output_type": "stream",
     "text": [
      "最佳拟合线：截距 [116.56415633] 回归系数： [[0.60404233 0.4027121 ]]\n",
      "MAE:300.5480642654302\n",
      "RMSE:512.5583845281658\n",
      "NSE:0.8554335577759659\n",
      "RE:-1.2320177309953779e-14\n",
      "Qmaxe:0.17488853154308073\n",
      "Qmine:0.4990524230616422\n",
      "MAE:394.5108661322264\n",
      "RMSE:631.6009425735352\n",
      "NSE:0.8166694395824623\n",
      "RE:8.18134606485603\n",
      "Qmaxe:0.027589964101864393\n",
      "Qmine:0.7458260835071547\n"
     ]
    },
    {
     "data": {
      "text/plain": "(394.5108661322264,\n 631.6009425735352,\n 0.8166694395824623,\n 8.18134606485603,\n 0.027589964101864393,\n 0.7458260835071547)"
     },
     "execution_count": 11,
     "metadata": {},
     "output_type": "execute_result"
    }
   ],
   "source": [
    "\"\"\"\n",
    "方案一：两个概念性组合(XAJ+GR4J)\n",
    "\"\"\"\n",
    "from sklearn.linear_model import LinearRegression\n",
    "from tool import Indicator\n",
    "\n",
    "# 处理数据\n",
    "trainX_XAJ = train_df.iloc[:, 1]\n",
    "trainX_GR4J = train_df.iloc[:, 4]\n",
    "trainY1 = train_df.iloc[:, :1]\n",
    "trainX1 = pd.merge(trainX_XAJ, trainX_GR4J, on=\"Date\", how=\"left\")\n",
    "testX_XAJ = test_df.iloc[:, 1]\n",
    "testX_GR4J = test_df.iloc[:, 4]\n",
    "testY1 = test_df.iloc[:, :1]\n",
    "testX1 = pd.merge(testX_XAJ, testX_GR4J, on=\"Date\", how=\"left\")\n",
    "\n",
    "#线性拟合\n",
    "model = LinearRegression()\n",
    "model.fit(trainX1, trainY1)\n",
    "# 截距\n",
    "a = model.intercept_\n",
    "# 回归系数\n",
    "b = model.coef_\n",
    "print(\"最佳拟合线：截距\", str(a), \"回归系数：\", str(b))\n",
    "\n",
    "#结果输出\n",
    "train_pred1 = model.predict(trainX1)\n",
    "train_pred1 = pd.DataFrame(train_pred1)\n",
    "train_pred1.columns = [\"MLR1\"]\n",
    "test_pred1 = model.predict(testX1)\n",
    "test_pred1 = pd.DataFrame(test_pred1)\n",
    "test_pred1.columns = [\"MLR1\"]\n",
    "# 数据输出\n",
    "\n",
    "#预报评估\n",
    "Indicator.eval(train_pred1[\"MLR1\"], train_df_copy[\"Qobs\"])\n",
    "Indicator.eval(test_pred1[\"MLR1\"], test_df_copy[\"Qobs\"])"
   ],
   "metadata": {
    "collapsed": false,
    "ExecuteTime": {
     "end_time": "2024-03-22T10:08:16.401183Z",
     "start_time": "2024-03-22T10:08:16.054213Z"
    }
   },
   "id": "3acf26712a929c74"
  },
  {
   "cell_type": "code",
   "execution_count": 12,
   "outputs": [
    {
     "name": "stdout",
     "output_type": "stream",
     "text": [
      "最佳拟合线：截距 [3.73731687] 回归系数： [[0.30489382 0.69338057]]\n",
      "MAE:136.5108646795132\n",
      "RMSE:276.39475384491533\n",
      "NSE:0.9579621593140236\n",
      "RE:-1.8334168995530632e-14\n",
      "Qmaxe:0.04291521972692458\n",
      "Qmine:0.11218638442473196\n",
      "MAE:173.97811084976357\n",
      "RMSE:333.5750632145279\n",
      "NSE:0.9488628545869565\n",
      "RE:-0.3455381007692564\n",
      "Qmaxe:0.20793337244932664\n",
      "Qmine:0.1580586996600785\n"
     ]
    },
    {
     "data": {
      "text/plain": "(173.97811084976357,\n 333.5750632145279,\n 0.9488628545869565,\n -0.3455381007692564,\n 0.20793337244932664,\n 0.1580586996600785)"
     },
     "execution_count": 12,
     "metadata": {},
     "output_type": "execute_result"
    }
   ],
   "source": [
    "\"\"\"\n",
    "方案二：两个黑箱组合(RNN+LSTM)\n",
    "\"\"\"\n",
    "from sklearn.linear_model import LinearRegression\n",
    "from tool import Indicator\n",
    "\n",
    "# 处理数据\n",
    "trainX_LSTM = train_df.iloc[:, 8]\n",
    "trainX_RNN = train_df.iloc[:, 7]\n",
    "trainY2 = train_df.iloc[:, :1]\n",
    "trainX2 = pd.merge(trainX_RNN, trainX_LSTM, on=\"Date\", how=\"left\")\n",
    "testX_RNN = test_df.iloc[:, 7]\n",
    "testX_LSTM = test_df.iloc[:, 8]\n",
    "testY2 = test_df.iloc[:, :1]\n",
    "testX2 = pd.merge(testX_RNN, testX_LSTM, on=\"Date\", how=\"left\")\n",
    "\n",
    "#线性拟合\n",
    "model = LinearRegression()\n",
    "model.fit(trainX2, trainY2)\n",
    "# 截距\n",
    "a = model.intercept_\n",
    "# 回归系数\n",
    "b = model.coef_\n",
    "print(\"最佳拟合线：截距\", str(a), \"回归系数：\", str(b))\n",
    "\n",
    "#结果输出\n",
    "train_pred2 = model.predict(trainX2)\n",
    "train_pred2 = pd.DataFrame(train_pred2)\n",
    "train_pred2.columns = [\"MLR2\"]\n",
    "test_pred2 = model.predict(testX2)\n",
    "test_pred2 = pd.DataFrame(test_pred2)\n",
    "test_pred2.columns = [\"MLR2\"]\n",
    "# 数据输出\n",
    "\n",
    "#预报评估\n",
    "Indicator.eval(train_pred2[\"MLR2\"], train_df_copy[\"Qobs\"])\n",
    "Indicator.eval(test_pred2[\"MLR2\"], test_df_copy[\"Qobs\"])"
   ],
   "metadata": {
    "collapsed": false,
    "ExecuteTime": {
     "end_time": "2024-03-22T10:08:16.466513Z",
     "start_time": "2024-03-22T10:08:16.397218Z"
    }
   },
   "id": "f96b30ed70424a5"
  },
  {
   "cell_type": "code",
   "execution_count": 13,
   "outputs": [
    {
     "name": "stdout",
     "output_type": "stream",
     "text": [
      "最佳拟合线：截距 [-2.24942479] 回归系数： [[-0.00232608  0.08140669  0.33739658  0.59069113]]\n",
      "---------------训练期-----------------\n",
      "MAE:137.06943406934784\n",
      "RMSE:273.02281545712145\n",
      "NSE:0.9589816023948833\n",
      "RE:-3.760495965789985e-15\n",
      "Qmaxe:0.03520713273461063\n",
      "Qmine:0.05092981953751632\n",
      "---------------验证期-----------------\n",
      "MAE:174.33386840093405\n",
      "RMSE:332.88381956632475\n",
      "NSE:0.9490745706655961\n",
      "RE:0.09894780119686666\n",
      "Qmaxe:0.21836180914245762\n",
      "Qmine:0.050704525858907126\n"
     ]
    },
    {
     "data": {
      "text/plain": "(174.33386840093405,\n 332.88381956632475,\n 0.9490745706655961,\n 0.09894780119686666,\n 0.21836180914245762,\n 0.050704525858907126)"
     },
     "execution_count": 13,
     "metadata": {},
     "output_type": "execute_result"
    }
   ],
   "source": [
    "\"\"\"\n",
    "方案三：LSTM+BP+GR4J+XAJ\n",
    "\"\"\"\n",
    "from sklearn.linear_model import LinearRegression\n",
    "from tool import Indicator\n",
    "\n",
    "# 处理数据\n",
    "trainY3 = train_df.iloc[:, :1]\n",
    "trainX3 = pd.merge(trainX1, trainX2, on=\"Date\", how=\"left\")\n",
    "testY3 = test_df.iloc[:, :1]\n",
    "testX3 = pd.merge(testX1, testX2, on=\"Date\", how=\"left\")\n",
    "\n",
    "#线性拟合\n",
    "model = LinearRegression()\n",
    "model.fit(trainX3, trainY3)\n",
    "# 截距\n",
    "a = model.intercept_\n",
    "# 回归系数\n",
    "b = model.coef_\n",
    "print(\"最佳拟合线：截距\", str(a), \"回归系数：\", str(b))\n",
    "\n",
    "#结果输出\n",
    "train_pred3 = model.predict(trainX3)\n",
    "train_pred3 = pd.DataFrame(train_pred3)\n",
    "train_pred3.columns = [\"MLR3\"]\n",
    "test_pred3 = model.predict(testX3)\n",
    "test_pred3 = pd.DataFrame(test_pred3)\n",
    "test_pred3.columns = [\"MLR3\"]\n",
    "# 数据输出\n",
    "\n",
    "#预报评估\n",
    "print(\"---------------训练期-----------------\")\n",
    "Indicator.eval(train_pred3[\"MLR3\"], train_df_copy[\"Qobs\"])\n",
    "print(\"---------------验证期-----------------\")\n",
    "Indicator.eval(test_pred3[\"MLR3\"], test_df_copy[\"Qobs\"])"
   ],
   "metadata": {
    "collapsed": false,
    "ExecuteTime": {
     "end_time": "2024-03-22T10:08:16.640224Z",
     "start_time": "2024-03-22T10:08:16.462319Z"
    }
   },
   "id": "9c44a65f45914592"
  },
  {
   "cell_type": "code",
   "execution_count": 14,
   "outputs": [
    {
     "data": {
      "text/plain": "            Qobs        MLR1        MLR2        MLR3\nDate                                                \n1996-11-25   391  548.628556  353.888570  381.063034\n1996-11-26   383  542.871361  355.349390  377.858110\n1996-11-27   292  462.304761  350.998377  359.734683\n1996-11-28   316  404.792903  266.541230  273.205044\n1996-11-29   309  362.744247  324.180252  319.284280\n...          ...         ...         ...         ...\n2001-12-27   766  430.618203  645.448699  618.165371\n2001-12-28   653  413.964084  665.841552  637.363915\n2001-12-29   536  398.944663  556.571217  537.713174\n2001-12-30   483  385.362563  476.615707  460.514515\n2001-12-31   522  373.045776  445.606801  430.415094\n\n[1863 rows x 4 columns]",
      "text/html": "<div>\n<style scoped>\n    .dataframe tbody tr th:only-of-type {\n        vertical-align: middle;\n    }\n\n    .dataframe tbody tr th {\n        vertical-align: top;\n    }\n\n    .dataframe thead th {\n        text-align: right;\n    }\n</style>\n<table border=\"1\" class=\"dataframe\">\n  <thead>\n    <tr style=\"text-align: right;\">\n      <th></th>\n      <th>Qobs</th>\n      <th>MLR1</th>\n      <th>MLR2</th>\n      <th>MLR3</th>\n    </tr>\n    <tr>\n      <th>Date</th>\n      <th></th>\n      <th></th>\n      <th></th>\n      <th></th>\n    </tr>\n  </thead>\n  <tbody>\n    <tr>\n      <th>1996-11-25</th>\n      <td>391</td>\n      <td>548.628556</td>\n      <td>353.888570</td>\n      <td>381.063034</td>\n    </tr>\n    <tr>\n      <th>1996-11-26</th>\n      <td>383</td>\n      <td>542.871361</td>\n      <td>355.349390</td>\n      <td>377.858110</td>\n    </tr>\n    <tr>\n      <th>1996-11-27</th>\n      <td>292</td>\n      <td>462.304761</td>\n      <td>350.998377</td>\n      <td>359.734683</td>\n    </tr>\n    <tr>\n      <th>1996-11-28</th>\n      <td>316</td>\n      <td>404.792903</td>\n      <td>266.541230</td>\n      <td>273.205044</td>\n    </tr>\n    <tr>\n      <th>1996-11-29</th>\n      <td>309</td>\n      <td>362.744247</td>\n      <td>324.180252</td>\n      <td>319.284280</td>\n    </tr>\n    <tr>\n      <th>...</th>\n      <td>...</td>\n      <td>...</td>\n      <td>...</td>\n      <td>...</td>\n    </tr>\n    <tr>\n      <th>2001-12-27</th>\n      <td>766</td>\n      <td>430.618203</td>\n      <td>645.448699</td>\n      <td>618.165371</td>\n    </tr>\n    <tr>\n      <th>2001-12-28</th>\n      <td>653</td>\n      <td>413.964084</td>\n      <td>665.841552</td>\n      <td>637.363915</td>\n    </tr>\n    <tr>\n      <th>2001-12-29</th>\n      <td>536</td>\n      <td>398.944663</td>\n      <td>556.571217</td>\n      <td>537.713174</td>\n    </tr>\n    <tr>\n      <th>2001-12-30</th>\n      <td>483</td>\n      <td>385.362563</td>\n      <td>476.615707</td>\n      <td>460.514515</td>\n    </tr>\n    <tr>\n      <th>2001-12-31</th>\n      <td>522</td>\n      <td>373.045776</td>\n      <td>445.606801</td>\n      <td>430.415094</td>\n    </tr>\n  </tbody>\n</table>\n<p>1863 rows × 4 columns</p>\n</div>"
     },
     "execution_count": 14,
     "metadata": {},
     "output_type": "execute_result"
    }
   ],
   "source": [
    "test_df_full = pd.concat([test_df_copy, test_pred1, test_pred2, test_pred3], axis=1)\n",
    "test_df_full = test_df_full.reset_index(drop=True)\n",
    "test_df_full = test_df_full.set_index('Date')\n",
    "test_df_full.to_csv(\"/Users/datou/PycharmProjects/model/HengyangSta/HY_ensemble/data/HY_MLRTest.csv\")\n",
    "train_df_full = pd.concat([train_df_copy, train_pred1, train_pred2, train_pred3], axis=1)\n",
    "train_df_full = train_df_full.reset_index(drop=True)\n",
    "train_df_full = train_df_full.set_index('Date')\n",
    "train_df_full.to_csv(\"/Users/datou/PycharmProjects/model/HengyangSta/HY_ensemble/data/HY_MLRTrain.csv\")\n",
    "test_df_full"
   ],
   "metadata": {
    "collapsed": false,
    "ExecuteTime": {
     "end_time": "2024-03-22T10:08:16.690470Z",
     "start_time": "2024-03-22T10:08:16.659451Z"
    }
   },
   "id": "7d10aeab5811e2e8"
  }
 ],
 "metadata": {
  "kernelspec": {
   "display_name": "Python 3",
   "language": "python",
   "name": "python3"
  },
  "language_info": {
   "codemirror_mode": {
    "name": "ipython",
    "version": 2
   },
   "file_extension": ".py",
   "mimetype": "text/x-python",
   "name": "python",
   "nbconvert_exporter": "python",
   "pygments_lexer": "ipython2",
   "version": "2.7.6"
  }
 },
 "nbformat": 4,
 "nbformat_minor": 5
}
