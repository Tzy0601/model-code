{
 "cells": [
  {
   "cell_type": "code",
   "execution_count": 55,
   "id": "initial_id",
   "metadata": {
    "collapsed": true,
    "ExecuteTime": {
     "end_time": "2024-03-20T13:04:08.548160Z",
     "start_time": "2024-03-20T13:04:08.307444Z"
    }
   },
   "outputs": [
    {
     "data": {
      "text/plain": "           Date        Qobs\n0    2013-03-27  357.285417\n1    2013-03-28  266.375000\n2    2013-03-29  292.975000\n3    2013-03-30  279.295833\n4    2013-03-31  263.750000\n...         ...         ...\n2039 2018-10-26   39.116250\n2040 2018-10-27   46.711250\n2041 2018-10-28   70.970417\n2042 2018-10-29   64.495417\n2043 2018-10-30   59.041250\n\n[2044 rows x 2 columns]",
      "text/html": "<div>\n<style scoped>\n    .dataframe tbody tr th:only-of-type {\n        vertical-align: middle;\n    }\n\n    .dataframe tbody tr th {\n        vertical-align: top;\n    }\n\n    .dataframe thead th {\n        text-align: right;\n    }\n</style>\n<table border=\"1\" class=\"dataframe\">\n  <thead>\n    <tr style=\"text-align: right;\">\n      <th></th>\n      <th>Date</th>\n      <th>Qobs</th>\n    </tr>\n  </thead>\n  <tbody>\n    <tr>\n      <th>0</th>\n      <td>2013-03-27</td>\n      <td>357.285417</td>\n    </tr>\n    <tr>\n      <th>1</th>\n      <td>2013-03-28</td>\n      <td>266.375000</td>\n    </tr>\n    <tr>\n      <th>2</th>\n      <td>2013-03-29</td>\n      <td>292.975000</td>\n    </tr>\n    <tr>\n      <th>3</th>\n      <td>2013-03-30</td>\n      <td>279.295833</td>\n    </tr>\n    <tr>\n      <th>4</th>\n      <td>2013-03-31</td>\n      <td>263.750000</td>\n    </tr>\n    <tr>\n      <th>...</th>\n      <td>...</td>\n      <td>...</td>\n    </tr>\n    <tr>\n      <th>2039</th>\n      <td>2018-10-26</td>\n      <td>39.116250</td>\n    </tr>\n    <tr>\n      <th>2040</th>\n      <td>2018-10-27</td>\n      <td>46.711250</td>\n    </tr>\n    <tr>\n      <th>2041</th>\n      <td>2018-10-28</td>\n      <td>70.970417</td>\n    </tr>\n    <tr>\n      <th>2042</th>\n      <td>2018-10-29</td>\n      <td>64.495417</td>\n    </tr>\n    <tr>\n      <th>2043</th>\n      <td>2018-10-30</td>\n      <td>59.041250</td>\n    </tr>\n  </tbody>\n</table>\n<p>2044 rows × 2 columns</p>\n</div>"
     },
     "execution_count": 55,
     "metadata": {},
     "output_type": "execute_result"
    }
   ],
   "source": [
    "# 导入进行线性回归的包\n",
    "import pandas as pd\n",
    "\n",
    "test_df = pd.read_csv(\"/Users/datou/PycharmProjects/model/JianyangSta/JY_ensemble/data/建阳站多模型验证期结果.csv\", parse_dates=[\"Date\"])\n",
    "test_df_copy = test_df\n",
    "test_df_copy = test_df_copy.iloc[:, :2]\n",
    "test_df.reset_index(drop=True)\n",
    "test_df = test_df.set_index('Date')\n",
    "test_df_copy"
   ]
  },
  {
   "cell_type": "code",
   "execution_count": 56,
   "outputs": [
    {
     "data": {
      "text/plain": "                  Qobs         XAJ       TVGM       TANK        GR4J  \\\nDate                                                                   \n2000-03-19  146.646083  113.312715  52.709690  180.82450  161.918257   \n2000-03-20  126.275542   77.366574  45.722771  132.35930  151.888716   \n2000-03-21  116.957458   67.217913  43.718240  109.94270  120.206044   \n2000-03-22  107.373583   69.118466  43.801287   97.71193  107.209378   \n2000-03-23  157.025792  112.531645  62.675173  156.76230  128.057335   \n\n                    BP         SVR       LSTM        RNN  \nDate                                                      \n2000-03-19  225.542370  151.506776  210.58240  203.54922  \n2000-03-20  122.160250  149.861280  140.79071  100.39914  \n2000-03-21   92.493935  132.048647  131.23845  104.74185  \n2000-03-22  101.336530  131.638650  116.44574  101.35420  \n2000-03-23  209.905500  122.400853  198.44711  141.74525  ",
      "text/html": "<div>\n<style scoped>\n    .dataframe tbody tr th:only-of-type {\n        vertical-align: middle;\n    }\n\n    .dataframe tbody tr th {\n        vertical-align: top;\n    }\n\n    .dataframe thead th {\n        text-align: right;\n    }\n</style>\n<table border=\"1\" class=\"dataframe\">\n  <thead>\n    <tr style=\"text-align: right;\">\n      <th></th>\n      <th>Qobs</th>\n      <th>XAJ</th>\n      <th>TVGM</th>\n      <th>TANK</th>\n      <th>GR4J</th>\n      <th>BP</th>\n      <th>SVR</th>\n      <th>LSTM</th>\n      <th>RNN</th>\n    </tr>\n    <tr>\n      <th>Date</th>\n      <th></th>\n      <th></th>\n      <th></th>\n      <th></th>\n      <th></th>\n      <th></th>\n      <th></th>\n      <th></th>\n      <th></th>\n    </tr>\n  </thead>\n  <tbody>\n    <tr>\n      <th>2000-03-19</th>\n      <td>146.646083</td>\n      <td>113.312715</td>\n      <td>52.709690</td>\n      <td>180.82450</td>\n      <td>161.918257</td>\n      <td>225.542370</td>\n      <td>151.506776</td>\n      <td>210.58240</td>\n      <td>203.54922</td>\n    </tr>\n    <tr>\n      <th>2000-03-20</th>\n      <td>126.275542</td>\n      <td>77.366574</td>\n      <td>45.722771</td>\n      <td>132.35930</td>\n      <td>151.888716</td>\n      <td>122.160250</td>\n      <td>149.861280</td>\n      <td>140.79071</td>\n      <td>100.39914</td>\n    </tr>\n    <tr>\n      <th>2000-03-21</th>\n      <td>116.957458</td>\n      <td>67.217913</td>\n      <td>43.718240</td>\n      <td>109.94270</td>\n      <td>120.206044</td>\n      <td>92.493935</td>\n      <td>132.048647</td>\n      <td>131.23845</td>\n      <td>104.74185</td>\n    </tr>\n    <tr>\n      <th>2000-03-22</th>\n      <td>107.373583</td>\n      <td>69.118466</td>\n      <td>43.801287</td>\n      <td>97.71193</td>\n      <td>107.209378</td>\n      <td>101.336530</td>\n      <td>131.638650</td>\n      <td>116.44574</td>\n      <td>101.35420</td>\n    </tr>\n    <tr>\n      <th>2000-03-23</th>\n      <td>157.025792</td>\n      <td>112.531645</td>\n      <td>62.675173</td>\n      <td>156.76230</td>\n      <td>128.057335</td>\n      <td>209.905500</td>\n      <td>122.400853</td>\n      <td>198.44711</td>\n      <td>141.74525</td>\n    </tr>\n  </tbody>\n</table>\n</div>"
     },
     "execution_count": 56,
     "metadata": {},
     "output_type": "execute_result"
    }
   ],
   "source": [
    "\"\"\"\n",
    "读取训练数据\n",
    "\"\"\"\n",
    "train_df = pd.read_csv(\"/Users/datou/PycharmProjects/model/JianyangSta/JY_ensemble/data/建阳站多模型率定期结果.csv\",parse_dates=[\"Date\"])\n",
    "train_df_copy = train_df\n",
    "train_df_copy = train_df_copy.iloc[:, :2]\n",
    "train_df.reset_index(drop=True)\n",
    "train_df = train_df.set_index('Date')\n",
    "train_df.head()"
   ],
   "metadata": {
    "collapsed": false,
    "ExecuteTime": {
     "end_time": "2024-03-20T13:04:08.548573Z",
     "start_time": "2024-03-20T13:04:08.322267Z"
    }
   },
   "id": "ff6d3d6a234871af"
  },
  {
   "cell_type": "code",
   "execution_count": 57,
   "outputs": [
    {
     "data": {
      "text/plain": "Qobs    0\nXAJ     0\nTVGM    0\nTANK    0\nGR4J    0\nBP      0\nSVR     0\nLSTM    0\nRNN     0\ndtype: int64"
     },
     "execution_count": 57,
     "metadata": {},
     "output_type": "execute_result"
    }
   ],
   "source": [
    "# 缺失值检验\n",
    "test_df[test_df.isnull() == True].count()\n",
    "train_df[test_df.isnull() == True].count()"
   ],
   "metadata": {
    "collapsed": false,
    "ExecuteTime": {
     "end_time": "2024-03-20T13:04:08.548636Z",
     "start_time": "2024-03-20T13:04:08.339551Z"
    }
   },
   "id": "6c19a7a6d0eae0d6"
  },
  {
   "cell_type": "code",
   "execution_count": 58,
   "outputs": [
    {
     "data": {
      "text/plain": "          Qobs       XAJ      TVGM      TANK      GR4J        BP       SVR  \\\nQobs  1.000000  0.875529  0.857664  0.860042  0.849503  0.872199  0.805346   \nXAJ   0.875529  1.000000  0.944774  0.973836  0.940090  0.961309  0.871350   \nTVGM  0.857664  0.944774  1.000000  0.925511  0.921419  0.930495  0.870571   \nTANK  0.860042  0.973836  0.925511  1.000000  0.945013  0.964770  0.871530   \nGR4J  0.849503  0.940090  0.921419  0.945013  1.000000  0.937331  0.876579   \nBP    0.872199  0.961309  0.930495  0.964770  0.937331  1.000000  0.878034   \nSVR   0.805346  0.871350  0.870571  0.871530  0.876579  0.878034  1.000000   \nLSTM  0.871112  0.963692  0.925833  0.956504  0.943849  0.985629  0.879261   \nRNN   0.868201  0.962783  0.920119  0.965441  0.942643  0.984861  0.881262   \n\n          LSTM       RNN  \nQobs  0.871112  0.868201  \nXAJ   0.963692  0.962783  \nTVGM  0.925833  0.920119  \nTANK  0.956504  0.965441  \nGR4J  0.943849  0.942643  \nBP    0.985629  0.984861  \nSVR   0.879261  0.881262  \nLSTM  1.000000  0.987849  \nRNN   0.987849  1.000000  ",
      "text/html": "<div>\n<style scoped>\n    .dataframe tbody tr th:only-of-type {\n        vertical-align: middle;\n    }\n\n    .dataframe tbody tr th {\n        vertical-align: top;\n    }\n\n    .dataframe thead th {\n        text-align: right;\n    }\n</style>\n<table border=\"1\" class=\"dataframe\">\n  <thead>\n    <tr style=\"text-align: right;\">\n      <th></th>\n      <th>Qobs</th>\n      <th>XAJ</th>\n      <th>TVGM</th>\n      <th>TANK</th>\n      <th>GR4J</th>\n      <th>BP</th>\n      <th>SVR</th>\n      <th>LSTM</th>\n      <th>RNN</th>\n    </tr>\n  </thead>\n  <tbody>\n    <tr>\n      <th>Qobs</th>\n      <td>1.000000</td>\n      <td>0.875529</td>\n      <td>0.857664</td>\n      <td>0.860042</td>\n      <td>0.849503</td>\n      <td>0.872199</td>\n      <td>0.805346</td>\n      <td>0.871112</td>\n      <td>0.868201</td>\n    </tr>\n    <tr>\n      <th>XAJ</th>\n      <td>0.875529</td>\n      <td>1.000000</td>\n      <td>0.944774</td>\n      <td>0.973836</td>\n      <td>0.940090</td>\n      <td>0.961309</td>\n      <td>0.871350</td>\n      <td>0.963692</td>\n      <td>0.962783</td>\n    </tr>\n    <tr>\n      <th>TVGM</th>\n      <td>0.857664</td>\n      <td>0.944774</td>\n      <td>1.000000</td>\n      <td>0.925511</td>\n      <td>0.921419</td>\n      <td>0.930495</td>\n      <td>0.870571</td>\n      <td>0.925833</td>\n      <td>0.920119</td>\n    </tr>\n    <tr>\n      <th>TANK</th>\n      <td>0.860042</td>\n      <td>0.973836</td>\n      <td>0.925511</td>\n      <td>1.000000</td>\n      <td>0.945013</td>\n      <td>0.964770</td>\n      <td>0.871530</td>\n      <td>0.956504</td>\n      <td>0.965441</td>\n    </tr>\n    <tr>\n      <th>GR4J</th>\n      <td>0.849503</td>\n      <td>0.940090</td>\n      <td>0.921419</td>\n      <td>0.945013</td>\n      <td>1.000000</td>\n      <td>0.937331</td>\n      <td>0.876579</td>\n      <td>0.943849</td>\n      <td>0.942643</td>\n    </tr>\n    <tr>\n      <th>BP</th>\n      <td>0.872199</td>\n      <td>0.961309</td>\n      <td>0.930495</td>\n      <td>0.964770</td>\n      <td>0.937331</td>\n      <td>1.000000</td>\n      <td>0.878034</td>\n      <td>0.985629</td>\n      <td>0.984861</td>\n    </tr>\n    <tr>\n      <th>SVR</th>\n      <td>0.805346</td>\n      <td>0.871350</td>\n      <td>0.870571</td>\n      <td>0.871530</td>\n      <td>0.876579</td>\n      <td>0.878034</td>\n      <td>1.000000</td>\n      <td>0.879261</td>\n      <td>0.881262</td>\n    </tr>\n    <tr>\n      <th>LSTM</th>\n      <td>0.871112</td>\n      <td>0.963692</td>\n      <td>0.925833</td>\n      <td>0.956504</td>\n      <td>0.943849</td>\n      <td>0.985629</td>\n      <td>0.879261</td>\n      <td>1.000000</td>\n      <td>0.987849</td>\n    </tr>\n    <tr>\n      <th>RNN</th>\n      <td>0.868201</td>\n      <td>0.962783</td>\n      <td>0.920119</td>\n      <td>0.965441</td>\n      <td>0.942643</td>\n      <td>0.984861</td>\n      <td>0.881262</td>\n      <td>0.987849</td>\n      <td>1.000000</td>\n    </tr>\n  </tbody>\n</table>\n</div>"
     },
     "execution_count": 58,
     "metadata": {},
     "output_type": "execute_result"
    }
   ],
   "source": [
    "# 计算各特征值相关系数\n",
    "test_df.corr()"
   ],
   "metadata": {
    "collapsed": false,
    "ExecuteTime": {
     "end_time": "2024-03-20T13:04:08.548770Z",
     "start_time": "2024-03-20T13:04:08.347294Z"
    }
   },
   "id": "32e366e8d7d09e9f"
  },
  {
   "cell_type": "code",
   "execution_count": 59,
   "outputs": [
    {
     "data": {
      "text/plain": "          Qobs       XAJ      TVGM      TANK      GR4J        BP       SVR  \\\nQobs  1.000000  0.886951  0.845739  0.860932  0.874877  0.908281  0.821433   \nXAJ   0.886951  1.000000  0.943284  0.966673  0.949170  0.956846  0.879456   \nTVGM  0.845739  0.943284  1.000000  0.916126  0.924165  0.915209  0.897365   \nTANK  0.860932  0.966673  0.916126  1.000000  0.941997  0.949169  0.877882   \nGR4J  0.874877  0.949170  0.924165  0.941997  1.000000  0.945645  0.894168   \nBP    0.908281  0.956846  0.915209  0.949169  0.945645  1.000000  0.869450   \nSVR   0.821433  0.879456  0.897365  0.877882  0.894168  0.869450  1.000000   \nLSTM  0.896979  0.961657  0.911430  0.951032  0.952722  0.985705  0.881962   \nRNN   0.891230  0.957769  0.909944  0.966454  0.950102  0.976888  0.883635   \n\n          LSTM       RNN  \nQobs  0.896979  0.891230  \nXAJ   0.961657  0.957769  \nTVGM  0.911430  0.909944  \nTANK  0.951032  0.966454  \nGR4J  0.952722  0.950102  \nBP    0.985705  0.976888  \nSVR   0.881962  0.883635  \nLSTM  1.000000  0.983938  \nRNN   0.983938  1.000000  ",
      "text/html": "<div>\n<style scoped>\n    .dataframe tbody tr th:only-of-type {\n        vertical-align: middle;\n    }\n\n    .dataframe tbody tr th {\n        vertical-align: top;\n    }\n\n    .dataframe thead th {\n        text-align: right;\n    }\n</style>\n<table border=\"1\" class=\"dataframe\">\n  <thead>\n    <tr style=\"text-align: right;\">\n      <th></th>\n      <th>Qobs</th>\n      <th>XAJ</th>\n      <th>TVGM</th>\n      <th>TANK</th>\n      <th>GR4J</th>\n      <th>BP</th>\n      <th>SVR</th>\n      <th>LSTM</th>\n      <th>RNN</th>\n    </tr>\n  </thead>\n  <tbody>\n    <tr>\n      <th>Qobs</th>\n      <td>1.000000</td>\n      <td>0.886951</td>\n      <td>0.845739</td>\n      <td>0.860932</td>\n      <td>0.874877</td>\n      <td>0.908281</td>\n      <td>0.821433</td>\n      <td>0.896979</td>\n      <td>0.891230</td>\n    </tr>\n    <tr>\n      <th>XAJ</th>\n      <td>0.886951</td>\n      <td>1.000000</td>\n      <td>0.943284</td>\n      <td>0.966673</td>\n      <td>0.949170</td>\n      <td>0.956846</td>\n      <td>0.879456</td>\n      <td>0.961657</td>\n      <td>0.957769</td>\n    </tr>\n    <tr>\n      <th>TVGM</th>\n      <td>0.845739</td>\n      <td>0.943284</td>\n      <td>1.000000</td>\n      <td>0.916126</td>\n      <td>0.924165</td>\n      <td>0.915209</td>\n      <td>0.897365</td>\n      <td>0.911430</td>\n      <td>0.909944</td>\n    </tr>\n    <tr>\n      <th>TANK</th>\n      <td>0.860932</td>\n      <td>0.966673</td>\n      <td>0.916126</td>\n      <td>1.000000</td>\n      <td>0.941997</td>\n      <td>0.949169</td>\n      <td>0.877882</td>\n      <td>0.951032</td>\n      <td>0.966454</td>\n    </tr>\n    <tr>\n      <th>GR4J</th>\n      <td>0.874877</td>\n      <td>0.949170</td>\n      <td>0.924165</td>\n      <td>0.941997</td>\n      <td>1.000000</td>\n      <td>0.945645</td>\n      <td>0.894168</td>\n      <td>0.952722</td>\n      <td>0.950102</td>\n    </tr>\n    <tr>\n      <th>BP</th>\n      <td>0.908281</td>\n      <td>0.956846</td>\n      <td>0.915209</td>\n      <td>0.949169</td>\n      <td>0.945645</td>\n      <td>1.000000</td>\n      <td>0.869450</td>\n      <td>0.985705</td>\n      <td>0.976888</td>\n    </tr>\n    <tr>\n      <th>SVR</th>\n      <td>0.821433</td>\n      <td>0.879456</td>\n      <td>0.897365</td>\n      <td>0.877882</td>\n      <td>0.894168</td>\n      <td>0.869450</td>\n      <td>1.000000</td>\n      <td>0.881962</td>\n      <td>0.883635</td>\n    </tr>\n    <tr>\n      <th>LSTM</th>\n      <td>0.896979</td>\n      <td>0.961657</td>\n      <td>0.911430</td>\n      <td>0.951032</td>\n      <td>0.952722</td>\n      <td>0.985705</td>\n      <td>0.881962</td>\n      <td>1.000000</td>\n      <td>0.983938</td>\n    </tr>\n    <tr>\n      <th>RNN</th>\n      <td>0.891230</td>\n      <td>0.957769</td>\n      <td>0.909944</td>\n      <td>0.966454</td>\n      <td>0.950102</td>\n      <td>0.976888</td>\n      <td>0.883635</td>\n      <td>0.983938</td>\n      <td>1.000000</td>\n    </tr>\n  </tbody>\n</table>\n</div>"
     },
     "execution_count": 59,
     "metadata": {},
     "output_type": "execute_result"
    }
   ],
   "source": [
    "train_df.corr()"
   ],
   "metadata": {
    "collapsed": false,
    "ExecuteTime": {
     "end_time": "2024-03-20T13:04:08.548896Z",
     "start_time": "2024-03-20T13:04:08.354704Z"
    }
   },
   "id": "bb73aaf7de1e4427"
  },
  {
   "cell_type": "code",
   "execution_count": 60,
   "outputs": [
    {
     "name": "stdout",
     "output_type": "stream",
     "text": [
      "最佳拟合线：截距 [1.18494941] 回归系数： [[0.91418182 0.06517077]]\n",
      "MAE:52.076544434485726\n",
      "RMSE:120.22688177232556\n",
      "NSE:0.7868725009216944\n",
      "RE:1.981398533758699e-14\n",
      "Qmaxe:0.2010346813084004\n",
      "Qmine:0.38671344306032124\n",
      "MAE:58.217794729090464\n",
      "RMSE:137.16761105409284\n",
      "NSE:0.765841414378032\n",
      "RE:-4.830865018223892\n",
      "Qmaxe:0.24866657637803935\n",
      "Qmine:0.5966422535028254\n"
     ]
    },
    {
     "data": {
      "text/plain": "(58.217794729090464,\n 137.16761105409284,\n 0.765841414378032,\n -4.830865018223892,\n 0.24866657637803935,\n 0.5966422535028254)"
     },
     "execution_count": 60,
     "metadata": {},
     "output_type": "execute_result"
    }
   ],
   "source": [
    "\"\"\"\n",
    "方案一：两个概念性组合(XAJ+TANK)\n",
    "\"\"\"\n",
    "from sklearn.linear_model import LinearRegression\n",
    "from tool import Indicator\n",
    "\n",
    "# 处理数据\n",
    "trainX_XAJ = train_df.iloc[:, 1]\n",
    "trainX_TANK = train_df.iloc[:, 3]\n",
    "trainY1 = train_df.iloc[:, :1]\n",
    "trainX1 = pd.merge(trainX_XAJ, trainX_TANK, on=\"Date\", how=\"left\")\n",
    "testX_XAJ = test_df.iloc[:, 1]\n",
    "testX_TANK = test_df.iloc[:, 3]\n",
    "testY1 = test_df.iloc[:, :1]\n",
    "testX1 = pd.merge(testX_XAJ, testX_TANK, on=\"Date\", how=\"left\")\n",
    "\n",
    "#线性拟合\n",
    "model = LinearRegression()\n",
    "model.fit(trainX1, trainY1)\n",
    "# 截距\n",
    "a = model.intercept_\n",
    "# 回归系数\n",
    "b = model.coef_\n",
    "print(\"最佳拟合线：截距\", str(a), \"回归系数：\", str(b))\n",
    "\n",
    "#结果输出\n",
    "train_pred1 = model.predict(trainX1)\n",
    "train_pred1 = pd.DataFrame(train_pred1)\n",
    "train_pred1.columns = [\"MLR1\"]\n",
    "test_pred1 = model.predict(testX1)\n",
    "test_pred1 = pd.DataFrame(test_pred1)\n",
    "test_pred1.columns = [\"MLR1\"]\n",
    "# 数据输出\n",
    "\n",
    "#预报评估\n",
    "Indicator.eval(train_pred1[\"MLR1\"], train_df_copy[\"Qobs\"])\n",
    "Indicator.eval(test_pred1[\"MLR1\"], test_df_copy[\"Qobs\"])"
   ],
   "metadata": {
    "collapsed": false,
    "ExecuteTime": {
     "end_time": "2024-03-20T13:04:08.548963Z",
     "start_time": "2024-03-20T13:04:08.362413Z"
    }
   },
   "id": "3acf26712a929c74"
  },
  {
   "cell_type": "code",
   "execution_count": 65,
   "outputs": [
    {
     "name": "stdout",
     "output_type": "stream",
     "text": [
      "最佳拟合线：截距 [-17.77907642] 回归系数： [[1.08539566 0.07179535]]\n",
      "MAE:44.28875596011188\n",
      "RMSE:108.92017421905183\n",
      "NSE:0.8250745592593287\n",
      "RE:4.739387916980941e-15\n",
      "Qmaxe:0.003472667297840535\n",
      "Qmine:1.300165916108148\n",
      "MAE:54.39888664999484\n",
      "RMSE:138.6308576512689\n",
      "NSE:0.7608189564238417\n",
      "RE:-4.504770594151672\n",
      "Qmaxe:0.24524022302509815\n",
      "Qmine:0.223903392128479\n"
     ]
    },
    {
     "data": {
      "text/plain": "(54.39888664999484,\n 138.6308576512689,\n 0.7608189564238417,\n -4.504770594151672,\n 0.24524022302509815,\n 0.223903392128479)"
     },
     "execution_count": 65,
     "metadata": {},
     "output_type": "execute_result"
    }
   ],
   "source": [
    "\"\"\"\n",
    "方案二：两个黑箱组合(LSTM+BP)\n",
    "\"\"\"\n",
    "from sklearn.linear_model import LinearRegression\n",
    "from tool import Indicator\n",
    "\n",
    "# 处理数据\n",
    "trainX_BP = train_df.iloc[:, 5]\n",
    "trainX_LSTM = train_df.iloc[:, 7]\n",
    "trainY2 = train_df.iloc[:, :1]\n",
    "trainX2 = pd.merge(trainX_BP, trainX_LSTM, on=\"Date\", how=\"left\")\n",
    "testX_BP = test_df.iloc[:, 5]\n",
    "testX_LSTM = test_df.iloc[:, 7]\n",
    "testY2 = test_df.iloc[:, :1]\n",
    "testX2 = pd.merge(testX_BP, testX_LSTM, on=\"Date\", how=\"left\")\n",
    "\n",
    "#线性拟合\n",
    "model = LinearRegression()\n",
    "model.fit(trainX2, trainY2)\n",
    "# 截距\n",
    "a = model.intercept_\n",
    "# 回归系数\n",
    "b = model.coef_\n",
    "print(\"最佳拟合线：截距\", str(a), \"回归系数：\", str(b))\n",
    "\n",
    "#结果输出\n",
    "train_pred2 = model.predict(trainX2)\n",
    "train_pred2 = pd.DataFrame(train_pred2)\n",
    "train_pred2.columns = [\"MLR2\"]\n",
    "test_pred2 = model.predict(testX2)\n",
    "test_pred2 = pd.DataFrame(test_pred2)\n",
    "test_pred2.columns = [\"MLR2\"]\n",
    "# 数据输出\n",
    "\n",
    "#预报评估\n",
    "Indicator.eval(train_pred2[\"MLR2\"], train_df_copy[\"Qobs\"])\n",
    "Indicator.eval(test_pred2[\"MLR2\"], test_df_copy[\"Qobs\"])"
   ],
   "metadata": {
    "collapsed": false,
    "ExecuteTime": {
     "end_time": "2024-03-20T13:07:48.685372Z",
     "start_time": "2024-03-20T13:07:48.581595Z"
    }
   },
   "id": "f96b30ed70424a5"
  },
  {
   "cell_type": "code",
   "execution_count": 62,
   "outputs": [
    {
     "name": "stdout",
     "output_type": "stream",
     "text": [
      "最佳拟合线：截距 [-9.32783594] 回归系数： [[ 0.42077727 -0.27536463  1.05137782 -0.08113118]]\n",
      "MAE:42.45080575770199\n",
      "RMSE:106.74364305404131\n",
      "NSE:0.8319957130610461\n",
      "RE:1.8892722027590692e-14\n",
      "Qmaxe:0.05547332767591991\n",
      "Qmine:0.8955168874510557\n",
      "MAE:51.17562351764073\n",
      "RMSE:135.3270418189772\n",
      "NSE:0.772083318299621\n",
      "RE:-3.957611754227952\n",
      "Qmaxe:0.24965233144263668\n",
      "Qmine:0.24936825766402881\n"
     ]
    },
    {
     "data": {
      "text/plain": "(51.17562351764073,\n 135.3270418189772,\n 0.772083318299621,\n -3.957611754227952,\n 0.24965233144263668,\n 0.24936825766402881)"
     },
     "execution_count": 62,
     "metadata": {},
     "output_type": "execute_result"
    }
   ],
   "source": [
    "\"\"\"\n",
    "方案三：LSTM+BP+TANK+XAJ\n",
    "\"\"\"\n",
    "from sklearn.linear_model import LinearRegression\n",
    "from tool import Indicator\n",
    "\n",
    "# 处理数据\n",
    "trainY3 = train_df.iloc[:, :1]\n",
    "trainX3 = pd.merge(trainX1, trainX2, on=\"Date\", how=\"left\")\n",
    "testY3 = test_df.iloc[:, :1]\n",
    "testX3 = pd.merge(testX1, testX2, on=\"Date\", how=\"left\")\n",
    "\n",
    "#线性拟合\n",
    "model = LinearRegression()\n",
    "model.fit(trainX3, trainY3)\n",
    "# 截距\n",
    "a = model.intercept_\n",
    "# 回归系数\n",
    "b = model.coef_\n",
    "print(\"最佳拟合线：截距\", str(a), \"回归系数：\", str(b))\n",
    "\n",
    "#结果输出\n",
    "train_pred3 = model.predict(trainX3)\n",
    "train_pred3 = pd.DataFrame(train_pred3)\n",
    "train_pred3.columns = [\"MLR3\"]\n",
    "test_pred3 = model.predict(testX3)\n",
    "test_pred3 = pd.DataFrame(test_pred3)\n",
    "test_pred3.columns = [\"MLR3\"]\n",
    "# 数据输出\n",
    "\n",
    "#预报评估\n",
    "Indicator.eval(train_pred3[\"MLR3\"], train_df_copy[\"Qobs\"])\n",
    "Indicator.eval(test_pred3[\"MLR3\"], test_df_copy[\"Qobs\"])"
   ],
   "metadata": {
    "collapsed": false,
    "ExecuteTime": {
     "end_time": "2024-03-20T13:04:08.721248Z",
     "start_time": "2024-03-20T13:04:08.567212Z"
    }
   },
   "id": "9c44a65f45914592"
  },
  {
   "cell_type": "code",
   "execution_count": 63,
   "outputs": [
    {
     "data": {
      "text/plain": "                  Qobs       MLR1        MLR2        MLR3\nDate                                                     \n2013-03-27  357.285417   9.589830  494.457280  419.770756\n2013-03-28  266.375000  13.088628  245.629199  212.742119\n2013-03-29  292.975000  35.106562  227.685270  204.907933\n2013-03-30  279.295833  80.457292  331.036787  287.738013\n2013-03-31  263.750000  62.490997  261.493050  220.244884\n...                ...        ...         ...         ...\n2018-10-26   39.116250  61.614000   47.781167   58.809439\n2018-10-27   46.711250  86.327924  123.185375  132.833651\n2018-10-28   70.970417  82.734492  108.836878  111.672912\n2018-10-29   64.495417  75.083350   91.742597   94.967354\n2018-10-30   59.041250  66.851783   64.372942   74.539490\n\n[2044 rows x 4 columns]",
      "text/html": "<div>\n<style scoped>\n    .dataframe tbody tr th:only-of-type {\n        vertical-align: middle;\n    }\n\n    .dataframe tbody tr th {\n        vertical-align: top;\n    }\n\n    .dataframe thead th {\n        text-align: right;\n    }\n</style>\n<table border=\"1\" class=\"dataframe\">\n  <thead>\n    <tr style=\"text-align: right;\">\n      <th></th>\n      <th>Qobs</th>\n      <th>MLR1</th>\n      <th>MLR2</th>\n      <th>MLR3</th>\n    </tr>\n    <tr>\n      <th>Date</th>\n      <th></th>\n      <th></th>\n      <th></th>\n      <th></th>\n    </tr>\n  </thead>\n  <tbody>\n    <tr>\n      <th>2013-03-27</th>\n      <td>357.285417</td>\n      <td>9.589830</td>\n      <td>494.457280</td>\n      <td>419.770756</td>\n    </tr>\n    <tr>\n      <th>2013-03-28</th>\n      <td>266.375000</td>\n      <td>13.088628</td>\n      <td>245.629199</td>\n      <td>212.742119</td>\n    </tr>\n    <tr>\n      <th>2013-03-29</th>\n      <td>292.975000</td>\n      <td>35.106562</td>\n      <td>227.685270</td>\n      <td>204.907933</td>\n    </tr>\n    <tr>\n      <th>2013-03-30</th>\n      <td>279.295833</td>\n      <td>80.457292</td>\n      <td>331.036787</td>\n      <td>287.738013</td>\n    </tr>\n    <tr>\n      <th>2013-03-31</th>\n      <td>263.750000</td>\n      <td>62.490997</td>\n      <td>261.493050</td>\n      <td>220.244884</td>\n    </tr>\n    <tr>\n      <th>...</th>\n      <td>...</td>\n      <td>...</td>\n      <td>...</td>\n      <td>...</td>\n    </tr>\n    <tr>\n      <th>2018-10-26</th>\n      <td>39.116250</td>\n      <td>61.614000</td>\n      <td>47.781167</td>\n      <td>58.809439</td>\n    </tr>\n    <tr>\n      <th>2018-10-27</th>\n      <td>46.711250</td>\n      <td>86.327924</td>\n      <td>123.185375</td>\n      <td>132.833651</td>\n    </tr>\n    <tr>\n      <th>2018-10-28</th>\n      <td>70.970417</td>\n      <td>82.734492</td>\n      <td>108.836878</td>\n      <td>111.672912</td>\n    </tr>\n    <tr>\n      <th>2018-10-29</th>\n      <td>64.495417</td>\n      <td>75.083350</td>\n      <td>91.742597</td>\n      <td>94.967354</td>\n    </tr>\n    <tr>\n      <th>2018-10-30</th>\n      <td>59.041250</td>\n      <td>66.851783</td>\n      <td>64.372942</td>\n      <td>74.539490</td>\n    </tr>\n  </tbody>\n</table>\n<p>2044 rows × 4 columns</p>\n</div>"
     },
     "execution_count": 63,
     "metadata": {},
     "output_type": "execute_result"
    }
   ],
   "source": [
    "test_df_full = pd.concat([test_df_copy, test_pred1, test_pred2, test_pred3], axis=1)\n",
    "test_df_full = test_df_full.reset_index(drop=True)\n",
    "test_df_full = test_df_full.set_index('Date')\n",
    "test_df_full.to_csv(\"/Users/datou/PycharmProjects/model/JianyangSta/JY_ensemble/data/JY_MLRTest.csv\")\n",
    "train_df_full = pd.concat([train_df_copy, train_pred1, train_pred2, train_pred3], axis=1)\n",
    "train_df_full = train_df_full.reset_index(drop=True)\n",
    "train_df_full = train_df_full.set_index('Date')\n",
    "train_df_full.to_csv(\"/Users/datou/PycharmProjects/model/JianyangSta/JY_ensemble/data/JY_MLRTrain.csv\")\n",
    "test_df_full"
   ],
   "metadata": {
    "collapsed": false,
    "ExecuteTime": {
     "end_time": "2024-03-20T13:04:08.767238Z",
     "start_time": "2024-03-20T13:04:08.643307Z"
    }
   },
   "id": "7d10aeab5811e2e8"
  }
 ],
 "metadata": {
  "kernelspec": {
   "display_name": "Python 3",
   "language": "python",
   "name": "python3"
  },
  "language_info": {
   "codemirror_mode": {
    "name": "ipython",
    "version": 2
   },
   "file_extension": ".py",
   "mimetype": "text/x-python",
   "name": "python",
   "nbconvert_exporter": "python",
   "pygments_lexer": "ipython2",
   "version": "2.7.6"
  }
 },
 "nbformat": 4,
 "nbformat_minor": 5
}
